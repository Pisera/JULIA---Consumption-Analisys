{
 "cells": [
  {
   "cell_type": "code",
   "execution_count": 1,
   "id": "057ae970",
   "metadata": {},
   "outputs": [
    {
     "ename": "LoadError",
     "evalue": "UndefVarError: CSV not defined",
     "output_type": "error",
     "traceback": [
      "UndefVarError: CSV not defined",
      "",
      "Stacktrace:",
      " [1] top-level scope",
      "   @ In[1]:7",
      " [2] eval",
      "   @ ./boot.jl:373 [inlined]",
      " [3] include_string(mapexpr::typeof(REPL.softscope), mod::Module, code::String, filename::String)",
      "   @ Base ./loading.jl:1196"
     ]
    }
   ],
   "source": [
    "## Esempio per importare un file csv da una cartella\n",
    "#input\n",
    "year = \"2022\"\n",
    "mounth = \"gennaio\"\n",
    "df = []\n",
    "# output - data frame\n",
    "df = CSV.read(\"data_\"*year*\"/ExportData_\"*mounth*\".csv\", DataFrame, delim=';',\n",
    "    quoted=true, decimal=',', dateformat=\"dd/mm/yyyy\",header=1)\n",
    "df[:,95:end]\n",
    "delete!(df[:,end])"
   ]
  },
  {
   "cell_type": "code",
   "execution_count": null,
   "id": "06d9bb9c",
   "metadata": {},
   "outputs": [],
   "source": [
    "# crea feature giorno della settimana in dataframe \n",
    "\n",
    "for j = 1:N_day\n",
    "\n",
    "DayOfTheWeek[j] = Dates.dayname(j,1)\n",
    "\n",
    "days_of_the_week = DataFrame(DayOfTheWeek=[20, 40])\n",
    "    \n",
    " for j=1:size(df,2)\n",
    "    df[j,98] = Dates.dayname(j,1)\n",
    "end\n",
    "df.23:00-23:15"
   ]
  }
 ],
 "metadata": {
  "kernelspec": {
   "display_name": "Julia 1.7.0",
   "language": "julia",
   "name": "julia-1.7"
  },
  "language_info": {
   "file_extension": ".jl",
   "mimetype": "application/julia",
   "name": "julia",
   "version": "1.7.0"
  }
 },
 "nbformat": 4,
 "nbformat_minor": 5
}
