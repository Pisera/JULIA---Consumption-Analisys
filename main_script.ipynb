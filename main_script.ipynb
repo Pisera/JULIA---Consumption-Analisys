{
 "cells": [
  {
   "cell_type": "markdown",
   "id": "grateful-knock",
   "metadata": {},
   "source": [
    "# Analisi dei consumi elettrici di un utente domestico\n",
    "\n",
    "* A. input data - 1. year 2.mese <br>\n",
    "* B. data format- .csv\n",
    "* C. results - 1. Consumo energetico totale [kWh] 2. Consumo energetico giornaliero per ogni giorno del mese [kWh]\n",
    "> Consumi casa Silvia.\n",
    "\n",
    "<div class=\"alert alert-block alert-info\">\n",
    "<b>Tip:</b> Use blue boxes (alert-info) for tips and notes. \n",
    "If it’s a note, you don’t have to include the word “Note”.\n",
    "</div>"
   ]
  },
  {
   "cell_type": "markdown",
   "id": "5d1b9711",
   "metadata": {},
   "source": [
    "## 1. Preambolo"
   ]
  },
  {
   "cell_type": "code",
   "execution_count": 3,
   "id": "patent-affect",
   "metadata": {
    "scrolled": true
   },
   "outputs": [
    {
     "name": "stderr",
     "output_type": "stream",
     "text": [
      "\u001b[32m\u001b[1m   Resolving\u001b[22m\u001b[39m package versions...\n",
      "\u001b[32m\u001b[1m  No Changes\u001b[22m\u001b[39m to `~/.julia/environments/v1.7/Project.toml`\n",
      "\u001b[32m\u001b[1m  No Changes\u001b[22m\u001b[39m to `~/.julia/environments/v1.7/Manifest.toml`\n",
      "\u001b[32m\u001b[1m   Resolving\u001b[22m\u001b[39m package versions...\n",
      "\u001b[32m\u001b[1m  No Changes\u001b[22m\u001b[39m to `~/.julia/environments/v1.7/Project.toml`\n",
      "\u001b[32m\u001b[1m  No Changes\u001b[22m\u001b[39m to `~/.julia/environments/v1.7/Manifest.toml`\n",
      "\u001b[32m\u001b[1m   Resolving\u001b[22m\u001b[39m package versions...\n",
      "\u001b[32m\u001b[1m  No Changes\u001b[22m\u001b[39m to `~/.julia/environments/v1.7/Project.toml`\n",
      "\u001b[32m\u001b[1m  No Changes\u001b[22m\u001b[39m to `~/.julia/environments/v1.7/Manifest.toml`\n"
     ]
    }
   ],
   "source": [
    "using Pkg\n",
    "Pkg.add(\"CSV\")\n",
    "Pkg.add(\"DataFrames\")\n",
    "Pkg.add(\"Plots\")\n",
    "\n",
    "using CSV\n",
    "using DataFrames\n",
    "using Plots\n",
    "using Dates"
   ]
  },
  {
   "cell_type": "markdown",
   "id": "fancy-cursor",
   "metadata": {},
   "source": [
    "## 2. Importa dati consumi in un dataframe\n",
    "\n",
    "read CSV 2021 <br\n",
    "\n",
    "Esempio per importare 12 mesi da una cartella"
   ]
  },
  {
   "cell_type": "code",
   "execution_count": 42,
   "id": "650bd4a1",
   "metadata": {
    "scrolled": true
   },
   "outputs": [
    {
     "data": {
      "text/html": [
       "<div class=\"data-frame\"><p>28 rows × 3 columns</p><table class=\"data-frame\"><thead><tr><th></th><th>23:15-23:30</th><th>23:30-23:45</th><th>23:45-00:00</th></tr><tr><th></th><th title=\"Float64\">Float64</th><th title=\"Float64\">Float64</th><th title=\"Float64\">Float64</th></tr></thead><tbody><tr><th>1</th><td>0.058</td><td>0.043</td><td>0.029</td></tr><tr><th>2</th><td>0.003</td><td>0.033</td><td>0.033</td></tr><tr><th>3</th><td>0.007</td><td>0.008</td><td>0.013</td></tr><tr><th>4</th><td>0.008</td><td>0.007</td><td>0.007</td></tr><tr><th>5</th><td>0.007</td><td>0.007</td><td>0.014</td></tr><tr><th>6</th><td>0.003</td><td>0.004</td><td>0.004</td></tr><tr><th>7</th><td>0.027</td><td>0.029</td><td>0.02</td></tr><tr><th>8</th><td>0.007</td><td>0.006</td><td>0.005</td></tr><tr><th>9</th><td>0.004</td><td>0.004</td><td>0.003</td></tr><tr><th>10</th><td>0.029</td><td>0.026</td><td>0.023</td></tr><tr><th>11</th><td>0.007</td><td>0.029</td><td>0.028</td></tr><tr><th>12</th><td>0.006</td><td>0.009</td><td>0.031</td></tr><tr><th>13</th><td>0.003</td><td>0.004</td><td>0.004</td></tr><tr><th>14</th><td>0.044</td><td>0.062</td><td>0.047</td></tr><tr><th>15</th><td>0.042</td><td>0.042</td><td>0.043</td></tr><tr><th>16</th><td>0.022</td><td>0.007</td><td>0.004</td></tr><tr><th>17</th><td>0.003</td><td>0.004</td><td>0.003</td></tr><tr><th>18</th><td>0.004</td><td>0.004</td><td>0.01</td></tr><tr><th>19</th><td>0.03</td><td>0.03</td><td>0.024</td></tr><tr><th>20</th><td>0.008</td><td>0.008</td><td>0.008</td></tr><tr><th>21</th><td>0.004</td><td>0.004</td><td>0.004</td></tr><tr><th>22</th><td>0.072</td><td>0.073</td><td>0.07</td></tr><tr><th>23</th><td>0.033</td><td>0.045</td><td>0.03</td></tr><tr><th>24</th><td>0.041</td><td>0.051</td><td>0.034</td></tr><tr><th>25</th><td>0.039</td><td>0.039</td><td>0.04</td></tr><tr><th>26</th><td>0.021</td><td>0.022</td><td>0.019</td></tr><tr><th>27</th><td>0.047</td><td>0.048</td><td>0.047</td></tr><tr><th>28</th><td>0.007</td><td>0.006</td><td>0.006</td></tr></tbody></table></div>"
      ],
      "text/latex": [
       "\\begin{tabular}{r|ccc}\n",
       "\t& 23:15-23:30 & 23:30-23:45 & 23:45-00:00\\\\\n",
       "\t\\hline\n",
       "\t& Float64 & Float64 & Float64\\\\\n",
       "\t\\hline\n",
       "\t1 & 0.058 & 0.043 & 0.029 \\\\\n",
       "\t2 & 0.003 & 0.033 & 0.033 \\\\\n",
       "\t3 & 0.007 & 0.008 & 0.013 \\\\\n",
       "\t4 & 0.008 & 0.007 & 0.007 \\\\\n",
       "\t5 & 0.007 & 0.007 & 0.014 \\\\\n",
       "\t6 & 0.003 & 0.004 & 0.004 \\\\\n",
       "\t7 & 0.027 & 0.029 & 0.02 \\\\\n",
       "\t8 & 0.007 & 0.006 & 0.005 \\\\\n",
       "\t9 & 0.004 & 0.004 & 0.003 \\\\\n",
       "\t10 & 0.029 & 0.026 & 0.023 \\\\\n",
       "\t11 & 0.007 & 0.029 & 0.028 \\\\\n",
       "\t12 & 0.006 & 0.009 & 0.031 \\\\\n",
       "\t13 & 0.003 & 0.004 & 0.004 \\\\\n",
       "\t14 & 0.044 & 0.062 & 0.047 \\\\\n",
       "\t15 & 0.042 & 0.042 & 0.043 \\\\\n",
       "\t16 & 0.022 & 0.007 & 0.004 \\\\\n",
       "\t17 & 0.003 & 0.004 & 0.003 \\\\\n",
       "\t18 & 0.004 & 0.004 & 0.01 \\\\\n",
       "\t19 & 0.03 & 0.03 & 0.024 \\\\\n",
       "\t20 & 0.008 & 0.008 & 0.008 \\\\\n",
       "\t21 & 0.004 & 0.004 & 0.004 \\\\\n",
       "\t22 & 0.072 & 0.073 & 0.07 \\\\\n",
       "\t23 & 0.033 & 0.045 & 0.03 \\\\\n",
       "\t24 & 0.041 & 0.051 & 0.034 \\\\\n",
       "\t25 & 0.039 & 0.039 & 0.04 \\\\\n",
       "\t26 & 0.021 & 0.022 & 0.019 \\\\\n",
       "\t27 & 0.047 & 0.048 & 0.047 \\\\\n",
       "\t28 & 0.007 & 0.006 & 0.006 \\\\\n",
       "\\end{tabular}\n"
      ],
      "text/plain": [
       "\u001b[1m28×3 DataFrame\u001b[0m\n",
       "\u001b[1m Row \u001b[0m│\u001b[1m 23:15-23:30 \u001b[0m\u001b[1m 23:30-23:45 \u001b[0m\u001b[1m 23:45-00:00 \u001b[0m\n",
       "\u001b[1m     \u001b[0m│\u001b[90m Float64     \u001b[0m\u001b[90m Float64     \u001b[0m\u001b[90m Float64     \u001b[0m\n",
       "─────┼───────────────────────────────────────\n",
       "   1 │       0.058        0.043        0.029\n",
       "   2 │       0.003        0.033        0.033\n",
       "   3 │       0.007        0.008        0.013\n",
       "   4 │       0.008        0.007        0.007\n",
       "   5 │       0.007        0.007        0.014\n",
       "   6 │       0.003        0.004        0.004\n",
       "   7 │       0.027        0.029        0.02\n",
       "   8 │       0.007        0.006        0.005\n",
       "   9 │       0.004        0.004        0.003\n",
       "  10 │       0.029        0.026        0.023\n",
       "  11 │       0.007        0.029        0.028\n",
       "  ⋮  │      ⋮            ⋮            ⋮\n",
       "  19 │       0.03         0.03         0.024\n",
       "  20 │       0.008        0.008        0.008\n",
       "  21 │       0.004        0.004        0.004\n",
       "  22 │       0.072        0.073        0.07\n",
       "  23 │       0.033        0.045        0.03\n",
       "  24 │       0.041        0.051        0.034\n",
       "  25 │       0.039        0.039        0.04\n",
       "  26 │       0.021        0.022        0.019\n",
       "  27 │       0.047        0.048        0.047\n",
       "  28 │       0.007        0.006        0.006\n",
       "\u001b[36m                               7 rows omitted\u001b[0m"
      ]
     },
     "execution_count": 42,
     "metadata": {},
     "output_type": "execute_result"
    }
   ],
   "source": [
    "#input\n",
    "year = \"2021\"\n",
    "months = [\"gennaio\",\"febbraio\",\"marzo\",\"aprile\",\"maggio\",\"giugno\",\n",
    "\"luglio\",\"agosto\",\"settembre\",\"ottobre\",\"novembre\",\"dicembre\"]\n",
    "\n",
    "#inizializza dataframe\n",
    "df = []\n",
    "\n",
    "# output - dataframe annuale\n",
    "for i=1:12\n",
    "    \n",
    "    push!(df, CSV.read(\"data_\"*year*\"/ExportData_\"*months[i]*\".csv\", DataFrame, delim=';',\n",
    "    quoted=true, decimal=',', dateformat=\"dd/mm/yyyy\",header=1,drop=[:Column98]))\n",
    "    \n",
    "end\n",
    "\n",
    "# Osserva i risultati\n",
    "# i warning si accendono perche la prima riga dei csv non termina con ;\n",
    "# df è diventata una matrice con 12 righe\n",
    "# esempio\n",
    "# df[1] = data frame di gennaio\n",
    "# df[3]= data frame di marzo\n",
    "# df[2][:,95:end] = data frame di febbraio tutte le righe ultime tre colonne\n",
    "\n",
    "# esempio di come usare il data frame del 2021\n",
    "#df[2][:,95:end]\n",
    "\n",
    "# esempio su come avere il vettore che contiene i nomi delle colonne\n",
    "#names(df[2])\n",
    "\n",
    "# esempio di come avere il vettore che contiene tutti gli elementi di una colonna\n",
    "#df[2].\"00:00-00:15\"\n",
    "\n",
    "# esempio codice per saper che giorno della settimana era es Monday\n",
    "#Dates.dayname(df[1][10,1])\n",
    "\n",
    "# Number of day in the mounth\n",
    "#N_day = Int64(size(df[1],1))"
   ]
  },
  {
   "cell_type": "markdown",
   "id": "c01ff656",
   "metadata": {},
   "source": [
    "## 3. Calcola il consumo annuale"
   ]
  },
  {
   "cell_type": "code",
   "execution_count": 29,
   "id": "b0d166f8",
   "metadata": {},
   "outputs": [
    {
     "data": {
      "text/plain": [
       "783.3139999999999"
      ]
     },
     "execution_count": 29,
     "metadata": {},
     "output_type": "execute_result"
    }
   ],
   "source": [
    "# Consumo annuale totale [kWh]\n",
    "consumi_annuali = sum(sum(df[i][:,j]) for j =2:97 for i=1:12)"
   ]
  },
  {
   "cell_type": "markdown",
   "id": "5b7feec6",
   "metadata": {},
   "source": [
    "## 4. Calcola i consumi mensili"
   ]
  },
  {
   "cell_type": "code",
   "execution_count": 30,
   "id": "significant-combat",
   "metadata": {},
   "outputs": [
    {
     "data": {
      "text/plain": [
       "12-element Vector{Float64}:\n",
       " 70.0\n",
       " 56.33600000000002\n",
       " 88.217\n",
       " 62.38\n",
       " 58.69599999999999\n",
       " 52.347999999999985\n",
       " 53.87799999999999\n",
       " 43.21\n",
       " 57.023\n",
       " 72.74600000000004\n",
       " 86.39700000000002\n",
       " 82.08300000000001"
      ]
     },
     "execution_count": 30,
     "metadata": {},
     "output_type": "execute_result"
    }
   ],
   "source": [
    "# Consumo mensile totale [kWh]\n",
    "consumi_mensili = zeros(12)\n",
    "for i=1:12\n",
    " consumi_mensili[i] = sum(sum(df[i][:,j]) for j =2:97)\n",
    "end\n",
    "consumi_mensili"
   ]
  },
  {
   "cell_type": "markdown",
   "id": "566ffbcf",
   "metadata": {},
   "source": [
    "## 5. Calcola il consumo giornaliero e aggiungi al dataframe\n",
    "\n",
    "Alla colonna 98 del df vengono aggiunti il totale dei consumi giornalieri"
   ]
  },
  {
   "cell_type": "code",
   "execution_count": 45,
   "id": "b62248fd",
   "metadata": {
    "scrolled": true
   },
   "outputs": [
    {
     "data": {
      "text/html": [
       "<div class=\"data-frame\"><p>31 rows × 4 columns</p><table class=\"data-frame\"><thead><tr><th></th><th>23:15-23:30</th><th>23:30-23:45</th><th>23:45-00:00</th><th>ConsumiGiornalieri</th></tr><tr><th></th><th title=\"Float64\">Float64</th><th title=\"Float64\">Float64</th><th title=\"Float64\">Float64</th><th title=\"Float64\">Float64</th></tr></thead><tbody><tr><th>1</th><td>0.031</td><td>0.021</td><td>0.019</td><td>1.062</td></tr><tr><th>2</th><td>0.01</td><td>0.02</td><td>0.006</td><td>1.243</td></tr><tr><th>3</th><td>0.028</td><td>0.019</td><td>0.016</td><td>2.537</td></tr><tr><th>4</th><td>0.034</td><td>0.032</td><td>0.015</td><td>2.794</td></tr><tr><th>5</th><td>0.014</td><td>0.017</td><td>0.028</td><td>1.73</td></tr><tr><th>6</th><td>0.023</td><td>0.012</td><td>0.008</td><td>1.399</td></tr><tr><th>7</th><td>0.027</td><td>0.027</td><td>0.019</td><td>1.702</td></tr><tr><th>8</th><td>0.004</td><td>0.011</td><td>0.015</td><td>1.266</td></tr><tr><th>9</th><td>0.013</td><td>0.02</td><td>0.026</td><td>2.606</td></tr><tr><th>10</th><td>0.056</td><td>0.043</td><td>0.014</td><td>2.356</td></tr><tr><th>11</th><td>0.022</td><td>0.014</td><td>0.011</td><td>2.125</td></tr><tr><th>12</th><td>0.008</td><td>0.006</td><td>0.016</td><td>1.596</td></tr><tr><th>13</th><td>0.031</td><td>0.003</td><td>0.004</td><td>1.635</td></tr><tr><th>14</th><td>0.031</td><td>0.024</td><td>0.025</td><td>1.596</td></tr><tr><th>15</th><td>0.007</td><td>0.007</td><td>0.015</td><td>1.733</td></tr><tr><th>16</th><td>0.027</td><td>0.025</td><td>0.041</td><td>2.044</td></tr><tr><th>17</th><td>0.025</td><td>0.024</td><td>0.015</td><td>2.099</td></tr><tr><th>18</th><td>0.033</td><td>0.047</td><td>0.044</td><td>1.82</td></tr><tr><th>19</th><td>0.008</td><td>0.025</td><td>0.011</td><td>2.713</td></tr><tr><th>20</th><td>0.017</td><td>0.004</td><td>0.004</td><td>1.545</td></tr><tr><th>21</th><td>0.028</td><td>0.039</td><td>0.037</td><td>1.839</td></tr><tr><th>22</th><td>0.54</td><td>0.237</td><td>0.038</td><td>2.412</td></tr><tr><th>23</th><td>0.035</td><td>0.035</td><td>0.043</td><td>1.761</td></tr><tr><th>24</th><td>0.032</td><td>0.008</td><td>0.016</td><td>1.749</td></tr><tr><th>25</th><td>0.018</td><td>0.018</td><td>0.044</td><td>1.684</td></tr><tr><th>26</th><td>0.031</td><td>0.024</td><td>0.018</td><td>4.2</td></tr><tr><th>27</th><td>0.024</td><td>0.019</td><td>0.011</td><td>1.767</td></tr><tr><th>28</th><td>0.008</td><td>0.02</td><td>0.01</td><td>1.547</td></tr><tr><th>29</th><td>0.028</td><td>0.027</td><td>0.019</td><td>1.206</td></tr><tr><th>30</th><td>0.01</td><td>0.01</td><td>0.017</td><td>1.257</td></tr><tr><th>&vellip;</th><td>&vellip;</td><td>&vellip;</td><td>&vellip;</td><td>&vellip;</td></tr></tbody></table></div>"
      ],
      "text/latex": [
       "\\begin{tabular}{r|cccc}\n",
       "\t& 23:15-23:30 & 23:30-23:45 & 23:45-00:00 & ConsumiGiornalieri\\\\\n",
       "\t\\hline\n",
       "\t& Float64 & Float64 & Float64 & Float64\\\\\n",
       "\t\\hline\n",
       "\t1 & 0.031 & 0.021 & 0.019 & 1.062 \\\\\n",
       "\t2 & 0.01 & 0.02 & 0.006 & 1.243 \\\\\n",
       "\t3 & 0.028 & 0.019 & 0.016 & 2.537 \\\\\n",
       "\t4 & 0.034 & 0.032 & 0.015 & 2.794 \\\\\n",
       "\t5 & 0.014 & 0.017 & 0.028 & 1.73 \\\\\n",
       "\t6 & 0.023 & 0.012 & 0.008 & 1.399 \\\\\n",
       "\t7 & 0.027 & 0.027 & 0.019 & 1.702 \\\\\n",
       "\t8 & 0.004 & 0.011 & 0.015 & 1.266 \\\\\n",
       "\t9 & 0.013 & 0.02 & 0.026 & 2.606 \\\\\n",
       "\t10 & 0.056 & 0.043 & 0.014 & 2.356 \\\\\n",
       "\t11 & 0.022 & 0.014 & 0.011 & 2.125 \\\\\n",
       "\t12 & 0.008 & 0.006 & 0.016 & 1.596 \\\\\n",
       "\t13 & 0.031 & 0.003 & 0.004 & 1.635 \\\\\n",
       "\t14 & 0.031 & 0.024 & 0.025 & 1.596 \\\\\n",
       "\t15 & 0.007 & 0.007 & 0.015 & 1.733 \\\\\n",
       "\t16 & 0.027 & 0.025 & 0.041 & 2.044 \\\\\n",
       "\t17 & 0.025 & 0.024 & 0.015 & 2.099 \\\\\n",
       "\t18 & 0.033 & 0.047 & 0.044 & 1.82 \\\\\n",
       "\t19 & 0.008 & 0.025 & 0.011 & 2.713 \\\\\n",
       "\t20 & 0.017 & 0.004 & 0.004 & 1.545 \\\\\n",
       "\t21 & 0.028 & 0.039 & 0.037 & 1.839 \\\\\n",
       "\t22 & 0.54 & 0.237 & 0.038 & 2.412 \\\\\n",
       "\t23 & 0.035 & 0.035 & 0.043 & 1.761 \\\\\n",
       "\t24 & 0.032 & 0.008 & 0.016 & 1.749 \\\\\n",
       "\t25 & 0.018 & 0.018 & 0.044 & 1.684 \\\\\n",
       "\t26 & 0.031 & 0.024 & 0.018 & 4.2 \\\\\n",
       "\t27 & 0.024 & 0.019 & 0.011 & 1.767 \\\\\n",
       "\t28 & 0.008 & 0.02 & 0.01 & 1.547 \\\\\n",
       "\t29 & 0.028 & 0.027 & 0.019 & 1.206 \\\\\n",
       "\t30 & 0.01 & 0.01 & 0.017 & 1.257 \\\\\n",
       "\t$\\dots$ & $\\dots$ & $\\dots$ & $\\dots$ & $\\dots$ \\\\\n",
       "\\end{tabular}\n"
      ],
      "text/plain": [
       "\u001b[1m31×4 DataFrame\u001b[0m\n",
       "\u001b[1m Row \u001b[0m│\u001b[1m 23:15-23:30 \u001b[0m\u001b[1m 23:30-23:45 \u001b[0m\u001b[1m 23:45-00:00 \u001b[0m\u001b[1m ConsumiGiornalieri \u001b[0m\n",
       "\u001b[1m     \u001b[0m│\u001b[90m Float64     \u001b[0m\u001b[90m Float64     \u001b[0m\u001b[90m Float64     \u001b[0m\u001b[90m Float64            \u001b[0m\n",
       "─────┼───────────────────────────────────────────────────────────\n",
       "   1 │       0.031        0.021        0.019               1.062\n",
       "   2 │       0.01         0.02         0.006               1.243\n",
       "   3 │       0.028        0.019        0.016               2.537\n",
       "   4 │       0.034        0.032        0.015               2.794\n",
       "   5 │       0.014        0.017        0.028               1.73\n",
       "   6 │       0.023        0.012        0.008               1.399\n",
       "   7 │       0.027        0.027        0.019               1.702\n",
       "   8 │       0.004        0.011        0.015               1.266\n",
       "   9 │       0.013        0.02         0.026               2.606\n",
       "  10 │       0.056        0.043        0.014               2.356\n",
       "  11 │       0.022        0.014        0.011               2.125\n",
       "  ⋮  │      ⋮            ⋮            ⋮               ⋮\n",
       "  22 │       0.54         0.237        0.038               2.412\n",
       "  23 │       0.035        0.035        0.043               1.761\n",
       "  24 │       0.032        0.008        0.016               1.749\n",
       "  25 │       0.018        0.018        0.044               1.684\n",
       "  26 │       0.031        0.024        0.018               4.2\n",
       "  27 │       0.024        0.019        0.011               1.767\n",
       "  28 │       0.008        0.02         0.01                1.547\n",
       "  29 │       0.028        0.027        0.019               1.206\n",
       "  30 │       0.01         0.01         0.017               1.257\n",
       "  31 │       0.01         0.014        0.017               1.673\n",
       "\u001b[36m                                                  10 rows omitted\u001b[0m"
      ]
     },
     "execution_count": 45,
     "metadata": {},
     "output_type": "execute_result"
    }
   ],
   "source": [
    "for m = 1:12\n",
    "    \n",
    "    N_day = Int64(size(df[m],1))\n",
    "    daily_E_cons = zeros(N_day)\n",
    "    \n",
    "    for g = 1:N_day\n",
    "        daily_E_cons[g] = sum(df[m][g,2:97])\n",
    "    end\n",
    "    \n",
    "    df[m].ConsumiGiornalieri = daily_E_cons\n",
    "    \n",
    "end\n",
    "\n",
    "\n",
    "\n",
    "df[5][:,95:98] "
   ]
  },
  {
   "cell_type": "markdown",
   "id": "1b2fa702",
   "metadata": {},
   "source": [
    "## 6. Aggiungi giorno della settimana al dataframe"
   ]
  },
  {
   "cell_type": "code",
   "execution_count": 70,
   "id": "1757f015",
   "metadata": {},
   "outputs": [
    {
     "data": {
      "text/html": [
       "<div class=\"data-frame\"><p>31 rows × 5 columns</p><table class=\"data-frame\"><thead><tr><th></th><th>23:15-23:30</th><th>23:30-23:45</th><th>23:45-00:00</th><th>ConsumiGiornalieri</th><th>GiornoSettimana</th></tr><tr><th></th><th title=\"Float64\">Float64</th><th title=\"Float64\">Float64</th><th title=\"Float64\">Float64</th><th title=\"Float64\">Float64</th><th title=\"String\">String</th></tr></thead><tbody><tr><th>1</th><td>0.031</td><td>0.021</td><td>0.019</td><td>1.062</td><td>Saturday</td></tr><tr><th>2</th><td>0.01</td><td>0.02</td><td>0.006</td><td>1.243</td><td>Sunday</td></tr><tr><th>3</th><td>0.028</td><td>0.019</td><td>0.016</td><td>2.537</td><td>Monday</td></tr><tr><th>4</th><td>0.034</td><td>0.032</td><td>0.015</td><td>2.794</td><td>Tuesday</td></tr><tr><th>5</th><td>0.014</td><td>0.017</td><td>0.028</td><td>1.73</td><td>Wednesday</td></tr><tr><th>6</th><td>0.023</td><td>0.012</td><td>0.008</td><td>1.399</td><td>Thursday</td></tr><tr><th>7</th><td>0.027</td><td>0.027</td><td>0.019</td><td>1.702</td><td>Friday</td></tr><tr><th>8</th><td>0.004</td><td>0.011</td><td>0.015</td><td>1.266</td><td>Saturday</td></tr><tr><th>9</th><td>0.013</td><td>0.02</td><td>0.026</td><td>2.606</td><td>Sunday</td></tr><tr><th>10</th><td>0.056</td><td>0.043</td><td>0.014</td><td>2.356</td><td>Monday</td></tr><tr><th>11</th><td>0.022</td><td>0.014</td><td>0.011</td><td>2.125</td><td>Tuesday</td></tr><tr><th>12</th><td>0.008</td><td>0.006</td><td>0.016</td><td>1.596</td><td>Wednesday</td></tr><tr><th>13</th><td>0.031</td><td>0.003</td><td>0.004</td><td>1.635</td><td>Thursday</td></tr><tr><th>14</th><td>0.031</td><td>0.024</td><td>0.025</td><td>1.596</td><td>Friday</td></tr><tr><th>15</th><td>0.007</td><td>0.007</td><td>0.015</td><td>1.733</td><td>Saturday</td></tr><tr><th>16</th><td>0.027</td><td>0.025</td><td>0.041</td><td>2.044</td><td>Sunday</td></tr><tr><th>17</th><td>0.025</td><td>0.024</td><td>0.015</td><td>2.099</td><td>Monday</td></tr><tr><th>18</th><td>0.033</td><td>0.047</td><td>0.044</td><td>1.82</td><td>Tuesday</td></tr><tr><th>19</th><td>0.008</td><td>0.025</td><td>0.011</td><td>2.713</td><td>Wednesday</td></tr><tr><th>20</th><td>0.017</td><td>0.004</td><td>0.004</td><td>1.545</td><td>Thursday</td></tr><tr><th>21</th><td>0.028</td><td>0.039</td><td>0.037</td><td>1.839</td><td>Friday</td></tr><tr><th>22</th><td>0.54</td><td>0.237</td><td>0.038</td><td>2.412</td><td>Saturday</td></tr><tr><th>23</th><td>0.035</td><td>0.035</td><td>0.043</td><td>1.761</td><td>Sunday</td></tr><tr><th>24</th><td>0.032</td><td>0.008</td><td>0.016</td><td>1.749</td><td>Monday</td></tr><tr><th>25</th><td>0.018</td><td>0.018</td><td>0.044</td><td>1.684</td><td>Tuesday</td></tr><tr><th>26</th><td>0.031</td><td>0.024</td><td>0.018</td><td>4.2</td><td>Wednesday</td></tr><tr><th>27</th><td>0.024</td><td>0.019</td><td>0.011</td><td>1.767</td><td>Thursday</td></tr><tr><th>28</th><td>0.008</td><td>0.02</td><td>0.01</td><td>1.547</td><td>Friday</td></tr><tr><th>29</th><td>0.028</td><td>0.027</td><td>0.019</td><td>1.206</td><td>Saturday</td></tr><tr><th>30</th><td>0.01</td><td>0.01</td><td>0.017</td><td>1.257</td><td>Sunday</td></tr><tr><th>&vellip;</th><td>&vellip;</td><td>&vellip;</td><td>&vellip;</td><td>&vellip;</td><td>&vellip;</td></tr></tbody></table></div>"
      ],
      "text/latex": [
       "\\begin{tabular}{r|ccccc}\n",
       "\t& 23:15-23:30 & 23:30-23:45 & 23:45-00:00 & ConsumiGiornalieri & GiornoSettimana\\\\\n",
       "\t\\hline\n",
       "\t& Float64 & Float64 & Float64 & Float64 & String\\\\\n",
       "\t\\hline\n",
       "\t1 & 0.031 & 0.021 & 0.019 & 1.062 & Saturday \\\\\n",
       "\t2 & 0.01 & 0.02 & 0.006 & 1.243 & Sunday \\\\\n",
       "\t3 & 0.028 & 0.019 & 0.016 & 2.537 & Monday \\\\\n",
       "\t4 & 0.034 & 0.032 & 0.015 & 2.794 & Tuesday \\\\\n",
       "\t5 & 0.014 & 0.017 & 0.028 & 1.73 & Wednesday \\\\\n",
       "\t6 & 0.023 & 0.012 & 0.008 & 1.399 & Thursday \\\\\n",
       "\t7 & 0.027 & 0.027 & 0.019 & 1.702 & Friday \\\\\n",
       "\t8 & 0.004 & 0.011 & 0.015 & 1.266 & Saturday \\\\\n",
       "\t9 & 0.013 & 0.02 & 0.026 & 2.606 & Sunday \\\\\n",
       "\t10 & 0.056 & 0.043 & 0.014 & 2.356 & Monday \\\\\n",
       "\t11 & 0.022 & 0.014 & 0.011 & 2.125 & Tuesday \\\\\n",
       "\t12 & 0.008 & 0.006 & 0.016 & 1.596 & Wednesday \\\\\n",
       "\t13 & 0.031 & 0.003 & 0.004 & 1.635 & Thursday \\\\\n",
       "\t14 & 0.031 & 0.024 & 0.025 & 1.596 & Friday \\\\\n",
       "\t15 & 0.007 & 0.007 & 0.015 & 1.733 & Saturday \\\\\n",
       "\t16 & 0.027 & 0.025 & 0.041 & 2.044 & Sunday \\\\\n",
       "\t17 & 0.025 & 0.024 & 0.015 & 2.099 & Monday \\\\\n",
       "\t18 & 0.033 & 0.047 & 0.044 & 1.82 & Tuesday \\\\\n",
       "\t19 & 0.008 & 0.025 & 0.011 & 2.713 & Wednesday \\\\\n",
       "\t20 & 0.017 & 0.004 & 0.004 & 1.545 & Thursday \\\\\n",
       "\t21 & 0.028 & 0.039 & 0.037 & 1.839 & Friday \\\\\n",
       "\t22 & 0.54 & 0.237 & 0.038 & 2.412 & Saturday \\\\\n",
       "\t23 & 0.035 & 0.035 & 0.043 & 1.761 & Sunday \\\\\n",
       "\t24 & 0.032 & 0.008 & 0.016 & 1.749 & Monday \\\\\n",
       "\t25 & 0.018 & 0.018 & 0.044 & 1.684 & Tuesday \\\\\n",
       "\t26 & 0.031 & 0.024 & 0.018 & 4.2 & Wednesday \\\\\n",
       "\t27 & 0.024 & 0.019 & 0.011 & 1.767 & Thursday \\\\\n",
       "\t28 & 0.008 & 0.02 & 0.01 & 1.547 & Friday \\\\\n",
       "\t29 & 0.028 & 0.027 & 0.019 & 1.206 & Saturday \\\\\n",
       "\t30 & 0.01 & 0.01 & 0.017 & 1.257 & Sunday \\\\\n",
       "\t$\\dots$ & $\\dots$ & $\\dots$ & $\\dots$ & $\\dots$ & $\\dots$ \\\\\n",
       "\\end{tabular}\n"
      ],
      "text/plain": [
       "\u001b[1m31×5 DataFrame\u001b[0m\n",
       "\u001b[1m Row \u001b[0m│\u001b[1m 23:15-23:30 \u001b[0m\u001b[1m 23:30-23:45 \u001b[0m\u001b[1m 23:45-00:00 \u001b[0m\u001b[1m ConsumiGiornalieri \u001b[0m\u001b[1m GiornoSettim\u001b[0m ⋯\n",
       "\u001b[1m     \u001b[0m│\u001b[90m Float64     \u001b[0m\u001b[90m Float64     \u001b[0m\u001b[90m Float64     \u001b[0m\u001b[90m Float64            \u001b[0m\u001b[90m String      \u001b[0m ⋯\n",
       "─────┼──────────────────────────────────────────────────────────────────────────\n",
       "   1 │       0.031        0.021        0.019               1.062  Saturday     ⋯\n",
       "   2 │       0.01         0.02         0.006               1.243  Sunday\n",
       "   3 │       0.028        0.019        0.016               2.537  Monday\n",
       "   4 │       0.034        0.032        0.015               2.794  Tuesday\n",
       "   5 │       0.014        0.017        0.028               1.73   Wednesday    ⋯\n",
       "   6 │       0.023        0.012        0.008               1.399  Thursday\n",
       "   7 │       0.027        0.027        0.019               1.702  Friday\n",
       "   8 │       0.004        0.011        0.015               1.266  Saturday\n",
       "   9 │       0.013        0.02         0.026               2.606  Sunday       ⋯\n",
       "  10 │       0.056        0.043        0.014               2.356  Monday\n",
       "  11 │       0.022        0.014        0.011               2.125  Tuesday\n",
       "  ⋮  │      ⋮            ⋮            ⋮               ⋮                  ⋮     ⋱\n",
       "  22 │       0.54         0.237        0.038               2.412  Saturday\n",
       "  23 │       0.035        0.035        0.043               1.761  Sunday       ⋯\n",
       "  24 │       0.032        0.008        0.016               1.749  Monday\n",
       "  25 │       0.018        0.018        0.044               1.684  Tuesday\n",
       "  26 │       0.031        0.024        0.018               4.2    Wednesday\n",
       "  27 │       0.024        0.019        0.011               1.767  Thursday     ⋯\n",
       "  28 │       0.008        0.02         0.01                1.547  Friday\n",
       "  29 │       0.028        0.027        0.019               1.206  Saturday\n",
       "  30 │       0.01         0.01         0.017               1.257  Sunday\n",
       "  31 │       0.01         0.014        0.017               1.673  Monday       ⋯\n",
       "\u001b[36m                                                    1 column and 10 rows omitted\u001b[0m"
      ]
     },
     "execution_count": 70,
     "metadata": {},
     "output_type": "execute_result"
    }
   ],
   "source": [
    "for m = 1:12\n",
    "    \n",
    "    N_day = Int64(size(df[m],1))\n",
    "    week_day = Array{String}(undef,N_day)\n",
    "    \n",
    "    for g = 1:N_day\n",
    "        week_day[g] = Dates.dayname(df[m][g,1])\n",
    "    end\n",
    "    \n",
    "    df[m].GiornoSettimana = week_day\n",
    "    \n",
    "end\n",
    "\n",
    "df[5][:,95:end]"
   ]
  },
  {
   "cell_type": "code",
   "execution_count": null,
   "id": "58754817",
   "metadata": {},
   "outputs": [],
   "source": []
  }
 ],
 "metadata": {
  "kernelspec": {
   "display_name": "Julia 1.7.0",
   "language": "julia",
   "name": "julia-1.7"
  },
  "language_info": {
   "file_extension": ".jl",
   "mimetype": "application/julia",
   "name": "julia",
   "version": "1.7.0"
  },
  "widgets": {
   "application/vnd.jupyter.widget-state+json": {
    "state": {},
    "version_major": 2,
    "version_minor": 0
   }
  }
 },
 "nbformat": 4,
 "nbformat_minor": 5
}
