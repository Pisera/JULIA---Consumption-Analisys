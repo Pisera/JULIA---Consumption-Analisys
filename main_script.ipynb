{
 "cells": [
  {
   "cell_type": "markdown",
   "id": "230637e6",
   "metadata": {},
   "source": [
    "# Import data \n"
   ]
  },
  {
   "cell_type": "code",
   "execution_count": 8,
   "id": "95a2f4a3",
   "metadata": {},
   "outputs": [
    {
     "name": "stderr",
     "output_type": "stream",
     "text": [
      "\u001b[32m\u001b[1m   Resolving\u001b[22m\u001b[39m package versions...\n",
      "\u001b[32m\u001b[1m  No Changes\u001b[22m\u001b[39m to `~/.julia/environments/v1.7/Project.toml`\n",
      "\u001b[32m\u001b[1m  No Changes\u001b[22m\u001b[39m to `~/.julia/environments/v1.7/Manifest.toml`\n"
     ]
    }
   ],
   "source": [
    "using Pkg\n",
    "Pkg.add(\"CSV\")"
   ]
  },
  {
   "cell_type": "code",
   "execution_count": 9,
   "id": "aba27550",
   "metadata": {},
   "outputs": [
    {
     "name": "stderr",
     "output_type": "stream",
     "text": [
      "\u001b[32m\u001b[1m   Resolving\u001b[22m\u001b[39m package versions...\n",
      "\u001b[32m\u001b[1m  No Changes\u001b[22m\u001b[39m to `~/.julia/environments/v1.7/Project.toml`\n",
      "\u001b[32m\u001b[1m  No Changes\u001b[22m\u001b[39m to `~/.julia/environments/v1.7/Manifest.toml`\n"
     ]
    }
   ],
   "source": [
    "using Pkg\n",
    "Pkg.add(\"DataFrames\")"
   ]
  },
  {
   "cell_type": "code",
   "execution_count": 119,
   "id": "8be3d3a9",
   "metadata": {},
   "outputs": [
    {
     "name": "stderr",
     "output_type": "stream",
     "text": [
      "\u001b[32m\u001b[1m   Resolving\u001b[22m\u001b[39m package versions...\n",
      "\u001b[32m\u001b[1m  No Changes\u001b[22m\u001b[39m to `~/.julia/environments/v1.7/Project.toml`\n",
      "\u001b[32m\u001b[1m  No Changes\u001b[22m\u001b[39m to `~/.julia/environments/v1.7/Manifest.toml`\n"
     ]
    }
   ],
   "source": [
    "using Pkg\n",
    "Pkg.add(\"Plots\")"
   ]
  },
  {
   "cell_type": "code",
   "execution_count": 120,
   "id": "bda5dbf6",
   "metadata": {},
   "outputs": [],
   "source": [
    "using CSV\n",
    "using DataFrames\n",
    "using Plots"
   ]
  },
  {
   "cell_type": "code",
   "execution_count": 130,
   "id": "a6a99b04",
   "metadata": {},
   "outputs": [
    {
     "data": {
      "text/plain": [
       "0.023"
      ]
     },
     "execution_count": 130,
     "metadata": {},
     "output_type": "execute_result"
    }
   ],
   "source": [
    "df = CSV.read(\"data_2022/ExportData_febbraio.csv\", DataFrame,  delim=';',\n",
    "    quoted=true, decimal=',', dateformat=\"dd/mm/yyyy\",header=1);"
   ]
  },
  {
   "cell_type": "code",
   "execution_count": 126,
   "id": "a17569e3",
   "metadata": {},
   "outputs": [
    {
     "data": {
      "text/plain": [
       "28"
      ]
     },
     "execution_count": 126,
     "metadata": {},
     "output_type": "execute_result"
    }
   ],
   "source": [
    "N_day = Int64(size(df,1))"
   ]
  },
  {
   "cell_type": "code",
   "execution_count": 134,
   "id": "df68427e",
   "metadata": {},
   "outputs": [
    {
     "data": {
      "text/plain": [
       "0.505"
      ]
     },
     "execution_count": 134,
     "metadata": {},
     "output_type": "execute_result"
    }
   ],
   "source": [
    "sum(df[1:28,2])"
   ]
  },
  {
   "cell_type": "code",
   "execution_count": 121,
   "id": "8fcdf7fa",
   "metadata": {},
   "outputs": [
    {
     "ename": "LoadError",
     "evalue": "Cannot convert DataFrameRow{DataFrame, DataFrames.SubIndex{DataFrames.Index, UnitRange{Int64}, UnitRange{Int64}}} to series data for plotting",
     "output_type": "error",
     "traceback": [
      "Cannot convert DataFrameRow{DataFrame, DataFrames.SubIndex{DataFrames.Index, UnitRange{Int64}, UnitRange{Int64}}} to series data for plotting",
      "",
      "Stacktrace:",
      "  [1] error(s::String)",
      "    @ Base ./error.jl:33",
      "  [2] _prepare_series_data(x::DataFrameRow{DataFrame, DataFrames.SubIndex{DataFrames.Index, UnitRange{Int64}, UnitRange{Int64}}})",
      "    @ RecipesPipeline ~/.julia/packages/RecipesPipeline/Bxu2O/src/series.jl:8",
      "  [3] _series_data_vector(x::DataFrameRow{DataFrame, DataFrames.SubIndex{DataFrames.Index, UnitRange{Int64}, UnitRange{Int64}}}, plotattributes::Dict{Symbol, Any})",
      "    @ RecipesPipeline ~/.julia/packages/RecipesPipeline/Bxu2O/src/series.jl:27",
      "  [4] macro expansion",
      "    @ ~/.julia/packages/RecipesPipeline/Bxu2O/src/series.jl:144 [inlined]",
      "  [5] apply_recipe(plotattributes::AbstractDict{Symbol, Any}, #unused#::Type{RecipesPipeline.SliceIt}, x::Any, y::Any, z::Any)",
      "    @ RecipesPipeline ~/.julia/packages/RecipesBase/qpxEX/src/RecipesBase.jl:289",
      "  [6] _process_userrecipes!(plt::Any, plotattributes::Any, args::Any)",
      "    @ RecipesPipeline ~/.julia/packages/RecipesPipeline/Bxu2O/src/user_recipe.jl:36",
      "  [7] recipe_pipeline!(plt::Any, plotattributes::Any, args::Any)",
      "    @ RecipesPipeline ~/.julia/packages/RecipesPipeline/Bxu2O/src/RecipesPipeline.jl:70",
      "  [8] _plot!(plt::Plots.Plot, plotattributes::Any, args::Any)",
      "    @ Plots ~/.julia/packages/Plots/Xv2qA/src/plot.jl:208",
      "  [9] plot(::Any, ::Vararg{Any}; kw::Base.Pairs{Symbol, V, Tuple{Vararg{Symbol, N}}, NamedTuple{names, T}} where {V, N, names, T<:Tuple{Vararg{Any, N}}})",
      "    @ Plots ~/.julia/packages/Plots/Xv2qA/src/plot.jl:91",
      " [10] histogram(::Any, ::Vararg{Any}; kw::Base.Pairs{Symbol, V, Tuple{Vararg{Symbol, N}}, NamedTuple{names, T}} where {V, N, names, T<:Tuple{Vararg{Any, N}}})",
      "    @ Plots ~/.julia/packages/RecipesBase/qpxEX/src/RecipesBase.jl:410",
      " [11] histogram(::Any, ::Vararg{Any})",
      "    @ Plots ~/.julia/packages/RecipesBase/qpxEX/src/RecipesBase.jl:410",
      " [12] top-level scope",
      "    @ In[121]:2",
      " [13] eval",
      "    @ ./boot.jl:373 [inlined]",
      " [14] include_string(mapexpr::typeof(REPL.softscope), mod::Module, code::String, filename::String)",
      "    @ Base ./loading.jl:1196"
     ]
    }
   ],
   "source": [
    "x = 1:96\n",
    "plot = histogram(x, df[1,2:97])"
   ]
  },
  {
   "cell_type": "code",
   "execution_count": 124,
   "id": "8dc8be93",
   "metadata": {},
   "outputs": [
    {
     "ename": "LoadError",
     "evalue": "Cannot convert DataFrameRow{DataFrame, DataFrames.SubIndex{DataFrames.Index, UnitRange{Int64}, UnitRange{Int64}}} to series data for plotting",
     "output_type": "error",
     "traceback": [
      "Cannot convert DataFrameRow{DataFrame, DataFrames.SubIndex{DataFrames.Index, UnitRange{Int64}, UnitRange{Int64}}} to series data for plotting",
      "",
      "Stacktrace:",
      "  [1] error(s::String)",
      "    @ Base ./error.jl:33",
      "  [2] _prepare_series_data(x::DataFrameRow{DataFrame, DataFrames.SubIndex{DataFrames.Index, UnitRange{Int64}, UnitRange{Int64}}})",
      "    @ RecipesPipeline ~/.julia/packages/RecipesPipeline/Bxu2O/src/series.jl:8",
      "  [3] _series_data_vector(x::DataFrameRow{DataFrame, DataFrames.SubIndex{DataFrames.Index, UnitRange{Int64}, UnitRange{Int64}}}, plotattributes::Dict{Symbol, Any})",
      "    @ RecipesPipeline ~/.julia/packages/RecipesPipeline/Bxu2O/src/series.jl:27",
      "  [4] macro expansion",
      "    @ ~/.julia/packages/RecipesPipeline/Bxu2O/src/series.jl:144 [inlined]",
      "  [5] apply_recipe(plotattributes::AbstractDict{Symbol, Any}, #unused#::Type{RecipesPipeline.SliceIt}, x::Any, y::Any, z::Any)",
      "    @ RecipesPipeline ~/.julia/packages/RecipesBase/qpxEX/src/RecipesBase.jl:289",
      "  [6] _process_userrecipes!(plt::Any, plotattributes::Any, args::Any)",
      "    @ RecipesPipeline ~/.julia/packages/RecipesPipeline/Bxu2O/src/user_recipe.jl:36",
      "  [7] recipe_pipeline!(plt::Any, plotattributes::Any, args::Any)",
      "    @ RecipesPipeline ~/.julia/packages/RecipesPipeline/Bxu2O/src/RecipesPipeline.jl:70",
      "  [8] _plot!(plt::Plots.Plot, plotattributes::Any, args::Any)",
      "    @ Plots ~/.julia/packages/Plots/Xv2qA/src/plot.jl:208",
      "  [9] plot(args::Any; kw::Base.Pairs{Symbol, V, Tuple{Vararg{Symbol, N}}, NamedTuple{names, T}} where {V, N, names, T<:Tuple{Vararg{Any, N}}})",
      "    @ Plots ~/.julia/packages/Plots/Xv2qA/src/plot.jl:91",
      " [10] plot(args::Any)",
      "    @ Plots ~/.julia/packages/Plots/Xv2qA/src/plot.jl:85",
      " [11] top-level scope",
      "    @ In[124]:1",
      " [12] eval",
      "    @ ./boot.jl:373 [inlined]",
      " [13] include_string(mapexpr::typeof(REPL.softscope), mod::Module, code::String, filename::String)",
      "    @ Base ./loading.jl:1196"
     ]
    }
   ],
   "source": [
    "plot(df[1,96:97])"
   ]
  },
  {
   "cell_type": "code",
   "execution_count": 111,
   "id": "c5736bcf",
   "metadata": {},
   "outputs": [
    {
     "data": {
      "text/plain": [
       "96"
      ]
     },
     "execution_count": 111,
     "metadata": {},
     "output_type": "execute_result"
    }
   ],
   "source": [
    "x = 1:96\n",
    "x[96]"
   ]
  },
  {
   "cell_type": "code",
   "execution_count": 108,
   "id": "73b4f54e",
   "metadata": {},
   "outputs": [
    {
     "ename": "LoadError",
     "evalue": "BoundsError: attempt to access 1-element Vector{StepRange{Int64, Int64}} at index [10]",
     "output_type": "error",
     "traceback": [
      "BoundsError: attempt to access 1-element Vector{StepRange{Int64, Int64}} at index [10]",
      "",
      "Stacktrace:",
      " [1] getindex(A::Vector{StepRange{Int64, Int64}}, i1::Int64)",
      "   @ Base ./array.jl:861",
      " [2] top-level scope",
      "   @ In[108]:1",
      " [3] eval",
      "   @ ./boot.jl:373 [inlined]",
      " [4] include_string(mapexpr::typeof(REPL.softscope), mod::Module, code::String, filename::String)",
      "   @ Base ./loading.jl:1196"
     ]
    }
   ],
   "source": []
  },
  {
   "cell_type": "code",
   "execution_count": null,
   "id": "9e1f4da2",
   "metadata": {},
   "outputs": [],
   "source": []
  }
 ],
 "metadata": {
  "kernelspec": {
   "display_name": "Julia 1.7.0",
   "language": "julia",
   "name": "julia-1.7"
  },
  "language_info": {
   "file_extension": ".jl",
   "mimetype": "application/julia",
   "name": "julia",
   "version": "1.7.0"
  }
 },
 "nbformat": 4,
 "nbformat_minor": 5
}
