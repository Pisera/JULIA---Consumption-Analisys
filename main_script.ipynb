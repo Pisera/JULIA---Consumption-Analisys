{
 "cells": [
  {
   "cell_type": "markdown",
   "id": "230637e6",
   "metadata": {},
   "source": [
    "# Analisys of residential consumption \n",
    "input data - 1. year 2.mese\n",
    "data format- .csv\n",
    "results - 1. Consumo energetico totale [kWh] 2. Consumo energetico giornaliero per ogni giorno del mese [kWh]"
   ]
  },
  {
   "cell_type": "code",
   "execution_count": 8,
   "id": "95a2f4a3",
   "metadata": {},
   "outputs": [
    {
     "name": "stderr",
     "output_type": "stream",
     "text": [
      "\u001b[32m\u001b[1m   Resolving\u001b[22m\u001b[39m package versions...\n",
      "\u001b[32m\u001b[1m  No Changes\u001b[22m\u001b[39m to `~/.julia/environments/v1.7/Project.toml`\n",
      "\u001b[32m\u001b[1m  No Changes\u001b[22m\u001b[39m to `~/.julia/environments/v1.7/Manifest.toml`\n"
     ]
    }
   ],
   "source": [
    "using Pkg\n",
    "Pkg.add(\"CSV\")\n",
    "Pkg.add(\"DataFrames\")\n",
    "Pkg.add(\"Plots\")"
   ]
  },
  {
   "cell_type": "code",
   "execution_count": 21,
   "id": "bda5dbf6",
   "metadata": {},
   "outputs": [],
   "source": [
    "using CSV\n",
    "using DataFrames\n",
    "using Plots"
   ]
  },
  {
   "cell_type": "markdown",
   "id": "07a42f1b",
   "metadata": {},
   "source": [
    "## read CSV"
   ]
  },
  {
   "cell_type": "code",
   "execution_count": 44,
   "id": "a6a99b04",
   "metadata": {},
   "outputs": [
    {
     "name": "stderr",
     "output_type": "stream",
     "text": [
      "┌ Warning: thread = 1 warning: parsed expected 97 columns, but didn't reach end of line around data row: 1. Parsing extra columns and widening final columnset\n",
      "└ @ CSV /Users/diegopisera/.julia/packages/CSV/0Elut/src/file.jl:578\n"
     ]
    },
    {
     "data": {
      "text/html": [
       "<div class=\"data-frame\"><p>30 rows × 98 columns (omitted printing of 91 columns)</p><table class=\"data-frame\"><thead><tr><th></th><th>Giorno</th><th>00:00-00:15</th><th>00:15-00:30</th><th>00:30-00:45</th><th>00:45-01:00</th><th>01:00-01:15</th><th>01:15-01:30</th></tr><tr><th></th><th title=\"Dates.Date\">Date</th><th title=\"Float64\">Float64</th><th title=\"Float64\">Float64</th><th title=\"Float64\">Float64</th><th title=\"Float64\">Float64</th><th title=\"Float64\">Float64</th><th title=\"Float64\">Float64</th></tr></thead><tbody><tr><th>1</th><td>2022-04-01</td><td>0.007</td><td>0.007</td><td>0.016</td><td>0.004</td><td>0.004</td><td>0.013</td></tr><tr><th>2</th><td>2022-04-02</td><td>0.163</td><td>0.224</td><td>0.19</td><td>0.29</td><td>0.024</td><td>0.008</td></tr><tr><th>3</th><td>2022-04-03</td><td>0.003</td><td>0.004</td><td>0.013</td><td>0.007</td><td>0.004</td><td>0.014</td></tr><tr><th>4</th><td>2022-04-04</td><td>0.063</td><td>0.028</td><td>0.022</td><td>0.031</td><td>0.016</td><td>0.006</td></tr><tr><th>5</th><td>2022-04-05</td><td>0.007</td><td>0.008</td><td>0.02</td><td>0.004</td><td>0.004</td><td>0.015</td></tr><tr><th>6</th><td>2022-04-06</td><td>0.292</td><td>0.217</td><td>0.112</td><td>0.319</td><td>0.06</td><td>0.007</td></tr><tr><th>7</th><td>2022-04-07</td><td>0.004</td><td>0.013</td><td>0.009</td><td>0.003</td><td>0.004</td><td>0.009</td></tr><tr><th>8</th><td>2022-04-08</td><td>0.007</td><td>0.008</td><td>0.019</td><td>0.008</td><td>0.008</td><td>0.014</td></tr><tr><th>9</th><td>2022-04-09</td><td>0.004</td><td>0.01</td><td>0.012</td><td>0.004</td><td>0.005</td><td>0.016</td></tr><tr><th>10</th><td>2022-04-10</td><td>0.004</td><td>0.004</td><td>0.011</td><td>0.008</td><td>0.004</td><td>0.004</td></tr><tr><th>11</th><td>2022-04-11</td><td>0.231</td><td>0.007</td><td>0.009</td><td>0.013</td><td>0.004</td><td>0.005</td></tr><tr><th>12</th><td>2022-04-12</td><td>0.01</td><td>0.019</td><td>0.012</td><td>0.008</td><td>0.014</td><td>0.009</td></tr><tr><th>13</th><td>2022-04-13</td><td>0.025</td><td>0.013</td><td>0.011</td><td>0.018</td><td>0.006</td><td>0.009</td></tr><tr><th>14</th><td>2022-04-14</td><td>0.081</td><td>0.404</td><td>0.13</td><td>0.013</td><td>0.009</td><td>0.005</td></tr><tr><th>15</th><td>2022-04-15</td><td>0.011</td><td>0.023</td><td>0.015</td><td>0.024</td><td>0.019</td><td>0.013</td></tr><tr><th>16</th><td>2022-04-16</td><td>0.211</td><td>0.046</td><td>0.04</td><td>0.051</td><td>0.038</td><td>0.321</td></tr><tr><th>17</th><td>2022-04-17</td><td>0.004</td><td>0.013</td><td>0.006</td><td>0.004</td><td>0.015</td><td>0.004</td></tr><tr><th>18</th><td>2022-04-18</td><td>0.004</td><td>0.004</td><td>0.015</td><td>0.003</td><td>0.007</td><td>0.013</td></tr><tr><th>19</th><td>2022-04-19</td><td>0.004</td><td>0.003</td><td>0.016</td><td>0.004</td><td>0.004</td><td>0.015</td></tr><tr><th>20</th><td>2022-04-20</td><td>0.014</td><td>0.004</td><td>0.008</td><td>0.012</td><td>0.004</td><td>0.01</td></tr><tr><th>21</th><td>2022-04-21</td><td>0.017</td><td>0.021</td><td>0.003</td><td>0.013</td><td>0.007</td><td>0.004</td></tr><tr><th>22</th><td>2022-04-22</td><td>0.008</td><td>0.014</td><td>0.006</td><td>0.013</td><td>0.013</td><td>0.008</td></tr><tr><th>23</th><td>2022-04-23</td><td>0.004</td><td>0.015</td><td>0.005</td><td>0.006</td><td>0.018</td><td>0.006</td></tr><tr><th>24</th><td>2022-04-24</td><td>0.004</td><td>0.013</td><td>0.03</td><td>0.028</td><td>0.057</td><td>0.042</td></tr><tr><th>25</th><td>2022-04-25</td><td>0.037</td><td>0.029</td><td>0.036</td><td>0.046</td><td>0.034</td><td>0.027</td></tr><tr><th>26</th><td>2022-04-26</td><td>0.008</td><td>0.013</td><td>0.01</td><td>0.004</td><td>0.009</td><td>0.011</td></tr><tr><th>27</th><td>2022-04-27</td><td>0.296</td><td>0.07</td><td>0.008</td><td>0.013</td><td>0.01</td><td>0.005</td></tr><tr><th>28</th><td>2022-04-28</td><td>0.013</td><td>0.006</td><td>0.003</td><td>0.012</td><td>0.008</td><td>0.01</td></tr><tr><th>29</th><td>2022-04-29</td><td>0.09</td><td>0.018</td><td>0.013</td><td>0.02</td><td>0.005</td><td>0.004</td></tr><tr><th>30</th><td>2022-04-30</td><td>0.004</td><td>0.016</td><td>0.003</td><td>0.004</td><td>0.016</td><td>0.003</td></tr></tbody></table></div>"
      ],
      "text/latex": [
       "\\begin{tabular}{r|cccccccc}\n",
       "\t& Giorno & 00:00-00:15 & 00:15-00:30 & 00:30-00:45 & 00:45-01:00 & 01:00-01:15 & 01:15-01:30 & \\\\\n",
       "\t\\hline\n",
       "\t& Date & Float64 & Float64 & Float64 & Float64 & Float64 & Float64 & \\\\\n",
       "\t\\hline\n",
       "\t1 & 2022-04-01 & 0.007 & 0.007 & 0.016 & 0.004 & 0.004 & 0.013 & $\\dots$ \\\\\n",
       "\t2 & 2022-04-02 & 0.163 & 0.224 & 0.19 & 0.29 & 0.024 & 0.008 & $\\dots$ \\\\\n",
       "\t3 & 2022-04-03 & 0.003 & 0.004 & 0.013 & 0.007 & 0.004 & 0.014 & $\\dots$ \\\\\n",
       "\t4 & 2022-04-04 & 0.063 & 0.028 & 0.022 & 0.031 & 0.016 & 0.006 & $\\dots$ \\\\\n",
       "\t5 & 2022-04-05 & 0.007 & 0.008 & 0.02 & 0.004 & 0.004 & 0.015 & $\\dots$ \\\\\n",
       "\t6 & 2022-04-06 & 0.292 & 0.217 & 0.112 & 0.319 & 0.06 & 0.007 & $\\dots$ \\\\\n",
       "\t7 & 2022-04-07 & 0.004 & 0.013 & 0.009 & 0.003 & 0.004 & 0.009 & $\\dots$ \\\\\n",
       "\t8 & 2022-04-08 & 0.007 & 0.008 & 0.019 & 0.008 & 0.008 & 0.014 & $\\dots$ \\\\\n",
       "\t9 & 2022-04-09 & 0.004 & 0.01 & 0.012 & 0.004 & 0.005 & 0.016 & $\\dots$ \\\\\n",
       "\t10 & 2022-04-10 & 0.004 & 0.004 & 0.011 & 0.008 & 0.004 & 0.004 & $\\dots$ \\\\\n",
       "\t11 & 2022-04-11 & 0.231 & 0.007 & 0.009 & 0.013 & 0.004 & 0.005 & $\\dots$ \\\\\n",
       "\t12 & 2022-04-12 & 0.01 & 0.019 & 0.012 & 0.008 & 0.014 & 0.009 & $\\dots$ \\\\\n",
       "\t13 & 2022-04-13 & 0.025 & 0.013 & 0.011 & 0.018 & 0.006 & 0.009 & $\\dots$ \\\\\n",
       "\t14 & 2022-04-14 & 0.081 & 0.404 & 0.13 & 0.013 & 0.009 & 0.005 & $\\dots$ \\\\\n",
       "\t15 & 2022-04-15 & 0.011 & 0.023 & 0.015 & 0.024 & 0.019 & 0.013 & $\\dots$ \\\\\n",
       "\t16 & 2022-04-16 & 0.211 & 0.046 & 0.04 & 0.051 & 0.038 & 0.321 & $\\dots$ \\\\\n",
       "\t17 & 2022-04-17 & 0.004 & 0.013 & 0.006 & 0.004 & 0.015 & 0.004 & $\\dots$ \\\\\n",
       "\t18 & 2022-04-18 & 0.004 & 0.004 & 0.015 & 0.003 & 0.007 & 0.013 & $\\dots$ \\\\\n",
       "\t19 & 2022-04-19 & 0.004 & 0.003 & 0.016 & 0.004 & 0.004 & 0.015 & $\\dots$ \\\\\n",
       "\t20 & 2022-04-20 & 0.014 & 0.004 & 0.008 & 0.012 & 0.004 & 0.01 & $\\dots$ \\\\\n",
       "\t21 & 2022-04-21 & 0.017 & 0.021 & 0.003 & 0.013 & 0.007 & 0.004 & $\\dots$ \\\\\n",
       "\t22 & 2022-04-22 & 0.008 & 0.014 & 0.006 & 0.013 & 0.013 & 0.008 & $\\dots$ \\\\\n",
       "\t23 & 2022-04-23 & 0.004 & 0.015 & 0.005 & 0.006 & 0.018 & 0.006 & $\\dots$ \\\\\n",
       "\t24 & 2022-04-24 & 0.004 & 0.013 & 0.03 & 0.028 & 0.057 & 0.042 & $\\dots$ \\\\\n",
       "\t25 & 2022-04-25 & 0.037 & 0.029 & 0.036 & 0.046 & 0.034 & 0.027 & $\\dots$ \\\\\n",
       "\t26 & 2022-04-26 & 0.008 & 0.013 & 0.01 & 0.004 & 0.009 & 0.011 & $\\dots$ \\\\\n",
       "\t27 & 2022-04-27 & 0.296 & 0.07 & 0.008 & 0.013 & 0.01 & 0.005 & $\\dots$ \\\\\n",
       "\t28 & 2022-04-28 & 0.013 & 0.006 & 0.003 & 0.012 & 0.008 & 0.01 & $\\dots$ \\\\\n",
       "\t29 & 2022-04-29 & 0.09 & 0.018 & 0.013 & 0.02 & 0.005 & 0.004 & $\\dots$ \\\\\n",
       "\t30 & 2022-04-30 & 0.004 & 0.016 & 0.003 & 0.004 & 0.016 & 0.003 & $\\dots$ \\\\\n",
       "\\end{tabular}\n"
      ],
      "text/plain": [
       "\u001b[1m30×98 DataFrame\u001b[0m\n",
       "\u001b[1m Row \u001b[0m│\u001b[1m Giorno     \u001b[0m\u001b[1m 00:00-00:15 \u001b[0m\u001b[1m 00:15-00:30 \u001b[0m\u001b[1m 00:30-00:45 \u001b[0m\u001b[1m 00:45-01:00 \u001b[0m\u001b[1m 01:00-0\u001b[0m ⋯\n",
       "\u001b[1m     \u001b[0m│\u001b[90m Date       \u001b[0m\u001b[90m Float64     \u001b[0m\u001b[90m Float64     \u001b[0m\u001b[90m Float64     \u001b[0m\u001b[90m Float64     \u001b[0m\u001b[90m Float64\u001b[0m ⋯\n",
       "─────┼──────────────────────────────────────────────────────────────────────────\n",
       "   1 │ 2022-04-01        0.007        0.007        0.016        0.004        0 ⋯\n",
       "   2 │ 2022-04-02        0.163        0.224        0.19         0.29         0\n",
       "   3 │ 2022-04-03        0.003        0.004        0.013        0.007        0\n",
       "   4 │ 2022-04-04        0.063        0.028        0.022        0.031        0\n",
       "   5 │ 2022-04-05        0.007        0.008        0.02         0.004        0 ⋯\n",
       "   6 │ 2022-04-06        0.292        0.217        0.112        0.319        0\n",
       "   7 │ 2022-04-07        0.004        0.013        0.009        0.003        0\n",
       "   8 │ 2022-04-08        0.007        0.008        0.019        0.008        0\n",
       "   9 │ 2022-04-09        0.004        0.01         0.012        0.004        0 ⋯\n",
       "  10 │ 2022-04-10        0.004        0.004        0.011        0.008        0\n",
       "  11 │ 2022-04-11        0.231        0.007        0.009        0.013        0\n",
       "  ⋮  │     ⋮            ⋮            ⋮            ⋮            ⋮            ⋮  ⋱\n",
       "  21 │ 2022-04-21        0.017        0.021        0.003        0.013        0\n",
       "  22 │ 2022-04-22        0.008        0.014        0.006        0.013        0 ⋯\n",
       "  23 │ 2022-04-23        0.004        0.015        0.005        0.006        0\n",
       "  24 │ 2022-04-24        0.004        0.013        0.03         0.028        0\n",
       "  25 │ 2022-04-25        0.037        0.029        0.036        0.046        0\n",
       "  26 │ 2022-04-26        0.008        0.013        0.01         0.004        0 ⋯\n",
       "  27 │ 2022-04-27        0.296        0.07         0.008        0.013        0\n",
       "  28 │ 2022-04-28        0.013        0.006        0.003        0.012        0\n",
       "  29 │ 2022-04-29        0.09         0.018        0.013        0.02         0\n",
       "  30 │ 2022-04-30        0.004        0.016        0.003        0.004        0 ⋯\n",
       "\u001b[36m                                                   93 columns and 9 rows omitted\u001b[0m"
      ]
     },
     "execution_count": 44,
     "metadata": {},
     "output_type": "execute_result"
    }
   ],
   "source": [
    "#input\n",
    "year = \"2022\"\n",
    "mounth = \"aprile\"\n",
    "\n",
    "# output - data frame\n",
    "df = CSV.read(\"data_\"*year*\"/ExportData_\"*mounth*\".csv\", DataFrame, delim=';',\n",
    "    quoted=true, decimal=',', dateformat=\"dd/mm/yyyy\",header=1)"
   ]
  },
  {
   "cell_type": "code",
   "execution_count": 41,
   "id": "a17569e3",
   "metadata": {},
   "outputs": [
    {
     "data": {
      "text/plain": [
       "30"
      ]
     },
     "execution_count": 41,
     "metadata": {},
     "output_type": "execute_result"
    }
   ],
   "source": [
    "# Number of day in the mounth\n",
    "N_day = Int64(size(df,1))"
   ]
  },
  {
   "cell_type": "code",
   "execution_count": 42,
   "id": "df68427e",
   "metadata": {},
   "outputs": [
    {
     "data": {
      "text/plain": [
       "51.54600000000001"
      ]
     },
     "execution_count": 42,
     "metadata": {},
     "output_type": "execute_result"
    }
   ],
   "source": [
    "# Monthly energy consumption [kWh]\n",
    "sum(sum(df[1:28,j]) for j =2:97)"
   ]
  },
  {
   "cell_type": "code",
   "execution_count": 43,
   "id": "5e20bb5d",
   "metadata": {
    "scrolled": true
   },
   "outputs": [
    {
     "data": {
      "image/svg+xml": [
       "<?xml version=\"1.0\" encoding=\"utf-8\"?>\n",
       "<svg xmlns=\"http://www.w3.org/2000/svg\" xmlns:xlink=\"http://www.w3.org/1999/xlink\" width=\"600\" height=\"400\" viewBox=\"0 0 2400 1600\">\n",
       "<defs>\n",
       "  <clipPath id=\"clip320\">\n",
       "    <rect x=\"0\" y=\"0\" width=\"2400\" height=\"1600\"/>\n",
       "  </clipPath>\n",
       "</defs>\n",
       "<path clip-path=\"url(#clip320)\" d=\"\n",
       "M0 1600 L2400 1600 L2400 0 L0 0  Z\n",
       "  \" fill=\"#ffffff\" fill-rule=\"evenodd\" fill-opacity=\"1\"/>\n",
       "<defs>\n",
       "  <clipPath id=\"clip321\">\n",
       "    <rect x=\"480\" y=\"0\" width=\"1681\" height=\"1600\"/>\n",
       "  </clipPath>\n",
       "</defs>\n",
       "<path clip-path=\"url(#clip320)\" d=\"\n",
       "M112.177 1486.45 L2352.76 1486.45 L2352.76 47.2441 L112.177 47.2441  Z\n",
       "  \" fill=\"#ffffff\" fill-rule=\"evenodd\" fill-opacity=\"1\"/>\n",
       "<defs>\n",
       "  <clipPath id=\"clip322\">\n",
       "    <rect x=\"112\" y=\"47\" width=\"2242\" height=\"1440\"/>\n",
       "  </clipPath>\n",
       "</defs>\n",
       "<polyline clip-path=\"url(#clip322)\" style=\"stroke:#000000; stroke-linecap:butt; stroke-linejoin:round; stroke-width:2; stroke-opacity:0.1; fill:none\" points=\"\n",
       "  467.142,1486.45 467.142,47.2441 \n",
       "  \"/>\n",
       "<polyline clip-path=\"url(#clip322)\" style=\"stroke:#000000; stroke-linecap:butt; stroke-linejoin:round; stroke-width:2; stroke-opacity:0.1; fill:none\" points=\"\n",
       "  831.582,1486.45 831.582,47.2441 \n",
       "  \"/>\n",
       "<polyline clip-path=\"url(#clip322)\" style=\"stroke:#000000; stroke-linecap:butt; stroke-linejoin:round; stroke-width:2; stroke-opacity:0.1; fill:none\" points=\"\n",
       "  1196.02,1486.45 1196.02,47.2441 \n",
       "  \"/>\n",
       "<polyline clip-path=\"url(#clip322)\" style=\"stroke:#000000; stroke-linecap:butt; stroke-linejoin:round; stroke-width:2; stroke-opacity:0.1; fill:none\" points=\"\n",
       "  1560.46,1486.45 1560.46,47.2441 \n",
       "  \"/>\n",
       "<polyline clip-path=\"url(#clip322)\" style=\"stroke:#000000; stroke-linecap:butt; stroke-linejoin:round; stroke-width:2; stroke-opacity:0.1; fill:none\" points=\"\n",
       "  1924.9,1486.45 1924.9,47.2441 \n",
       "  \"/>\n",
       "<polyline clip-path=\"url(#clip322)\" style=\"stroke:#000000; stroke-linecap:butt; stroke-linejoin:round; stroke-width:2; stroke-opacity:0.1; fill:none\" points=\"\n",
       "  2289.34,1486.45 2289.34,47.2441 \n",
       "  \"/>\n",
       "<polyline clip-path=\"url(#clip320)\" style=\"stroke:#000000; stroke-linecap:butt; stroke-linejoin:round; stroke-width:4; stroke-opacity:1; fill:none\" points=\"\n",
       "  112.177,1486.45 2352.76,1486.45 \n",
       "  \"/>\n",
       "<polyline clip-path=\"url(#clip320)\" style=\"stroke:#000000; stroke-linecap:butt; stroke-linejoin:round; stroke-width:4; stroke-opacity:1; fill:none\" points=\"\n",
       "  467.142,1486.45 467.142,1467.55 \n",
       "  \"/>\n",
       "<polyline clip-path=\"url(#clip320)\" style=\"stroke:#000000; stroke-linecap:butt; stroke-linejoin:round; stroke-width:4; stroke-opacity:1; fill:none\" points=\"\n",
       "  831.582,1486.45 831.582,1467.55 \n",
       "  \"/>\n",
       "<polyline clip-path=\"url(#clip320)\" style=\"stroke:#000000; stroke-linecap:butt; stroke-linejoin:round; stroke-width:4; stroke-opacity:1; fill:none\" points=\"\n",
       "  1196.02,1486.45 1196.02,1467.55 \n",
       "  \"/>\n",
       "<polyline clip-path=\"url(#clip320)\" style=\"stroke:#000000; stroke-linecap:butt; stroke-linejoin:round; stroke-width:4; stroke-opacity:1; fill:none\" points=\"\n",
       "  1560.46,1486.45 1560.46,1467.55 \n",
       "  \"/>\n",
       "<polyline clip-path=\"url(#clip320)\" style=\"stroke:#000000; stroke-linecap:butt; stroke-linejoin:round; stroke-width:4; stroke-opacity:1; fill:none\" points=\"\n",
       "  1924.9,1486.45 1924.9,1467.55 \n",
       "  \"/>\n",
       "<polyline clip-path=\"url(#clip320)\" style=\"stroke:#000000; stroke-linecap:butt; stroke-linejoin:round; stroke-width:4; stroke-opacity:1; fill:none\" points=\"\n",
       "  2289.34,1486.45 2289.34,1467.55 \n",
       "  \"/>\n",
       "<path clip-path=\"url(#clip320)\" d=\"M457.42 1514.29 L475.776 1514.29 L475.776 1518.22 L461.702 1518.22 L461.702 1526.7 Q462.721 1526.35 463.739 1526.19 Q464.758 1526 465.776 1526 Q471.563 1526 474.943 1529.17 Q478.322 1532.34 478.322 1537.76 Q478.322 1543.34 474.85 1546.44 Q471.378 1549.52 465.059 1549.52 Q462.883 1549.52 460.614 1549.15 Q458.369 1548.78 455.961 1548.04 L455.961 1543.34 Q458.045 1544.47 460.267 1545.03 Q462.489 1545.58 464.966 1545.58 Q468.971 1545.58 471.309 1543.48 Q473.647 1541.37 473.647 1537.76 Q473.647 1534.15 471.309 1532.04 Q468.971 1529.94 464.966 1529.94 Q463.091 1529.94 461.216 1530.35 Q459.364 1530.77 457.42 1531.65 L457.42 1514.29 Z\" fill=\"#000000\" fill-rule=\"evenodd\" fill-opacity=\"1\" /><path clip-path=\"url(#clip320)\" d=\"M806.27 1544.91 L813.909 1544.91 L813.909 1518.55 L805.599 1520.21 L805.599 1515.95 L813.862 1514.29 L818.538 1514.29 L818.538 1544.91 L826.177 1544.91 L826.177 1548.85 L806.27 1548.85 L806.27 1544.91 Z\" fill=\"#000000\" fill-rule=\"evenodd\" fill-opacity=\"1\" /><path clip-path=\"url(#clip320)\" d=\"M845.622 1517.37 Q842.01 1517.37 840.182 1520.93 Q838.376 1524.47 838.376 1531.6 Q838.376 1538.71 840.182 1542.27 Q842.01 1545.82 845.622 1545.82 Q849.256 1545.82 851.061 1542.27 Q852.89 1538.71 852.89 1531.6 Q852.89 1524.47 851.061 1520.93 Q849.256 1517.37 845.622 1517.37 M845.622 1513.66 Q851.432 1513.66 854.487 1518.27 Q857.566 1522.85 857.566 1531.6 Q857.566 1540.33 854.487 1544.94 Q851.432 1549.52 845.622 1549.52 Q839.811 1549.52 836.733 1544.94 Q833.677 1540.33 833.677 1531.6 Q833.677 1522.85 836.733 1518.27 Q839.811 1513.66 845.622 1513.66 Z\" fill=\"#000000\" fill-rule=\"evenodd\" fill-opacity=\"1\" /><path clip-path=\"url(#clip320)\" d=\"M1171.21 1544.91 L1178.85 1544.91 L1178.85 1518.55 L1170.54 1520.21 L1170.54 1515.95 L1178.8 1514.29 L1183.48 1514.29 L1183.48 1544.91 L1191.12 1544.91 L1191.12 1548.85 L1171.21 1548.85 L1171.21 1544.91 Z\" fill=\"#000000\" fill-rule=\"evenodd\" fill-opacity=\"1\" /><path clip-path=\"url(#clip320)\" d=\"M1200.61 1514.29 L1218.96 1514.29 L1218.96 1518.22 L1204.89 1518.22 L1204.89 1526.7 Q1205.91 1526.35 1206.93 1526.19 Q1207.94 1526 1208.96 1526 Q1214.75 1526 1218.13 1529.17 Q1221.51 1532.34 1221.51 1537.76 Q1221.51 1543.34 1218.04 1546.44 Q1214.56 1549.52 1208.24 1549.52 Q1206.07 1549.52 1203.8 1549.15 Q1201.55 1548.78 1199.15 1548.04 L1199.15 1543.34 Q1201.23 1544.47 1203.45 1545.03 Q1205.68 1545.58 1208.15 1545.58 Q1212.16 1545.58 1214.49 1543.48 Q1216.83 1541.37 1216.83 1537.76 Q1216.83 1534.15 1214.49 1532.04 Q1212.16 1529.94 1208.15 1529.94 Q1206.28 1529.94 1204.4 1530.35 Q1202.55 1530.77 1200.61 1531.65 L1200.61 1514.29 Z\" fill=\"#000000\" fill-rule=\"evenodd\" fill-opacity=\"1\" /><path clip-path=\"url(#clip320)\" d=\"M1539.24 1544.91 L1555.56 1544.91 L1555.56 1548.85 L1533.61 1548.85 L1533.61 1544.91 Q1536.27 1542.16 1540.86 1537.53 Q1545.46 1532.88 1546.64 1531.53 Q1548.89 1529.01 1549.77 1527.27 Q1550.67 1525.51 1550.67 1523.82 Q1550.67 1521.07 1548.73 1519.33 Q1546.81 1517.6 1543.7 1517.6 Q1541.5 1517.6 1539.05 1518.36 Q1536.62 1519.13 1533.84 1520.68 L1533.84 1515.95 Q1536.67 1514.82 1539.12 1514.24 Q1541.57 1513.66 1543.61 1513.66 Q1548.98 1513.66 1552.18 1516.35 Q1555.37 1519.03 1555.37 1523.52 Q1555.37 1525.65 1554.56 1527.57 Q1553.77 1529.47 1551.67 1532.07 Q1551.09 1532.74 1547.99 1535.95 Q1544.88 1539.15 1539.24 1544.91 Z\" fill=\"#000000\" fill-rule=\"evenodd\" fill-opacity=\"1\" /><path clip-path=\"url(#clip320)\" d=\"M1575.37 1517.37 Q1571.76 1517.37 1569.93 1520.93 Q1568.12 1524.47 1568.12 1531.6 Q1568.12 1538.71 1569.93 1542.27 Q1571.76 1545.82 1575.37 1545.82 Q1579 1545.82 1580.81 1542.27 Q1582.64 1538.71 1582.64 1531.6 Q1582.64 1524.47 1580.81 1520.93 Q1579 1517.37 1575.37 1517.37 M1575.37 1513.66 Q1581.18 1513.66 1584.24 1518.27 Q1587.31 1522.85 1587.31 1531.6 Q1587.31 1540.33 1584.24 1544.94 Q1581.18 1549.52 1575.37 1549.52 Q1569.56 1549.52 1566.48 1544.94 Q1563.43 1540.33 1563.43 1531.6 Q1563.43 1522.85 1566.48 1518.27 Q1569.56 1513.66 1575.37 1513.66 Z\" fill=\"#000000\" fill-rule=\"evenodd\" fill-opacity=\"1\" /><path clip-path=\"url(#clip320)\" d=\"M1904.17 1544.91 L1920.49 1544.91 L1920.49 1548.85 L1898.55 1548.85 L1898.55 1544.91 Q1901.21 1542.16 1905.79 1537.53 Q1910.4 1532.88 1911.58 1531.53 Q1913.83 1529.01 1914.71 1527.27 Q1915.61 1525.51 1915.61 1523.82 Q1915.61 1521.07 1913.66 1519.33 Q1911.74 1517.6 1908.64 1517.6 Q1906.44 1517.6 1903.99 1518.36 Q1901.56 1519.13 1898.78 1520.68 L1898.78 1515.95 Q1901.6 1514.82 1904.06 1514.24 Q1906.51 1513.66 1908.55 1513.66 Q1913.92 1513.66 1917.11 1516.35 Q1920.31 1519.03 1920.31 1523.52 Q1920.31 1525.65 1919.5 1527.57 Q1918.71 1529.47 1916.6 1532.07 Q1916.03 1532.74 1912.92 1535.95 Q1909.82 1539.15 1904.17 1544.91 Z\" fill=\"#000000\" fill-rule=\"evenodd\" fill-opacity=\"1\" /><path clip-path=\"url(#clip320)\" d=\"M1930.35 1514.29 L1948.71 1514.29 L1948.71 1518.22 L1934.64 1518.22 L1934.64 1526.7 Q1935.66 1526.35 1936.67 1526.19 Q1937.69 1526 1938.71 1526 Q1944.5 1526 1947.88 1529.17 Q1951.26 1532.34 1951.26 1537.76 Q1951.26 1543.34 1947.78 1546.44 Q1944.31 1549.52 1937.99 1549.52 Q1935.82 1549.52 1933.55 1549.15 Q1931.3 1548.78 1928.9 1548.04 L1928.9 1543.34 Q1930.98 1544.47 1933.2 1545.03 Q1935.42 1545.58 1937.9 1545.58 Q1941.91 1545.58 1944.24 1543.48 Q1946.58 1541.37 1946.58 1537.76 Q1946.58 1534.15 1944.24 1532.04 Q1941.91 1529.94 1937.9 1529.94 Q1936.03 1529.94 1934.15 1530.35 Q1932.3 1530.77 1930.35 1531.65 L1930.35 1514.29 Z\" fill=\"#000000\" fill-rule=\"evenodd\" fill-opacity=\"1\" /><path clip-path=\"url(#clip320)\" d=\"M2278.19 1530.21 Q2281.54 1530.93 2283.42 1533.2 Q2285.32 1535.47 2285.32 1538.8 Q2285.32 1543.92 2281.8 1546.72 Q2278.28 1549.52 2271.8 1549.52 Q2269.62 1549.52 2267.31 1549.08 Q2265.01 1548.66 2262.56 1547.81 L2262.56 1543.29 Q2264.51 1544.43 2266.82 1545.01 Q2269.14 1545.58 2271.66 1545.58 Q2276.06 1545.58 2278.35 1543.85 Q2280.66 1542.11 2280.66 1538.8 Q2280.66 1535.75 2278.51 1534.03 Q2276.38 1532.3 2272.56 1532.3 L2268.53 1532.3 L2268.53 1528.45 L2272.75 1528.45 Q2276.2 1528.45 2278.02 1527.09 Q2279.85 1525.7 2279.85 1523.11 Q2279.85 1520.45 2277.95 1519.03 Q2276.08 1517.6 2272.56 1517.6 Q2270.64 1517.6 2268.44 1518.01 Q2266.24 1518.43 2263.6 1519.31 L2263.6 1515.14 Q2266.26 1514.4 2268.58 1514.03 Q2270.92 1513.66 2272.98 1513.66 Q2278.3 1513.66 2281.4 1516.09 Q2284.51 1518.5 2284.51 1522.62 Q2284.51 1525.49 2282.86 1527.48 Q2281.22 1529.45 2278.19 1530.21 Z\" fill=\"#000000\" fill-rule=\"evenodd\" fill-opacity=\"1\" /><path clip-path=\"url(#clip320)\" d=\"M2304.18 1517.37 Q2300.57 1517.37 2298.74 1520.93 Q2296.94 1524.47 2296.94 1531.6 Q2296.94 1538.71 2298.74 1542.27 Q2300.57 1545.82 2304.18 1545.82 Q2307.82 1545.82 2309.62 1542.27 Q2311.45 1538.71 2311.45 1531.6 Q2311.45 1524.47 2309.62 1520.93 Q2307.82 1517.37 2304.18 1517.37 M2304.18 1513.66 Q2309.99 1513.66 2313.05 1518.27 Q2316.13 1522.85 2316.13 1531.6 Q2316.13 1540.33 2313.05 1544.94 Q2309.99 1549.52 2304.18 1549.52 Q2298.37 1549.52 2295.29 1544.94 Q2292.24 1540.33 2292.24 1531.6 Q2292.24 1522.85 2295.29 1518.27 Q2298.37 1513.66 2304.18 1513.66 Z\" fill=\"#000000\" fill-rule=\"evenodd\" fill-opacity=\"1\" /><polyline clip-path=\"url(#clip322)\" style=\"stroke:#000000; stroke-linecap:butt; stroke-linejoin:round; stroke-width:2; stroke-opacity:0.1; fill:none\" points=\"\n",
       "  112.177,1354.9 2352.76,1354.9 \n",
       "  \"/>\n",
       "<polyline clip-path=\"url(#clip322)\" style=\"stroke:#000000; stroke-linecap:butt; stroke-linejoin:round; stroke-width:2; stroke-opacity:0.1; fill:none\" points=\"\n",
       "  112.177,979.626 2352.76,979.626 \n",
       "  \"/>\n",
       "<polyline clip-path=\"url(#clip322)\" style=\"stroke:#000000; stroke-linecap:butt; stroke-linejoin:round; stroke-width:2; stroke-opacity:0.1; fill:none\" points=\"\n",
       "  112.177,604.353 2352.76,604.353 \n",
       "  \"/>\n",
       "<polyline clip-path=\"url(#clip322)\" style=\"stroke:#000000; stroke-linecap:butt; stroke-linejoin:round; stroke-width:2; stroke-opacity:0.1; fill:none\" points=\"\n",
       "  112.177,229.079 2352.76,229.079 \n",
       "  \"/>\n",
       "<polyline clip-path=\"url(#clip320)\" style=\"stroke:#000000; stroke-linecap:butt; stroke-linejoin:round; stroke-width:4; stroke-opacity:1; fill:none\" points=\"\n",
       "  112.177,1486.45 112.177,47.2441 \n",
       "  \"/>\n",
       "<polyline clip-path=\"url(#clip320)\" style=\"stroke:#000000; stroke-linecap:butt; stroke-linejoin:round; stroke-width:4; stroke-opacity:1; fill:none\" points=\"\n",
       "  112.177,1354.9 131.075,1354.9 \n",
       "  \"/>\n",
       "<polyline clip-path=\"url(#clip320)\" style=\"stroke:#000000; stroke-linecap:butt; stroke-linejoin:round; stroke-width:4; stroke-opacity:1; fill:none\" points=\"\n",
       "  112.177,979.626 131.075,979.626 \n",
       "  \"/>\n",
       "<polyline clip-path=\"url(#clip320)\" style=\"stroke:#000000; stroke-linecap:butt; stroke-linejoin:round; stroke-width:4; stroke-opacity:1; fill:none\" points=\"\n",
       "  112.177,604.353 131.075,604.353 \n",
       "  \"/>\n",
       "<polyline clip-path=\"url(#clip320)\" style=\"stroke:#000000; stroke-linecap:butt; stroke-linejoin:round; stroke-width:4; stroke-opacity:1; fill:none\" points=\"\n",
       "  112.177,229.079 131.075,229.079 \n",
       "  \"/>\n",
       "<path clip-path=\"url(#clip320)\" d=\"M56.2699 1368.24 L63.9087 1368.24 L63.9087 1341.88 L55.5986 1343.55 L55.5986 1339.29 L63.8624 1337.62 L68.5383 1337.62 L68.5383 1368.24 L76.1772 1368.24 L76.1772 1372.18 L56.2699 1372.18 L56.2699 1368.24 Z\" fill=\"#000000\" fill-rule=\"evenodd\" fill-opacity=\"1\" /><path clip-path=\"url(#clip320)\" d=\"M59.8578 992.971 L76.1772 992.971 L76.1772 996.906 L54.2328 996.906 L54.2328 992.971 Q56.8949 990.216 61.4782 985.587 Q66.0846 980.934 67.2652 979.591 Q69.5105 977.068 70.3902 975.332 Q71.2929 973.573 71.2929 971.883 Q71.2929 969.128 69.3485 967.392 Q67.4272 965.656 64.3254 965.656 Q62.1263 965.656 59.6726 966.42 Q57.2421 967.184 54.4643 968.735 L54.4643 964.013 Q57.2884 962.878 59.7421 962.3 Q62.1958 961.721 64.2328 961.721 Q69.6031 961.721 72.7976 964.406 Q75.992 967.091 75.992 971.582 Q75.992 973.712 75.1818 975.633 Q74.3948 977.531 72.2883 980.124 Q71.7096 980.795 68.6078 984.013 Q65.5059 987.207 59.8578 992.971 Z\" fill=\"#000000\" fill-rule=\"evenodd\" fill-opacity=\"1\" /><path clip-path=\"url(#clip320)\" d=\"M69.0476 602.998 Q72.404 603.716 74.279 605.985 Q76.1772 608.253 76.1772 611.586 Q76.1772 616.702 72.6587 619.503 Q69.1402 622.304 62.6587 622.304 Q60.4828 622.304 58.168 621.864 Q55.8764 621.447 53.4227 620.591 L53.4227 616.077 Q55.3671 617.211 57.6819 617.79 Q59.9967 618.369 62.5198 618.369 Q66.918 618.369 69.2096 616.633 Q71.5244 614.896 71.5244 611.586 Q71.5244 608.531 69.3717 606.818 Q67.242 605.082 63.4226 605.082 L59.3949 605.082 L59.3949 601.239 L63.6078 601.239 Q67.0569 601.239 68.8855 599.873 Q70.7142 598.485 70.7142 595.892 Q70.7142 593.23 68.8161 591.818 Q66.9411 590.383 63.4226 590.383 Q61.5013 590.383 59.3023 590.799 Q57.1032 591.216 54.4643 592.096 L54.4643 587.929 Q57.1264 587.188 59.4412 586.818 Q61.7791 586.448 63.8393 586.448 Q69.1633 586.448 72.2652 588.878 Q75.367 591.286 75.367 595.406 Q75.367 598.276 73.7235 600.267 Q72.08 602.235 69.0476 602.998 Z\" fill=\"#000000\" fill-rule=\"evenodd\" fill-opacity=\"1\" /><path clip-path=\"url(#clip320)\" d=\"M66.5939 215.873 L54.7884 234.322 L66.5939 234.322 L66.5939 215.873 M65.367 211.799 L71.2466 211.799 L71.2466 234.322 L76.1772 234.322 L76.1772 238.211 L71.2466 238.211 L71.2466 246.359 L66.5939 246.359 L66.5939 238.211 L50.9921 238.211 L50.9921 233.697 L65.367 211.799 Z\" fill=\"#000000\" fill-rule=\"evenodd\" fill-opacity=\"1\" /><polyline clip-path=\"url(#clip322)\" style=\"stroke:#009af9; stroke-linecap:butt; stroke-linejoin:round; stroke-width:4; stroke-opacity:1; fill:none\" points=\"\n",
       "  175.59,1354.15 248.478,1063.31 321.366,1042.67 394.254,1318.87 467.142,87.9763 540.03,830.642 612.918,1312.12 685.806,1015.28 758.694,1327.13 831.582,492.896 \n",
       "  904.47,1206.67 977.358,1069.32 1050.25,1136.12 1123.13,571.329 1196.02,913.578 1268.91,1019.03 1341.8,1444.97 1414.69,1445.72 1487.57,1399.56 1560.46,859.539 \n",
       "  1633.35,833.645 1706.24,1303.49 1779.13,785.985 1852.01,1248.32 1924.9,607.355 1997.79,768.347 2070.68,1222.43 2143.57,1420.57 2216.46,1358.28 2289.34,1408.19 \n",
       "  \n",
       "  \"/>\n",
       "<path clip-path=\"url(#clip320)\" d=\"\n",
       "M1976.69 198.898 L2278.07 198.898 L2278.07 95.2176 L1976.69 95.2176  Z\n",
       "  \" fill=\"#ffffff\" fill-rule=\"evenodd\" fill-opacity=\"1\"/>\n",
       "<polyline clip-path=\"url(#clip320)\" style=\"stroke:#000000; stroke-linecap:butt; stroke-linejoin:round; stroke-width:4; stroke-opacity:1; fill:none\" points=\"\n",
       "  1976.69,198.898 2278.07,198.898 2278.07,95.2176 1976.69,95.2176 1976.69,198.898 \n",
       "  \"/>\n",
       "<polyline clip-path=\"url(#clip320)\" style=\"stroke:#009af9; stroke-linecap:butt; stroke-linejoin:round; stroke-width:4; stroke-opacity:1; fill:none\" points=\"\n",
       "  2001.58,147.058 2150.95,147.058 \n",
       "  \"/>\n",
       "<path clip-path=\"url(#clip320)\" d=\"M2189.69 166.745 Q2187.89 171.375 2186.17 172.787 Q2184.46 174.199 2181.59 174.199 L2178.19 174.199 L2178.19 170.634 L2180.69 170.634 Q2182.45 170.634 2183.42 169.8 Q2184.39 168.967 2185.57 165.865 L2186.34 163.921 L2175.85 138.412 L2180.36 138.412 L2188.46 158.689 L2196.57 138.412 L2201.08 138.412 L2189.69 166.745 Z\" fill=\"#000000\" fill-rule=\"evenodd\" fill-opacity=\"1\" /><path clip-path=\"url(#clip320)\" d=\"M2208.37 160.402 L2216.01 160.402 L2216.01 134.037 L2207.7 135.703 L2207.7 131.444 L2215.96 129.778 L2220.64 129.778 L2220.64 160.402 L2228.28 160.402 L2228.28 164.338 L2208.37 164.338 L2208.37 160.402 Z\" fill=\"#000000\" fill-rule=\"evenodd\" fill-opacity=\"1\" /></svg>\n"
      ]
     },
     "execution_count": 43,
     "metadata": {},
     "output_type": "execute_result"
    }
   ],
   "source": [
    "# Daily energy consumption\n",
    " \n",
    "daily_E_cons = zeros(N_day)\n",
    "\n",
    "for d = 1:N_day\n",
    "daily_E_cons[d] = sum(df[d,2:97])\n",
    "end\n",
    "\n",
    "## output\n",
    "daily_E_cons\n",
    "\n",
    "## plot output\n",
    "plot(daily_E_cons)"
   ]
  },
  {
   "cell_type": "code",
   "execution_count": null,
   "id": "fb388f05",
   "metadata": {},
   "outputs": [],
   "source": [
    "df[]"
   ]
  },
  {
   "cell_type": "code",
   "execution_count": null,
   "id": "45010be2",
   "metadata": {},
   "outputs": [],
   "source": []
  }
 ],
 "metadata": {
  "kernelspec": {
   "display_name": "Julia 1.7.0",
   "language": "julia",
   "name": "julia-1.7"
  },
  "language_info": {
   "file_extension": ".jl",
   "mimetype": "application/julia",
   "name": "julia",
   "version": "1.7.0"
  }
 },
 "nbformat": 4,
 "nbformat_minor": 5
}
