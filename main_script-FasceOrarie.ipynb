{
 "cells": [
  {
   "cell_type": "markdown",
   "id": "230637e6",
   "metadata": {},
   "source": [
    "# Analisys of domestric electric energy consumption\n",
    "\n",
    "## *ANALISI CONSUMI NELLE FASCE ORARIE*\n"
   ]
  },
  {
   "cell_type": "code",
   "execution_count": 4,
   "id": "95a2f4a3",
   "metadata": {},
   "outputs": [
    {
     "name": "stderr",
     "output_type": "stream",
     "text": [
      "\u001b[32m\u001b[1m    Updating\u001b[22m\u001b[39m registry at `~/.julia/registries/General.toml`\n",
      "\u001b[32m\u001b[1m   Resolving\u001b[22m\u001b[39m package versions...\n",
      "\u001b[32m\u001b[1m  No Changes\u001b[22m\u001b[39m to `~/.julia/environments/v1.7/Project.toml`\n",
      "\u001b[32m\u001b[1m  No Changes\u001b[22m\u001b[39m to `~/.julia/environments/v1.7/Manifest.toml`\n",
      "\u001b[32m\u001b[1m   Resolving\u001b[22m\u001b[39m package versions...\n",
      "\u001b[32m\u001b[1m  No Changes\u001b[22m\u001b[39m to `~/.julia/environments/v1.7/Project.toml`\n",
      "\u001b[32m\u001b[1m  No Changes\u001b[22m\u001b[39m to `~/.julia/environments/v1.7/Manifest.toml`\n",
      "\u001b[32m\u001b[1m   Resolving\u001b[22m\u001b[39m package versions...\n",
      "\u001b[32m\u001b[1m  No Changes\u001b[22m\u001b[39m to `~/.julia/environments/v1.7/Project.toml`\n",
      "\u001b[32m\u001b[1m  No Changes\u001b[22m\u001b[39m to `~/.julia/environments/v1.7/Manifest.toml`\n"
     ]
    }
   ],
   "source": [
    "using Pkg\n",
    "Pkg.add(\"CSV\")\n",
    "Pkg.add(\"DataFrames\")\n",
    "Pkg.add(\"Plots\")"
   ]
  },
  {
   "cell_type": "code",
   "execution_count": 5,
   "id": "bda5dbf6",
   "metadata": {},
   "outputs": [
    {
     "name": "stderr",
     "output_type": "stream",
     "text": [
      "WARNING: using Dates.year in module Main conflicts with an existing identifier.\n"
     ]
    }
   ],
   "source": [
    "using CSV\n",
    "using DataFrames\n",
    "using Plots\n",
    "using Dates"
   ]
  },
  {
   "cell_type": "markdown",
   "id": "91152137",
   "metadata": {},
   "source": [
    "## 1. Read data from .cvs files (e-sistribuzione standards)"
   ]
  },
  {
   "cell_type": "code",
   "execution_count": 12,
   "id": "a6a99b04",
   "metadata": {
    "scrolled": true
   },
   "outputs": [
    {
     "name": "stdout",
     "output_type": "stream",
     "text": [
      "\u001b[1m31×5 DataFrame\u001b[0m\n",
      "\u001b[1m Row \u001b[0m│\u001b[1m Giorno     \u001b[0m\u001b[1m 00:00-00:15 \u001b[0m\u001b[1m 00:15-00:30 \u001b[0m\u001b[1m 00:30-00:45 \u001b[0m\u001b[1m 00:45-01:00 \u001b[0m\n",
      "\u001b[1m     \u001b[0m│\u001b[90m Date       \u001b[0m\u001b[90m Float64     \u001b[0m\u001b[90m Float64     \u001b[0m\u001b[90m Float64     \u001b[0m\u001b[90m Float64     \u001b[0m\n",
      "─────┼────────────────────────────────────────────────────────────────\n",
      "   1 │ 2022-01-01        0.029        0.017        0.025        0.022\n",
      "   2 │ 2022-01-02        0.007        0.008        0.018        0.009\n",
      "   3 │ 2022-01-03        0.015        0.007        0.038        0.047\n",
      "   4 │ 2022-01-04        0.009        0.007        0.018        0.01\n",
      "   5 │ 2022-01-05        0.06         0.054        0.052        0.059\n",
      "   6 │ 2022-01-06        0.007        0.017        0.01         0.006\n",
      "   7 │ 2022-01-07        0.012        0.015        0.007        0.008\n",
      "   8 │ 2022-01-08        0.103        0.005        0.008        0.014\n",
      "   9 │ 2022-01-09        0.043        0.053        0.047        0.044\n",
      "  10 │ 2022-01-10        0.061        0.019        0.007        0.019\n",
      "  11 │ 2022-01-11        0.014        0.008        0.008        0.01\n",
      "  12 │ 2022-01-12        0.007        0.015        0.004        0.004\n",
      "  13 │ 2022-01-13        0.048        0.039        0.035        0.045\n",
      "  14 │ 2022-01-14        0.041        0.042        0.032        0.034\n",
      "  15 │ 2022-01-15        0.029        0.029        0.022        0.016\n",
      "  16 │ 2022-01-16        0.062        0.037        0.025        0.028\n",
      "  17 │ 2022-01-17        0.018        0.009        0.009        0.018\n",
      "  18 │ 2022-01-18        0.008        0.008        0.02         0.008\n",
      "  19 │ 2022-01-19        0.214        0.084        0.008        0.017\n",
      "  20 │ 2022-01-20        0.038        0.025        0.016        0.017\n",
      "  21 │ 2022-01-21        0.014        0.02         0.008        0.012\n",
      "  22 │ 2022-01-22        0.054        0.043        0.044        0.053\n",
      "  23 │ 2022-01-23        0.004        0.003        0.012        0.011\n",
      "  24 │ 2022-01-24        0.036        0.042        0.034        0.04\n",
      "  25 │ 2022-01-25        0.035        0.03         0.007        0.013\n",
      "  26 │ 2022-01-26        0.055        0.042        0.04         0.032\n",
      "  27 │ 2022-01-27        0.019        0.014        0.009        0.017\n",
      "  28 │ 2022-01-28        0.013        0.023        0.047        0.034\n",
      "  29 │ 2022-01-29        0.003        0.004        0.009        0.011\n",
      "  30 │ 2022-01-30        0.16         0.062        0.042        0.02\n",
      "  31 │ 2022-01-31        0.072        0.06         0.033        0.039"
     ]
    },
    {
     "name": "stderr",
     "output_type": "stream",
     "text": [
      "┌ Warning: thread = 1 warning: parsed expected 97 columns, but didn't reach end of line around data row: 1. Parsing extra columns and widening final columnset\n",
      "└ @ CSV /Users/diegopisera/.julia/packages/CSV/0Elut/src/file.jl:578\n"
     ]
    }
   ],
   "source": [
    "#input\n",
    "year = \"2022\"\n",
    "mounth = \"gennaio\"\n",
    "\n",
    "# output - data frame\n",
    "df = CSV.read(\"data_\"*year*\"/ExportData_\"*mounth*\".csv\", DataFrame, delim=';',\n",
    "    quoted=true, decimal=',', dateformat=\"dd/mm/yyyy\",header=1)\n",
    "\n",
    "print(df[:,1:5])"
   ]
  },
  {
   "cell_type": "markdown",
   "id": "79892e61",
   "metadata": {},
   "source": [
    "## 2. Numero di giorni nel mese"
   ]
  },
  {
   "cell_type": "code",
   "execution_count": 7,
   "id": "faf04bbf",
   "metadata": {},
   "outputs": [
    {
     "data": {
      "text/plain": [
       "31"
      ]
     },
     "execution_count": 7,
     "metadata": {},
     "output_type": "execute_result"
    }
   ],
   "source": [
    "N_day = Int64(size(df,1))"
   ]
  },
  {
   "cell_type": "markdown",
   "id": "71ef7e83",
   "metadata": {},
   "source": [
    "## 3. Add features \"DayOfTheWeek\" es Monday,Thuesday,etc\n",
    "Creo un DataFrame con i giorni della settimana - pacchetto Pkg.Dates\n",
    "### Esempio utilizzo funzione dayname del pacchetto Dates"
   ]
  },
  {
   "cell_type": "code",
   "execution_count": 38,
   "id": "dee8ac24",
   "metadata": {
    "scrolled": true
   },
   "outputs": [
    {
     "data": {
      "text/plain": [
       "\"Monday\""
      ]
     },
     "execution_count": 38,
     "metadata": {},
     "output_type": "execute_result"
    }
   ],
   "source": [
    "Dates.dayname(df[10,1])"
   ]
  },
  {
   "cell_type": "code",
   "execution_count": 17,
   "id": "b28f1770",
   "metadata": {},
   "outputs": [
    {
     "data": {
      "text/plain": [
       "31-element Vector{String}:\n",
       " \"Saturday\"\n",
       " \"Sunday\"\n",
       " \"Monday\"\n",
       " \"Tuesday\"\n",
       " \"Wednesday\"\n",
       " \"Thursday\"\n",
       " \"Friday\"\n",
       " \"Saturday\"\n",
       " \"Sunday\"\n",
       " \"Monday\"\n",
       " \"Tuesday\"\n",
       " \"Wednesday\"\n",
       " \"Thursday\"\n",
       " ⋮\n",
       " \"Thursday\"\n",
       " \"Friday\"\n",
       " \"Saturday\"\n",
       " \"Sunday\"\n",
       " \"Monday\"\n",
       " \"Tuesday\"\n",
       " \"Wednesday\"\n",
       " \"Thursday\"\n",
       " \"Friday\"\n",
       " \"Saturday\"\n",
       " \"Sunday\"\n",
       " \"Monday\""
      ]
     },
     "execution_count": 17,
     "metadata": {},
     "output_type": "execute_result"
    }
   ],
   "source": [
    "DayOfTheWeek"
   ]
  },
  {
   "cell_type": "markdown",
   "id": "c31dbd3e",
   "metadata": {},
   "source": [
    "### Creo DataFrame con giorni della settimana "
   ]
  },
  {
   "cell_type": "code",
   "execution_count": 25,
   "id": "4e0ac82d",
   "metadata": {},
   "outputs": [
    {
     "data": {
      "text/html": [
       "<div class=\"data-frame\"><p>31 rows × 2 columns</p><table class=\"data-frame\"><thead><tr><th></th><th>Giorno</th><th>GiornoSettimana</th></tr><tr><th></th><th title=\"Date\">Date</th><th title=\"String\">String</th></tr></thead><tbody><tr><th>1</th><td>2022-01-01</td><td>Saturday</td></tr><tr><th>2</th><td>2022-01-02</td><td>Sunday</td></tr><tr><th>3</th><td>2022-01-03</td><td>Monday</td></tr><tr><th>4</th><td>2022-01-04</td><td>Tuesday</td></tr><tr><th>5</th><td>2022-01-05</td><td>Wednesday</td></tr><tr><th>6</th><td>2022-01-06</td><td>Thursday</td></tr><tr><th>7</th><td>2022-01-07</td><td>Friday</td></tr><tr><th>8</th><td>2022-01-08</td><td>Saturday</td></tr><tr><th>9</th><td>2022-01-09</td><td>Sunday</td></tr><tr><th>10</th><td>2022-01-10</td><td>Monday</td></tr><tr><th>11</th><td>2022-01-11</td><td>Tuesday</td></tr><tr><th>12</th><td>2022-01-12</td><td>Wednesday</td></tr><tr><th>13</th><td>2022-01-13</td><td>Thursday</td></tr><tr><th>14</th><td>2022-01-14</td><td>Friday</td></tr><tr><th>15</th><td>2022-01-15</td><td>Saturday</td></tr><tr><th>16</th><td>2022-01-16</td><td>Sunday</td></tr><tr><th>17</th><td>2022-01-17</td><td>Monday</td></tr><tr><th>18</th><td>2022-01-18</td><td>Tuesday</td></tr><tr><th>19</th><td>2022-01-19</td><td>Wednesday</td></tr><tr><th>20</th><td>2022-01-20</td><td>Thursday</td></tr><tr><th>21</th><td>2022-01-21</td><td>Friday</td></tr><tr><th>22</th><td>2022-01-22</td><td>Saturday</td></tr><tr><th>23</th><td>2022-01-23</td><td>Sunday</td></tr><tr><th>24</th><td>2022-01-24</td><td>Monday</td></tr><tr><th>25</th><td>2022-01-25</td><td>Tuesday</td></tr><tr><th>26</th><td>2022-01-26</td><td>Wednesday</td></tr><tr><th>27</th><td>2022-01-27</td><td>Thursday</td></tr><tr><th>28</th><td>2022-01-28</td><td>Friday</td></tr><tr><th>29</th><td>2022-01-29</td><td>Saturday</td></tr><tr><th>30</th><td>2022-01-30</td><td>Sunday</td></tr><tr><th>&vellip;</th><td>&vellip;</td><td>&vellip;</td></tr></tbody></table></div>"
      ],
      "text/latex": [
       "\\begin{tabular}{r|cc}\n",
       "\t& Giorno & GiornoSettimana\\\\\n",
       "\t\\hline\n",
       "\t& Date & String\\\\\n",
       "\t\\hline\n",
       "\t1 & 2022-01-01 & Saturday \\\\\n",
       "\t2 & 2022-01-02 & Sunday \\\\\n",
       "\t3 & 2022-01-03 & Monday \\\\\n",
       "\t4 & 2022-01-04 & Tuesday \\\\\n",
       "\t5 & 2022-01-05 & Wednesday \\\\\n",
       "\t6 & 2022-01-06 & Thursday \\\\\n",
       "\t7 & 2022-01-07 & Friday \\\\\n",
       "\t8 & 2022-01-08 & Saturday \\\\\n",
       "\t9 & 2022-01-09 & Sunday \\\\\n",
       "\t10 & 2022-01-10 & Monday \\\\\n",
       "\t11 & 2022-01-11 & Tuesday \\\\\n",
       "\t12 & 2022-01-12 & Wednesday \\\\\n",
       "\t13 & 2022-01-13 & Thursday \\\\\n",
       "\t14 & 2022-01-14 & Friday \\\\\n",
       "\t15 & 2022-01-15 & Saturday \\\\\n",
       "\t16 & 2022-01-16 & Sunday \\\\\n",
       "\t17 & 2022-01-17 & Monday \\\\\n",
       "\t18 & 2022-01-18 & Tuesday \\\\\n",
       "\t19 & 2022-01-19 & Wednesday \\\\\n",
       "\t20 & 2022-01-20 & Thursday \\\\\n",
       "\t21 & 2022-01-21 & Friday \\\\\n",
       "\t22 & 2022-01-22 & Saturday \\\\\n",
       "\t23 & 2022-01-23 & Sunday \\\\\n",
       "\t24 & 2022-01-24 & Monday \\\\\n",
       "\t25 & 2022-01-25 & Tuesday \\\\\n",
       "\t26 & 2022-01-26 & Wednesday \\\\\n",
       "\t27 & 2022-01-27 & Thursday \\\\\n",
       "\t28 & 2022-01-28 & Friday \\\\\n",
       "\t29 & 2022-01-29 & Saturday \\\\\n",
       "\t30 & 2022-01-30 & Sunday \\\\\n",
       "\t$\\dots$ & $\\dots$ & $\\dots$ \\\\\n",
       "\\end{tabular}\n"
      ],
      "text/plain": [
       "\u001b[1m31×2 DataFrame\u001b[0m\n",
       "\u001b[1m Row \u001b[0m│\u001b[1m Giorno     \u001b[0m\u001b[1m GiornoSettimana \u001b[0m\n",
       "\u001b[1m     \u001b[0m│\u001b[90m Date       \u001b[0m\u001b[90m String          \u001b[0m\n",
       "─────┼─────────────────────────────\n",
       "   1 │ 2022-01-01  Saturday\n",
       "   2 │ 2022-01-02  Sunday\n",
       "   3 │ 2022-01-03  Monday\n",
       "   4 │ 2022-01-04  Tuesday\n",
       "   5 │ 2022-01-05  Wednesday\n",
       "   6 │ 2022-01-06  Thursday\n",
       "   7 │ 2022-01-07  Friday\n",
       "   8 │ 2022-01-08  Saturday\n",
       "   9 │ 2022-01-09  Sunday\n",
       "  10 │ 2022-01-10  Monday\n",
       "  11 │ 2022-01-11  Tuesday\n",
       "  ⋮  │     ⋮              ⋮\n",
       "  22 │ 2022-01-22  Saturday\n",
       "  23 │ 2022-01-23  Sunday\n",
       "  24 │ 2022-01-24  Monday\n",
       "  25 │ 2022-01-25  Tuesday\n",
       "  26 │ 2022-01-26  Wednesday\n",
       "  27 │ 2022-01-27  Thursday\n",
       "  28 │ 2022-01-28  Friday\n",
       "  29 │ 2022-01-29  Saturday\n",
       "  30 │ 2022-01-30  Sunday\n",
       "  31 │ 2022-01-31  Monday\n",
       "\u001b[36m                    10 rows omitted\u001b[0m"
      ]
     },
     "execution_count": 25,
     "metadata": {},
     "output_type": "execute_result"
    }
   ],
   "source": [
    "DayOfTheWeek = Vector{String}()\n",
    "\n",
    "for j = 1:N_day\n",
    "    push!(DayOfTheWeek, Dates.dayname(df[j,1]))\n",
    "end\n",
    "\n",
    "DayOfTheWeek\n",
    "\n",
    "days_of_the_week = DataFrame(Giorno = df.\"Giorno\", GiornoSettimana = DayOfTheWeek)"
   ]
  },
  {
   "cell_type": "markdown",
   "id": "a80d02c5",
   "metadata": {},
   "source": [
    "### Unisco DataFrame e-distribuzione standard con DayOfTheWeek"
   ]
  },
  {
   "cell_type": "code",
   "execution_count": 30,
   "id": "266f9e8c",
   "metadata": {},
   "outputs": [
    {
     "data": {
      "text/html": [
       "<div class=\"data-frame\"><p>31 rows × 4 columns</p><table class=\"data-frame\"><thead><tr><th></th><th>23:30-23:45</th><th>23:45-00:00</th><th>Column98</th><th>GiornoSettimana</th></tr><tr><th></th><th title=\"Float64\">Float64</th><th title=\"Float64\">Float64</th><th title=\"Missing\">Missing</th><th title=\"String\">String</th></tr></thead><tbody><tr><th>1</th><td>0.008</td><td>0.019</td><td><em>missing</em></td><td>Saturday</td></tr><tr><th>2</th><td>0.004</td><td>0.004</td><td><em>missing</em></td><td>Sunday</td></tr><tr><th>3</th><td>0.014</td><td>0.018</td><td><em>missing</em></td><td>Monday</td></tr><tr><th>4</th><td>0.054</td><td>0.052</td><td><em>missing</em></td><td>Tuesday</td></tr><tr><th>5</th><td>0.017</td><td>0.008</td><td><em>missing</em></td><td>Wednesday</td></tr><tr><th>6</th><td>0.05</td><td>0.013</td><td><em>missing</em></td><td>Thursday</td></tr><tr><th>7</th><td>0.246</td><td>0.415</td><td><em>missing</em></td><td>Friday</td></tr><tr><th>8</th><td>0.052</td><td>0.048</td><td><em>missing</em></td><td>Saturday</td></tr><tr><th>9</th><td>0.041</td><td>0.069</td><td><em>missing</em></td><td>Sunday</td></tr><tr><th>10</th><td>0.007</td><td>0.015</td><td><em>missing</em></td><td>Monday</td></tr><tr><th>11</th><td>0.004</td><td>0.005</td><td><em>missing</em></td><td>Tuesday</td></tr><tr><th>12</th><td>0.034</td><td>0.039</td><td><em>missing</em></td><td>Wednesday</td></tr><tr><th>13</th><td>0.043</td><td>0.035</td><td><em>missing</em></td><td>Thursday</td></tr><tr><th>14</th><td>0.024</td><td>0.013</td><td><em>missing</em></td><td>Friday</td></tr><tr><th>15</th><td>0.026</td><td>0.045</td><td><em>missing</em></td><td>Saturday</td></tr><tr><th>16</th><td>0.007</td><td>0.008</td><td><em>missing</em></td><td>Sunday</td></tr><tr><th>17</th><td>0.013</td><td>0.017</td><td><em>missing</em></td><td>Monday</td></tr><tr><th>18</th><td>0.088</td><td>0.423</td><td><em>missing</em></td><td>Tuesday</td></tr><tr><th>19</th><td>0.033</td><td>0.037</td><td><em>missing</em></td><td>Wednesday</td></tr><tr><th>20</th><td>0.031</td><td>0.023</td><td><em>missing</em></td><td>Thursday</td></tr><tr><th>21</th><td>0.045</td><td>0.043</td><td><em>missing</em></td><td>Friday</td></tr><tr><th>22</th><td>0.012</td><td>0.011</td><td><em>missing</em></td><td>Saturday</td></tr><tr><th>23</th><td>0.042</td><td>0.036</td><td><em>missing</em></td><td>Sunday</td></tr><tr><th>24</th><td>0.041</td><td>0.033</td><td><em>missing</em></td><td>Monday</td></tr><tr><th>25</th><td>0.053</td><td>0.047</td><td><em>missing</em></td><td>Tuesday</td></tr><tr><th>26</th><td>0.018</td><td>0.01</td><td><em>missing</em></td><td>Wednesday</td></tr><tr><th>27</th><td>0.028</td><td>0.022</td><td><em>missing</em></td><td>Thursday</td></tr><tr><th>28</th><td>0.003</td><td>0.016</td><td><em>missing</em></td><td>Friday</td></tr><tr><th>29</th><td>0.212</td><td>0.398</td><td><em>missing</em></td><td>Saturday</td></tr><tr><th>30</th><td>0.032</td><td>0.05</td><td><em>missing</em></td><td>Sunday</td></tr><tr><th>&vellip;</th><td>&vellip;</td><td>&vellip;</td><td>&vellip;</td><td>&vellip;</td></tr></tbody></table></div>"
      ],
      "text/latex": [
       "\\begin{tabular}{r|cccc}\n",
       "\t& 23:30-23:45 & 23:45-00:00 & Column98 & GiornoSettimana\\\\\n",
       "\t\\hline\n",
       "\t& Float64 & Float64 & Missing & String\\\\\n",
       "\t\\hline\n",
       "\t1 & 0.008 & 0.019 & \\emph{missing} & Saturday \\\\\n",
       "\t2 & 0.004 & 0.004 & \\emph{missing} & Sunday \\\\\n",
       "\t3 & 0.014 & 0.018 & \\emph{missing} & Monday \\\\\n",
       "\t4 & 0.054 & 0.052 & \\emph{missing} & Tuesday \\\\\n",
       "\t5 & 0.017 & 0.008 & \\emph{missing} & Wednesday \\\\\n",
       "\t6 & 0.05 & 0.013 & \\emph{missing} & Thursday \\\\\n",
       "\t7 & 0.246 & 0.415 & \\emph{missing} & Friday \\\\\n",
       "\t8 & 0.052 & 0.048 & \\emph{missing} & Saturday \\\\\n",
       "\t9 & 0.041 & 0.069 & \\emph{missing} & Sunday \\\\\n",
       "\t10 & 0.007 & 0.015 & \\emph{missing} & Monday \\\\\n",
       "\t11 & 0.004 & 0.005 & \\emph{missing} & Tuesday \\\\\n",
       "\t12 & 0.034 & 0.039 & \\emph{missing} & Wednesday \\\\\n",
       "\t13 & 0.043 & 0.035 & \\emph{missing} & Thursday \\\\\n",
       "\t14 & 0.024 & 0.013 & \\emph{missing} & Friday \\\\\n",
       "\t15 & 0.026 & 0.045 & \\emph{missing} & Saturday \\\\\n",
       "\t16 & 0.007 & 0.008 & \\emph{missing} & Sunday \\\\\n",
       "\t17 & 0.013 & 0.017 & \\emph{missing} & Monday \\\\\n",
       "\t18 & 0.088 & 0.423 & \\emph{missing} & Tuesday \\\\\n",
       "\t19 & 0.033 & 0.037 & \\emph{missing} & Wednesday \\\\\n",
       "\t20 & 0.031 & 0.023 & \\emph{missing} & Thursday \\\\\n",
       "\t21 & 0.045 & 0.043 & \\emph{missing} & Friday \\\\\n",
       "\t22 & 0.012 & 0.011 & \\emph{missing} & Saturday \\\\\n",
       "\t23 & 0.042 & 0.036 & \\emph{missing} & Sunday \\\\\n",
       "\t24 & 0.041 & 0.033 & \\emph{missing} & Monday \\\\\n",
       "\t25 & 0.053 & 0.047 & \\emph{missing} & Tuesday \\\\\n",
       "\t26 & 0.018 & 0.01 & \\emph{missing} & Wednesday \\\\\n",
       "\t27 & 0.028 & 0.022 & \\emph{missing} & Thursday \\\\\n",
       "\t28 & 0.003 & 0.016 & \\emph{missing} & Friday \\\\\n",
       "\t29 & 0.212 & 0.398 & \\emph{missing} & Saturday \\\\\n",
       "\t30 & 0.032 & 0.05 & \\emph{missing} & Sunday \\\\\n",
       "\t$\\dots$ & $\\dots$ & $\\dots$ & $\\dots$ & $\\dots$ \\\\\n",
       "\\end{tabular}\n"
      ],
      "text/plain": [
       "\u001b[1m31×4 DataFrame\u001b[0m\n",
       "\u001b[1m Row \u001b[0m│\u001b[1m 23:30-23:45 \u001b[0m\u001b[1m 23:45-00:00 \u001b[0m\u001b[1m Column98 \u001b[0m\u001b[1m GiornoSettimana \u001b[0m\n",
       "\u001b[1m     \u001b[0m│\u001b[90m Float64     \u001b[0m\u001b[90m Float64     \u001b[0m\u001b[90m Missing  \u001b[0m\u001b[90m String          \u001b[0m\n",
       "─────┼─────────────────────────────────────────────────────\n",
       "   1 │       0.008        0.019 \u001b[90m  missing \u001b[0m Saturday\n",
       "   2 │       0.004        0.004 \u001b[90m  missing \u001b[0m Sunday\n",
       "   3 │       0.014        0.018 \u001b[90m  missing \u001b[0m Monday\n",
       "   4 │       0.054        0.052 \u001b[90m  missing \u001b[0m Tuesday\n",
       "   5 │       0.017        0.008 \u001b[90m  missing \u001b[0m Wednesday\n",
       "   6 │       0.05         0.013 \u001b[90m  missing \u001b[0m Thursday\n",
       "   7 │       0.246        0.415 \u001b[90m  missing \u001b[0m Friday\n",
       "   8 │       0.052        0.048 \u001b[90m  missing \u001b[0m Saturday\n",
       "   9 │       0.041        0.069 \u001b[90m  missing \u001b[0m Sunday\n",
       "  10 │       0.007        0.015 \u001b[90m  missing \u001b[0m Monday\n",
       "  11 │       0.004        0.005 \u001b[90m  missing \u001b[0m Tuesday\n",
       "  ⋮  │      ⋮            ⋮          ⋮             ⋮\n",
       "  22 │       0.012        0.011 \u001b[90m  missing \u001b[0m Saturday\n",
       "  23 │       0.042        0.036 \u001b[90m  missing \u001b[0m Sunday\n",
       "  24 │       0.041        0.033 \u001b[90m  missing \u001b[0m Monday\n",
       "  25 │       0.053        0.047 \u001b[90m  missing \u001b[0m Tuesday\n",
       "  26 │       0.018        0.01  \u001b[90m  missing \u001b[0m Wednesday\n",
       "  27 │       0.028        0.022 \u001b[90m  missing \u001b[0m Thursday\n",
       "  28 │       0.003        0.016 \u001b[90m  missing \u001b[0m Friday\n",
       "  29 │       0.212        0.398 \u001b[90m  missing \u001b[0m Saturday\n",
       "  30 │       0.032        0.05  \u001b[90m  missing \u001b[0m Sunday\n",
       "  31 │       0.038        0.043 \u001b[90m  missing \u001b[0m Monday\n",
       "\u001b[36m                                            10 rows omitted\u001b[0m"
      ]
     },
     "execution_count": 30,
     "metadata": {},
     "output_type": "execute_result"
    }
   ],
   "source": [
    "df_g = innerjoin(df, days_of_the_week, on = :Giorno)\n",
    "df_g[:,96:end]"
   ]
  },
  {
   "cell_type": "markdown",
   "id": "e3c064dc",
   "metadata": {},
   "source": [
    "### Gennaio 2022 - Aggiungi informazione festività italiane\n",
    "Valido solo per Gennaio 2022 -> San Silvestro Befana"
   ]
  },
  {
   "cell_type": "code",
   "execution_count": 48,
   "id": "323189ee",
   "metadata": {},
   "outputs": [
    {
     "data": {
      "text/html": [
       "<div class=\"data-frame\"><p>31 rows × 5 columns</p><table class=\"data-frame\"><thead><tr><th></th><th>23:30-23:45</th><th>23:45-00:00</th><th>Column98</th><th>GiornoSettimana</th><th>Festività</th></tr><tr><th></th><th title=\"Float64\">Float64</th><th title=\"Float64\">Float64</th><th title=\"Missing\">Missing</th><th title=\"String\">String</th><th title=\"Float64\">Float64</th></tr></thead><tbody><tr><th>1</th><td>0.008</td><td>0.019</td><td><em>missing</em></td><td>Saturday</td><td>1.0</td></tr><tr><th>2</th><td>0.004</td><td>0.004</td><td><em>missing</em></td><td>Sunday</td><td>0.0</td></tr><tr><th>3</th><td>0.014</td><td>0.018</td><td><em>missing</em></td><td>Monday</td><td>0.0</td></tr><tr><th>4</th><td>0.054</td><td>0.052</td><td><em>missing</em></td><td>Tuesday</td><td>0.0</td></tr><tr><th>5</th><td>0.017</td><td>0.008</td><td><em>missing</em></td><td>Wednesday</td><td>0.0</td></tr><tr><th>6</th><td>0.05</td><td>0.013</td><td><em>missing</em></td><td>Thursday</td><td>1.0</td></tr><tr><th>7</th><td>0.246</td><td>0.415</td><td><em>missing</em></td><td>Friday</td><td>0.0</td></tr><tr><th>8</th><td>0.052</td><td>0.048</td><td><em>missing</em></td><td>Saturday</td><td>0.0</td></tr><tr><th>9</th><td>0.041</td><td>0.069</td><td><em>missing</em></td><td>Sunday</td><td>0.0</td></tr><tr><th>10</th><td>0.007</td><td>0.015</td><td><em>missing</em></td><td>Monday</td><td>0.0</td></tr><tr><th>11</th><td>0.004</td><td>0.005</td><td><em>missing</em></td><td>Tuesday</td><td>0.0</td></tr><tr><th>12</th><td>0.034</td><td>0.039</td><td><em>missing</em></td><td>Wednesday</td><td>0.0</td></tr><tr><th>13</th><td>0.043</td><td>0.035</td><td><em>missing</em></td><td>Thursday</td><td>0.0</td></tr><tr><th>14</th><td>0.024</td><td>0.013</td><td><em>missing</em></td><td>Friday</td><td>0.0</td></tr><tr><th>15</th><td>0.026</td><td>0.045</td><td><em>missing</em></td><td>Saturday</td><td>0.0</td></tr><tr><th>16</th><td>0.007</td><td>0.008</td><td><em>missing</em></td><td>Sunday</td><td>0.0</td></tr><tr><th>17</th><td>0.013</td><td>0.017</td><td><em>missing</em></td><td>Monday</td><td>0.0</td></tr><tr><th>18</th><td>0.088</td><td>0.423</td><td><em>missing</em></td><td>Tuesday</td><td>0.0</td></tr><tr><th>19</th><td>0.033</td><td>0.037</td><td><em>missing</em></td><td>Wednesday</td><td>0.0</td></tr><tr><th>20</th><td>0.031</td><td>0.023</td><td><em>missing</em></td><td>Thursday</td><td>0.0</td></tr><tr><th>21</th><td>0.045</td><td>0.043</td><td><em>missing</em></td><td>Friday</td><td>0.0</td></tr><tr><th>22</th><td>0.012</td><td>0.011</td><td><em>missing</em></td><td>Saturday</td><td>0.0</td></tr><tr><th>23</th><td>0.042</td><td>0.036</td><td><em>missing</em></td><td>Sunday</td><td>0.0</td></tr><tr><th>24</th><td>0.041</td><td>0.033</td><td><em>missing</em></td><td>Monday</td><td>0.0</td></tr><tr><th>25</th><td>0.053</td><td>0.047</td><td><em>missing</em></td><td>Tuesday</td><td>0.0</td></tr><tr><th>26</th><td>0.018</td><td>0.01</td><td><em>missing</em></td><td>Wednesday</td><td>0.0</td></tr><tr><th>27</th><td>0.028</td><td>0.022</td><td><em>missing</em></td><td>Thursday</td><td>0.0</td></tr><tr><th>28</th><td>0.003</td><td>0.016</td><td><em>missing</em></td><td>Friday</td><td>0.0</td></tr><tr><th>29</th><td>0.212</td><td>0.398</td><td><em>missing</em></td><td>Saturday</td><td>0.0</td></tr><tr><th>30</th><td>0.032</td><td>0.05</td><td><em>missing</em></td><td>Sunday</td><td>0.0</td></tr><tr><th>&vellip;</th><td>&vellip;</td><td>&vellip;</td><td>&vellip;</td><td>&vellip;</td><td>&vellip;</td></tr></tbody></table></div>"
      ],
      "text/latex": [
       "\\begin{tabular}{r|ccccc}\n",
       "\t& 23:30-23:45 & 23:45-00:00 & Column98 & GiornoSettimana & Festività\\\\\n",
       "\t\\hline\n",
       "\t& Float64 & Float64 & Missing & String & Float64\\\\\n",
       "\t\\hline\n",
       "\t1 & 0.008 & 0.019 & \\emph{missing} & Saturday & 1.0 \\\\\n",
       "\t2 & 0.004 & 0.004 & \\emph{missing} & Sunday & 0.0 \\\\\n",
       "\t3 & 0.014 & 0.018 & \\emph{missing} & Monday & 0.0 \\\\\n",
       "\t4 & 0.054 & 0.052 & \\emph{missing} & Tuesday & 0.0 \\\\\n",
       "\t5 & 0.017 & 0.008 & \\emph{missing} & Wednesday & 0.0 \\\\\n",
       "\t6 & 0.05 & 0.013 & \\emph{missing} & Thursday & 1.0 \\\\\n",
       "\t7 & 0.246 & 0.415 & \\emph{missing} & Friday & 0.0 \\\\\n",
       "\t8 & 0.052 & 0.048 & \\emph{missing} & Saturday & 0.0 \\\\\n",
       "\t9 & 0.041 & 0.069 & \\emph{missing} & Sunday & 0.0 \\\\\n",
       "\t10 & 0.007 & 0.015 & \\emph{missing} & Monday & 0.0 \\\\\n",
       "\t11 & 0.004 & 0.005 & \\emph{missing} & Tuesday & 0.0 \\\\\n",
       "\t12 & 0.034 & 0.039 & \\emph{missing} & Wednesday & 0.0 \\\\\n",
       "\t13 & 0.043 & 0.035 & \\emph{missing} & Thursday & 0.0 \\\\\n",
       "\t14 & 0.024 & 0.013 & \\emph{missing} & Friday & 0.0 \\\\\n",
       "\t15 & 0.026 & 0.045 & \\emph{missing} & Saturday & 0.0 \\\\\n",
       "\t16 & 0.007 & 0.008 & \\emph{missing} & Sunday & 0.0 \\\\\n",
       "\t17 & 0.013 & 0.017 & \\emph{missing} & Monday & 0.0 \\\\\n",
       "\t18 & 0.088 & 0.423 & \\emph{missing} & Tuesday & 0.0 \\\\\n",
       "\t19 & 0.033 & 0.037 & \\emph{missing} & Wednesday & 0.0 \\\\\n",
       "\t20 & 0.031 & 0.023 & \\emph{missing} & Thursday & 0.0 \\\\\n",
       "\t21 & 0.045 & 0.043 & \\emph{missing} & Friday & 0.0 \\\\\n",
       "\t22 & 0.012 & 0.011 & \\emph{missing} & Saturday & 0.0 \\\\\n",
       "\t23 & 0.042 & 0.036 & \\emph{missing} & Sunday & 0.0 \\\\\n",
       "\t24 & 0.041 & 0.033 & \\emph{missing} & Monday & 0.0 \\\\\n",
       "\t25 & 0.053 & 0.047 & \\emph{missing} & Tuesday & 0.0 \\\\\n",
       "\t26 & 0.018 & 0.01 & \\emph{missing} & Wednesday & 0.0 \\\\\n",
       "\t27 & 0.028 & 0.022 & \\emph{missing} & Thursday & 0.0 \\\\\n",
       "\t28 & 0.003 & 0.016 & \\emph{missing} & Friday & 0.0 \\\\\n",
       "\t29 & 0.212 & 0.398 & \\emph{missing} & Saturday & 0.0 \\\\\n",
       "\t30 & 0.032 & 0.05 & \\emph{missing} & Sunday & 0.0 \\\\\n",
       "\t$\\dots$ & $\\dots$ & $\\dots$ & $\\dots$ & $\\dots$ & $\\dots$ \\\\\n",
       "\\end{tabular}\n"
      ],
      "text/plain": [
       "\u001b[1m31×5 DataFrame\u001b[0m\n",
       "\u001b[1m Row \u001b[0m│\u001b[1m 23:30-23:45 \u001b[0m\u001b[1m 23:45-00:00 \u001b[0m\u001b[1m Column98 \u001b[0m\u001b[1m GiornoSettimana \u001b[0m\u001b[1m Festività \u001b[0m\n",
       "\u001b[1m     \u001b[0m│\u001b[90m Float64     \u001b[0m\u001b[90m Float64     \u001b[0m\u001b[90m Missing  \u001b[0m\u001b[90m String          \u001b[0m\u001b[90m Float64   \u001b[0m\n",
       "─────┼────────────────────────────────────────────────────────────────\n",
       "   1 │       0.008        0.019 \u001b[90m  missing \u001b[0m Saturday               1.0\n",
       "   2 │       0.004        0.004 \u001b[90m  missing \u001b[0m Sunday                 0.0\n",
       "   3 │       0.014        0.018 \u001b[90m  missing \u001b[0m Monday                 0.0\n",
       "   4 │       0.054        0.052 \u001b[90m  missing \u001b[0m Tuesday                0.0\n",
       "   5 │       0.017        0.008 \u001b[90m  missing \u001b[0m Wednesday              0.0\n",
       "   6 │       0.05         0.013 \u001b[90m  missing \u001b[0m Thursday               1.0\n",
       "   7 │       0.246        0.415 \u001b[90m  missing \u001b[0m Friday                 0.0\n",
       "   8 │       0.052        0.048 \u001b[90m  missing \u001b[0m Saturday               0.0\n",
       "   9 │       0.041        0.069 \u001b[90m  missing \u001b[0m Sunday                 0.0\n",
       "  10 │       0.007        0.015 \u001b[90m  missing \u001b[0m Monday                 0.0\n",
       "  11 │       0.004        0.005 \u001b[90m  missing \u001b[0m Tuesday                0.0\n",
       "  ⋮  │      ⋮            ⋮          ⋮             ⋮             ⋮\n",
       "  22 │       0.012        0.011 \u001b[90m  missing \u001b[0m Saturday               0.0\n",
       "  23 │       0.042        0.036 \u001b[90m  missing \u001b[0m Sunday                 0.0\n",
       "  24 │       0.041        0.033 \u001b[90m  missing \u001b[0m Monday                 0.0\n",
       "  25 │       0.053        0.047 \u001b[90m  missing \u001b[0m Tuesday                0.0\n",
       "  26 │       0.018        0.01  \u001b[90m  missing \u001b[0m Wednesday              0.0\n",
       "  27 │       0.028        0.022 \u001b[90m  missing \u001b[0m Thursday               0.0\n",
       "  28 │       0.003        0.016 \u001b[90m  missing \u001b[0m Friday                 0.0\n",
       "  29 │       0.212        0.398 \u001b[90m  missing \u001b[0m Saturday               0.0\n",
       "  30 │       0.032        0.05  \u001b[90m  missing \u001b[0m Sunday                 0.0\n",
       "  31 │       0.038        0.043 \u001b[90m  missing \u001b[0m Monday                 0.0\n",
       "\u001b[36m                                                       10 rows omitted\u001b[0m"
      ]
     },
     "execution_count": 48,
     "metadata": {},
     "output_type": "execute_result"
    }
   ],
   "source": [
    "holidays= zeros(N_day)\n",
    "\n",
    "for j = 1:N_day\n",
    "    if df.\"Giorno\"[j] == Date(2022,1,1) #San Silvestro\n",
    "    holidays[j] = true\n",
    "    elseif df.\"Giorno\"[j] == Date(2022,1,6) #Befana\n",
    "        holidays[j] = true\n",
    "    else \n",
    "        holidays[j] = false\n",
    "    end\n",
    "end\n",
    "\n",
    "holidays_genuary = DataFrame(Giorno = df.\"Giorno\", Festività = holidays)\n",
    "\n",
    "## Unisco i due DataFrame\n",
    "df_g_f = innerjoin(df_g, holidays_genuary, on = :Giorno)\n",
    "df_g_f[:,96:end]"
   ]
  },
  {
   "cell_type": "code",
   "execution_count": 48,
   "id": "b16b8181",
   "metadata": {
    "scrolled": true
   },
   "outputs": [
    {
     "data": {
      "image/svg+xml": [
       "<?xml version=\"1.0\" encoding=\"utf-8\"?>\n",
       "<svg xmlns=\"http://www.w3.org/2000/svg\" xmlns:xlink=\"http://www.w3.org/1999/xlink\" width=\"600\" height=\"400\" viewBox=\"0 0 2400 1600\">\n",
       "<defs>\n",
       "  <clipPath id=\"clip360\">\n",
       "    <rect x=\"0\" y=\"0\" width=\"2400\" height=\"1600\"/>\n",
       "  </clipPath>\n",
       "</defs>\n",
       "<path clip-path=\"url(#clip360)\" d=\"\n",
       "M0 1600 L2400 1600 L2400 0 L0 0  Z\n",
       "  \" fill=\"#ffffff\" fill-rule=\"evenodd\" fill-opacity=\"1\"/>\n",
       "<defs>\n",
       "  <clipPath id=\"clip361\">\n",
       "    <rect x=\"480\" y=\"0\" width=\"1681\" height=\"1600\"/>\n",
       "  </clipPath>\n",
       "</defs>\n",
       "<path clip-path=\"url(#clip360)\" d=\"\n",
       "M112.177 1486.45 L2352.76 1486.45 L2352.76 47.2441 L112.177 47.2441  Z\n",
       "  \" fill=\"#ffffff\" fill-rule=\"evenodd\" fill-opacity=\"1\"/>\n",
       "<defs>\n",
       "  <clipPath id=\"clip362\">\n",
       "    <rect x=\"112\" y=\"47\" width=\"2242\" height=\"1440\"/>\n",
       "  </clipPath>\n",
       "</defs>\n",
       "<polyline clip-path=\"url(#clip362)\" style=\"stroke:#000000; stroke-linecap:butt; stroke-linejoin:round; stroke-width:2; stroke-opacity:0.1; fill:none\" points=\"\n",
       "  457.424,1486.45 457.424,47.2441 \n",
       "  \"/>\n",
       "<polyline clip-path=\"url(#clip362)\" style=\"stroke:#000000; stroke-linecap:butt; stroke-linejoin:round; stroke-width:2; stroke-opacity:0.1; fill:none\" points=\"\n",
       "  809.716,1486.45 809.716,47.2441 \n",
       "  \"/>\n",
       "<polyline clip-path=\"url(#clip362)\" style=\"stroke:#000000; stroke-linecap:butt; stroke-linejoin:round; stroke-width:2; stroke-opacity:0.1; fill:none\" points=\"\n",
       "  1162.01,1486.45 1162.01,47.2441 \n",
       "  \"/>\n",
       "<polyline clip-path=\"url(#clip362)\" style=\"stroke:#000000; stroke-linecap:butt; stroke-linejoin:round; stroke-width:2; stroke-opacity:0.1; fill:none\" points=\"\n",
       "  1514.3,1486.45 1514.3,47.2441 \n",
       "  \"/>\n",
       "<polyline clip-path=\"url(#clip362)\" style=\"stroke:#000000; stroke-linecap:butt; stroke-linejoin:round; stroke-width:2; stroke-opacity:0.1; fill:none\" points=\"\n",
       "  1866.59,1486.45 1866.59,47.2441 \n",
       "  \"/>\n",
       "<polyline clip-path=\"url(#clip362)\" style=\"stroke:#000000; stroke-linecap:butt; stroke-linejoin:round; stroke-width:2; stroke-opacity:0.1; fill:none\" points=\"\n",
       "  2218.88,1486.45 2218.88,47.2441 \n",
       "  \"/>\n",
       "<polyline clip-path=\"url(#clip360)\" style=\"stroke:#000000; stroke-linecap:butt; stroke-linejoin:round; stroke-width:4; stroke-opacity:1; fill:none\" points=\"\n",
       "  112.177,1486.45 2352.76,1486.45 \n",
       "  \"/>\n",
       "<polyline clip-path=\"url(#clip360)\" style=\"stroke:#000000; stroke-linecap:butt; stroke-linejoin:round; stroke-width:4; stroke-opacity:1; fill:none\" points=\"\n",
       "  457.424,1486.45 457.424,1467.55 \n",
       "  \"/>\n",
       "<polyline clip-path=\"url(#clip360)\" style=\"stroke:#000000; stroke-linecap:butt; stroke-linejoin:round; stroke-width:4; stroke-opacity:1; fill:none\" points=\"\n",
       "  809.716,1486.45 809.716,1467.55 \n",
       "  \"/>\n",
       "<polyline clip-path=\"url(#clip360)\" style=\"stroke:#000000; stroke-linecap:butt; stroke-linejoin:round; stroke-width:4; stroke-opacity:1; fill:none\" points=\"\n",
       "  1162.01,1486.45 1162.01,1467.55 \n",
       "  \"/>\n",
       "<polyline clip-path=\"url(#clip360)\" style=\"stroke:#000000; stroke-linecap:butt; stroke-linejoin:round; stroke-width:4; stroke-opacity:1; fill:none\" points=\"\n",
       "  1514.3,1486.45 1514.3,1467.55 \n",
       "  \"/>\n",
       "<polyline clip-path=\"url(#clip360)\" style=\"stroke:#000000; stroke-linecap:butt; stroke-linejoin:round; stroke-width:4; stroke-opacity:1; fill:none\" points=\"\n",
       "  1866.59,1486.45 1866.59,1467.55 \n",
       "  \"/>\n",
       "<polyline clip-path=\"url(#clip360)\" style=\"stroke:#000000; stroke-linecap:butt; stroke-linejoin:round; stroke-width:4; stroke-opacity:1; fill:none\" points=\"\n",
       "  2218.88,1486.45 2218.88,1467.55 \n",
       "  \"/>\n",
       "<path clip-path=\"url(#clip360)\" d=\"M447.701 1514.29 L466.058 1514.29 L466.058 1518.22 L451.984 1518.22 L451.984 1526.7 Q453.002 1526.35 454.021 1526.19 Q455.039 1526 456.058 1526 Q461.845 1526 465.224 1529.17 Q468.604 1532.34 468.604 1537.76 Q468.604 1543.34 465.132 1546.44 Q461.66 1549.52 455.34 1549.52 Q453.164 1549.52 450.896 1549.15 Q448.65 1548.78 446.243 1548.04 L446.243 1543.34 Q448.326 1544.47 450.549 1545.03 Q452.771 1545.58 455.248 1545.58 Q459.252 1545.58 461.59 1543.48 Q463.928 1541.37 463.928 1537.76 Q463.928 1534.15 461.59 1532.04 Q459.252 1529.94 455.248 1529.94 Q453.373 1529.94 451.498 1530.35 Q449.646 1530.77 447.701 1531.65 L447.701 1514.29 Z\" fill=\"#000000\" fill-rule=\"evenodd\" fill-opacity=\"1\" /><path clip-path=\"url(#clip360)\" d=\"M784.403 1544.91 L792.042 1544.91 L792.042 1518.55 L783.732 1520.21 L783.732 1515.95 L791.996 1514.29 L796.672 1514.29 L796.672 1544.91 L804.311 1544.91 L804.311 1548.85 L784.403 1548.85 L784.403 1544.91 Z\" fill=\"#000000\" fill-rule=\"evenodd\" fill-opacity=\"1\" /><path clip-path=\"url(#clip360)\" d=\"M823.755 1517.37 Q820.144 1517.37 818.315 1520.93 Q816.51 1524.47 816.51 1531.6 Q816.51 1538.71 818.315 1542.27 Q820.144 1545.82 823.755 1545.82 Q827.389 1545.82 829.195 1542.27 Q831.024 1538.71 831.024 1531.6 Q831.024 1524.47 829.195 1520.93 Q827.389 1517.37 823.755 1517.37 M823.755 1513.66 Q829.565 1513.66 832.621 1518.27 Q835.699 1522.85 835.699 1531.6 Q835.699 1540.33 832.621 1544.94 Q829.565 1549.52 823.755 1549.52 Q817.945 1549.52 814.866 1544.94 Q811.811 1540.33 811.811 1531.6 Q811.811 1522.85 814.866 1518.27 Q817.945 1513.66 823.755 1513.66 Z\" fill=\"#000000\" fill-rule=\"evenodd\" fill-opacity=\"1\" /><path clip-path=\"url(#clip360)\" d=\"M1137.19 1544.91 L1144.83 1544.91 L1144.83 1518.55 L1136.52 1520.21 L1136.52 1515.95 L1144.79 1514.29 L1149.46 1514.29 L1149.46 1544.91 L1157.1 1544.91 L1157.1 1548.85 L1137.19 1548.85 L1137.19 1544.91 Z\" fill=\"#000000\" fill-rule=\"evenodd\" fill-opacity=\"1\" /><path clip-path=\"url(#clip360)\" d=\"M1166.59 1514.29 L1184.95 1514.29 L1184.95 1518.22 L1170.87 1518.22 L1170.87 1526.7 Q1171.89 1526.35 1172.91 1526.19 Q1173.93 1526 1174.95 1526 Q1180.73 1526 1184.11 1529.17 Q1187.49 1532.34 1187.49 1537.76 Q1187.49 1543.34 1184.02 1546.44 Q1180.55 1549.52 1174.23 1549.52 Q1172.05 1549.52 1169.79 1549.15 Q1167.54 1548.78 1165.13 1548.04 L1165.13 1543.34 Q1167.22 1544.47 1169.44 1545.03 Q1171.66 1545.58 1174.14 1545.58 Q1178.14 1545.58 1180.48 1543.48 Q1182.82 1541.37 1182.82 1537.76 Q1182.82 1534.15 1180.48 1532.04 Q1178.14 1529.94 1174.14 1529.94 Q1172.26 1529.94 1170.39 1530.35 Q1168.54 1530.77 1166.59 1531.65 L1166.59 1514.29 Z\" fill=\"#000000\" fill-rule=\"evenodd\" fill-opacity=\"1\" /><path clip-path=\"url(#clip360)\" d=\"M1493.07 1544.91 L1509.39 1544.91 L1509.39 1548.85 L1487.45 1548.85 L1487.45 1544.91 Q1490.11 1542.16 1494.69 1537.53 Q1499.3 1532.88 1500.48 1531.53 Q1502.73 1529.01 1503.61 1527.27 Q1504.51 1525.51 1504.51 1523.82 Q1504.51 1521.07 1502.56 1519.33 Q1500.64 1517.6 1497.54 1517.6 Q1495.34 1517.6 1492.89 1518.36 Q1490.46 1519.13 1487.68 1520.68 L1487.68 1515.95 Q1490.5 1514.82 1492.96 1514.24 Q1495.41 1513.66 1497.45 1513.66 Q1502.82 1513.66 1506.01 1516.35 Q1509.21 1519.03 1509.21 1523.52 Q1509.21 1525.65 1508.4 1527.57 Q1507.61 1529.47 1505.5 1532.07 Q1504.93 1532.74 1501.82 1535.95 Q1498.72 1539.15 1493.07 1544.91 Z\" fill=\"#000000\" fill-rule=\"evenodd\" fill-opacity=\"1\" /><path clip-path=\"url(#clip360)\" d=\"M1529.21 1517.37 Q1525.6 1517.37 1523.77 1520.93 Q1521.96 1524.47 1521.96 1531.6 Q1521.96 1538.71 1523.77 1542.27 Q1525.6 1545.82 1529.21 1545.82 Q1532.84 1545.82 1534.65 1542.27 Q1536.48 1538.71 1536.48 1531.6 Q1536.48 1524.47 1534.65 1520.93 Q1532.84 1517.37 1529.21 1517.37 M1529.21 1513.66 Q1535.02 1513.66 1538.07 1518.27 Q1541.15 1522.85 1541.15 1531.6 Q1541.15 1540.33 1538.07 1544.94 Q1535.02 1549.52 1529.21 1549.52 Q1523.4 1549.52 1520.32 1544.94 Q1517.26 1540.33 1517.26 1531.6 Q1517.26 1522.85 1520.32 1518.27 Q1523.4 1513.66 1529.21 1513.66 Z\" fill=\"#000000\" fill-rule=\"evenodd\" fill-opacity=\"1\" /><path clip-path=\"url(#clip360)\" d=\"M1845.86 1544.91 L1862.18 1544.91 L1862.18 1548.85 L1840.24 1548.85 L1840.24 1544.91 Q1842.9 1542.16 1847.48 1537.53 Q1852.09 1532.88 1853.27 1531.53 Q1855.52 1529.01 1856.4 1527.27 Q1857.3 1525.51 1857.3 1523.82 Q1857.3 1521.07 1855.35 1519.33 Q1853.43 1517.6 1850.33 1517.6 Q1848.13 1517.6 1845.68 1518.36 Q1843.25 1519.13 1840.47 1520.68 L1840.47 1515.95 Q1843.29 1514.82 1845.75 1514.24 Q1848.2 1513.66 1850.24 1513.66 Q1855.61 1513.66 1858.8 1516.35 Q1862 1519.03 1862 1523.52 Q1862 1525.65 1861.19 1527.57 Q1860.4 1529.47 1858.29 1532.07 Q1857.72 1532.74 1854.61 1535.95 Q1851.51 1539.15 1845.86 1544.91 Z\" fill=\"#000000\" fill-rule=\"evenodd\" fill-opacity=\"1\" /><path clip-path=\"url(#clip360)\" d=\"M1872.04 1514.29 L1890.4 1514.29 L1890.4 1518.22 L1876.33 1518.22 L1876.33 1526.7 Q1877.34 1526.35 1878.36 1526.19 Q1879.38 1526 1880.4 1526 Q1886.19 1526 1889.57 1529.17 Q1892.95 1532.34 1892.95 1537.76 Q1892.95 1543.34 1889.47 1546.44 Q1886 1549.52 1879.68 1549.52 Q1877.51 1549.52 1875.24 1549.15 Q1872.99 1548.78 1870.59 1548.04 L1870.59 1543.34 Q1872.67 1544.47 1874.89 1545.03 Q1877.11 1545.58 1879.59 1545.58 Q1883.59 1545.58 1885.93 1543.48 Q1888.27 1541.37 1888.27 1537.76 Q1888.27 1534.15 1885.93 1532.04 Q1883.59 1529.94 1879.59 1529.94 Q1877.72 1529.94 1875.84 1530.35 Q1873.99 1530.77 1872.04 1531.65 L1872.04 1514.29 Z\" fill=\"#000000\" fill-rule=\"evenodd\" fill-opacity=\"1\" /><path clip-path=\"url(#clip360)\" d=\"M2207.73 1530.21 Q2211.08 1530.93 2212.96 1533.2 Q2214.86 1535.47 2214.86 1538.8 Q2214.86 1543.92 2211.34 1546.72 Q2207.82 1549.52 2201.34 1549.52 Q2199.16 1549.52 2196.85 1549.08 Q2194.56 1548.66 2192.1 1547.81 L2192.1 1543.29 Q2194.05 1544.43 2196.36 1545.01 Q2198.68 1545.58 2201.2 1545.58 Q2205.6 1545.58 2207.89 1543.85 Q2210.2 1542.11 2210.2 1538.8 Q2210.2 1535.75 2208.05 1534.03 Q2205.92 1532.3 2202.1 1532.3 L2198.07 1532.3 L2198.07 1528.45 L2202.29 1528.45 Q2205.74 1528.45 2207.57 1527.09 Q2209.39 1525.7 2209.39 1523.11 Q2209.39 1520.45 2207.5 1519.03 Q2205.62 1517.6 2202.1 1517.6 Q2200.18 1517.6 2197.98 1518.01 Q2195.78 1518.43 2193.14 1519.31 L2193.14 1515.14 Q2195.81 1514.4 2198.12 1514.03 Q2200.46 1513.66 2202.52 1513.66 Q2207.84 1513.66 2210.95 1516.09 Q2214.05 1518.5 2214.05 1522.62 Q2214.05 1525.49 2212.4 1527.48 Q2210.76 1529.45 2207.73 1530.21 Z\" fill=\"#000000\" fill-rule=\"evenodd\" fill-opacity=\"1\" /><path clip-path=\"url(#clip360)\" d=\"M2233.72 1517.37 Q2230.11 1517.37 2228.28 1520.93 Q2226.48 1524.47 2226.48 1531.6 Q2226.48 1538.71 2228.28 1542.27 Q2230.11 1545.82 2233.72 1545.82 Q2237.36 1545.82 2239.16 1542.27 Q2240.99 1538.71 2240.99 1531.6 Q2240.99 1524.47 2239.16 1520.93 Q2237.36 1517.37 2233.72 1517.37 M2233.72 1513.66 Q2239.53 1513.66 2242.59 1518.27 Q2245.67 1522.85 2245.67 1531.6 Q2245.67 1540.33 2242.59 1544.94 Q2239.53 1549.52 2233.72 1549.52 Q2227.91 1549.52 2224.83 1544.94 Q2221.78 1540.33 2221.78 1531.6 Q2221.78 1522.85 2224.83 1518.27 Q2227.91 1513.66 2233.72 1513.66 Z\" fill=\"#000000\" fill-rule=\"evenodd\" fill-opacity=\"1\" /><polyline clip-path=\"url(#clip362)\" style=\"stroke:#000000; stroke-linecap:butt; stroke-linejoin:round; stroke-width:2; stroke-opacity:0.1; fill:none\" points=\"\n",
       "  112.177,1390.95 2352.76,1390.95 \n",
       "  \"/>\n",
       "<polyline clip-path=\"url(#clip362)\" style=\"stroke:#000000; stroke-linecap:butt; stroke-linejoin:round; stroke-width:2; stroke-opacity:0.1; fill:none\" points=\"\n",
       "  112.177,982.237 2352.76,982.237 \n",
       "  \"/>\n",
       "<polyline clip-path=\"url(#clip362)\" style=\"stroke:#000000; stroke-linecap:butt; stroke-linejoin:round; stroke-width:2; stroke-opacity:0.1; fill:none\" points=\"\n",
       "  112.177,573.525 2352.76,573.525 \n",
       "  \"/>\n",
       "<polyline clip-path=\"url(#clip362)\" style=\"stroke:#000000; stroke-linecap:butt; stroke-linejoin:round; stroke-width:2; stroke-opacity:0.1; fill:none\" points=\"\n",
       "  112.177,164.814 2352.76,164.814 \n",
       "  \"/>\n",
       "<polyline clip-path=\"url(#clip360)\" style=\"stroke:#000000; stroke-linecap:butt; stroke-linejoin:round; stroke-width:4; stroke-opacity:1; fill:none\" points=\"\n",
       "  112.177,1486.45 112.177,47.2441 \n",
       "  \"/>\n",
       "<polyline clip-path=\"url(#clip360)\" style=\"stroke:#000000; stroke-linecap:butt; stroke-linejoin:round; stroke-width:4; stroke-opacity:1; fill:none\" points=\"\n",
       "  112.177,1390.95 131.075,1390.95 \n",
       "  \"/>\n",
       "<polyline clip-path=\"url(#clip360)\" style=\"stroke:#000000; stroke-linecap:butt; stroke-linejoin:round; stroke-width:4; stroke-opacity:1; fill:none\" points=\"\n",
       "  112.177,982.237 131.075,982.237 \n",
       "  \"/>\n",
       "<polyline clip-path=\"url(#clip360)\" style=\"stroke:#000000; stroke-linecap:butt; stroke-linejoin:round; stroke-width:4; stroke-opacity:1; fill:none\" points=\"\n",
       "  112.177,573.525 131.075,573.525 \n",
       "  \"/>\n",
       "<polyline clip-path=\"url(#clip360)\" style=\"stroke:#000000; stroke-linecap:butt; stroke-linejoin:round; stroke-width:4; stroke-opacity:1; fill:none\" points=\"\n",
       "  112.177,164.814 131.075,164.814 \n",
       "  \"/>\n",
       "<path clip-path=\"url(#clip360)\" d=\"M56.2699 1404.29 L63.9087 1404.29 L63.9087 1377.93 L55.5986 1379.59 L55.5986 1375.34 L63.8624 1373.67 L68.5383 1373.67 L68.5383 1404.29 L76.1772 1404.29 L76.1772 1408.23 L56.2699 1408.23 L56.2699 1404.29 Z\" fill=\"#000000\" fill-rule=\"evenodd\" fill-opacity=\"1\" /><path clip-path=\"url(#clip360)\" d=\"M59.8578 995.582 L76.1772 995.582 L76.1772 999.517 L54.2328 999.517 L54.2328 995.582 Q56.8949 992.827 61.4782 988.198 Q66.0846 983.545 67.2652 982.202 Q69.5105 979.679 70.3902 977.943 Q71.2929 976.184 71.2929 974.494 Q71.2929 971.739 69.3485 970.003 Q67.4272 968.267 64.3254 968.267 Q62.1263 968.267 59.6726 969.031 Q57.2421 969.795 54.4643 971.346 L54.4643 966.624 Q57.2884 965.489 59.7421 964.911 Q62.1958 964.332 64.2328 964.332 Q69.6031 964.332 72.7976 967.017 Q75.992 969.702 75.992 974.193 Q75.992 976.323 75.1818 978.244 Q74.3948 980.142 72.2883 982.735 Q71.7096 983.406 68.6078 986.623 Q65.5059 989.818 59.8578 995.582 Z\" fill=\"#000000\" fill-rule=\"evenodd\" fill-opacity=\"1\" /><path clip-path=\"url(#clip360)\" d=\"M69.0476 572.171 Q72.404 572.889 74.279 575.157 Q76.1772 577.426 76.1772 580.759 Q76.1772 585.875 72.6587 588.676 Q69.1402 591.477 62.6587 591.477 Q60.4828 591.477 58.168 591.037 Q55.8764 590.62 53.4227 589.764 L53.4227 585.25 Q55.3671 586.384 57.6819 586.963 Q59.9967 587.542 62.5198 587.542 Q66.918 587.542 69.2096 585.805 Q71.5244 584.069 71.5244 580.759 Q71.5244 577.704 69.3717 575.991 Q67.242 574.255 63.4226 574.255 L59.3949 574.255 L59.3949 570.412 L63.6078 570.412 Q67.0569 570.412 68.8855 569.046 Q70.7142 567.657 70.7142 565.065 Q70.7142 562.403 68.8161 560.991 Q66.9411 559.556 63.4226 559.556 Q61.5013 559.556 59.3023 559.972 Q57.1032 560.389 54.4643 561.269 L54.4643 557.102 Q57.1264 556.361 59.4412 555.991 Q61.7791 555.62 63.8393 555.62 Q69.1633 555.62 72.2652 558.051 Q75.367 560.458 75.367 564.579 Q75.367 567.449 73.7235 569.44 Q72.08 571.407 69.0476 572.171 Z\" fill=\"#000000\" fill-rule=\"evenodd\" fill-opacity=\"1\" /><path clip-path=\"url(#clip360)\" d=\"M66.5939 151.608 L54.7884 170.057 L66.5939 170.057 L66.5939 151.608 M65.367 147.534 L71.2466 147.534 L71.2466 170.057 L76.1772 170.057 L76.1772 173.946 L71.2466 173.946 L71.2466 182.094 L66.5939 182.094 L66.5939 173.946 L50.9921 173.946 L50.9921 169.432 L65.367 147.534 Z\" fill=\"#000000\" fill-rule=\"evenodd\" fill-opacity=\"1\" /><polyline clip-path=\"url(#clip362)\" style=\"stroke:#009af9; stroke-linecap:butt; stroke-linejoin:round; stroke-width:4; stroke-opacity:1; fill:none\" points=\"\n",
       "  175.59,978.15 246.048,461.947 316.507,1422.42 386.965,1092.59 457.424,1313.7 527.882,87.9763 598.34,403.91 668.799,659.355 739.257,175.441 809.716,1330.46 \n",
       "  880.174,713.713 950.633,1141.23 1021.09,443.964 1091.55,761.941 1162.01,731.697 1232.47,729.653 1302.92,263.313 1373.38,793.004 1443.84,518.758 1514.3,268.218 \n",
       "  1584.76,491.783 1655.22,1033.73 1725.68,134.569 1796.13,496.279 1866.59,434.564 1937.05,515.08 2007.51,940.14 2077.97,1445.72 2148.43,275.575 2218.88,301.732 \n",
       "  2289.34,647.094 \n",
       "  \"/>\n",
       "<path clip-path=\"url(#clip360)\" d=\"\n",
       "M1976.69 198.898 L2278.07 198.898 L2278.07 95.2176 L1976.69 95.2176  Z\n",
       "  \" fill=\"#ffffff\" fill-rule=\"evenodd\" fill-opacity=\"1\"/>\n",
       "<polyline clip-path=\"url(#clip360)\" style=\"stroke:#000000; stroke-linecap:butt; stroke-linejoin:round; stroke-width:4; stroke-opacity:1; fill:none\" points=\"\n",
       "  1976.69,198.898 2278.07,198.898 2278.07,95.2176 1976.69,95.2176 1976.69,198.898 \n",
       "  \"/>\n",
       "<polyline clip-path=\"url(#clip360)\" style=\"stroke:#009af9; stroke-linecap:butt; stroke-linejoin:round; stroke-width:4; stroke-opacity:1; fill:none\" points=\"\n",
       "  2001.58,147.058 2150.95,147.058 \n",
       "  \"/>\n",
       "<path clip-path=\"url(#clip360)\" d=\"M2189.69 166.745 Q2187.89 171.375 2186.17 172.787 Q2184.46 174.199 2181.59 174.199 L2178.19 174.199 L2178.19 170.634 L2180.69 170.634 Q2182.45 170.634 2183.42 169.8 Q2184.39 168.967 2185.57 165.865 L2186.34 163.921 L2175.85 138.412 L2180.36 138.412 L2188.46 158.689 L2196.57 138.412 L2201.08 138.412 L2189.69 166.745 Z\" fill=\"#000000\" fill-rule=\"evenodd\" fill-opacity=\"1\" /><path clip-path=\"url(#clip360)\" d=\"M2208.37 160.402 L2216.01 160.402 L2216.01 134.037 L2207.7 135.703 L2207.7 131.444 L2215.96 129.778 L2220.64 129.778 L2220.64 160.402 L2228.28 160.402 L2228.28 164.338 L2208.37 164.338 L2208.37 160.402 Z\" fill=\"#000000\" fill-rule=\"evenodd\" fill-opacity=\"1\" /></svg>\n"
      ]
     },
     "execution_count": 48,
     "metadata": {},
     "output_type": "execute_result"
    }
   ],
   "source": []
  },
  {
   "cell_type": "code",
   "execution_count": null,
   "id": "9f46cc96",
   "metadata": {},
   "outputs": [],
   "source": []
  },
  {
   "cell_type": "code",
   "execution_count": null,
   "id": "93f77242",
   "metadata": {},
   "outputs": [],
   "source": []
  }
 ],
 "metadata": {
  "kernelspec": {
   "display_name": "Julia 1.7.0",
   "language": "julia",
   "name": "julia-1.7"
  },
  "language_info": {
   "file_extension": ".jl",
   "mimetype": "application/julia",
   "name": "julia",
   "version": "1.7.0"
  }
 },
 "nbformat": 4,
 "nbformat_minor": 5
}
