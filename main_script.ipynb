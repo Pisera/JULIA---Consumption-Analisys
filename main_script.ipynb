{
 "cells": [
  {
   "cell_type": "markdown",
   "id": "230637e6",
   "metadata": {},
   "source": [
    "# Import data \n"
   ]
  },
  {
   "cell_type": "code",
   "execution_count": 8,
   "id": "95a2f4a3",
   "metadata": {},
   "outputs": [
    {
     "name": "stderr",
     "output_type": "stream",
     "text": [
      "\u001b[32m\u001b[1m   Resolving\u001b[22m\u001b[39m package versions...\n",
      "\u001b[32m\u001b[1m  No Changes\u001b[22m\u001b[39m to `~/.julia/environments/v1.7/Project.toml`\n",
      "\u001b[32m\u001b[1m  No Changes\u001b[22m\u001b[39m to `~/.julia/environments/v1.7/Manifest.toml`\n"
     ]
    }
   ],
   "source": [
    "using Pkg\n",
    "Pkg.add(\"CSV\")\n",
    "Pkg.add(\"DataFrames\")\n",
    "Pkg.add(\"Plots\")"
   ]
  },
  {
   "cell_type": "code",
   "execution_count": 21,
   "id": "bda5dbf6",
   "metadata": {},
   "outputs": [],
   "source": [
    "using CSV\n",
    "using DataFrames\n",
    "using Plots"
   ]
  },
  {
   "cell_type": "markdown",
   "id": "33996500",
   "metadata": {},
   "source": [
    "## read CSV"
   ]
  },
  {
   "cell_type": "code",
   "execution_count": 22,
   "id": "a6a99b04",
   "metadata": {},
   "outputs": [],
   "source": [
    "#input\n",
    "year = \"2022\"\n",
    "mounth = \"febbraio\"\n",
    "\n",
    "# output - data frame\n",
    "df = CSV.read(\"data_\"*year*\"/ExportData_\"*mounth*\".csv\", DataFrame, delim=';',\n",
    "    quoted=true, decimal=',', dateformat=\"dd/mm/yyyy\",header=1);\n"
   ]
  },
  {
   "cell_type": "code",
   "execution_count": 23,
   "id": "a17569e3",
   "metadata": {},
   "outputs": [
    {
     "data": {
      "text/plain": [
       "28"
      ]
     },
     "execution_count": 23,
     "metadata": {},
     "output_type": "execute_result"
    }
   ],
   "source": [
    "# Number of day in the mounth\n",
    "N_day = Int64(size(df,1))"
   ]
  },
  {
   "cell_type": "code",
   "execution_count": 24,
   "id": "df68427e",
   "metadata": {},
   "outputs": [
    {
     "data": {
      "text/plain": [
       "61.19500000000001"
      ]
     },
     "execution_count": 24,
     "metadata": {},
     "output_type": "execute_result"
    }
   ],
   "source": [
    "# Monthly energy consumption [kWh]\n",
    "sum(sum(df[1:28,j]) for j =2:97)"
   ]
  },
  {
   "cell_type": "code",
   "execution_count": 29,
   "id": "1ccfa261",
   "metadata": {
    "scrolled": true
   },
   "outputs": [
    {
     "data": {
      "image/svg+xml": [
       "<?xml version=\"1.0\" encoding=\"utf-8\"?>\n",
       "<svg xmlns=\"http://www.w3.org/2000/svg\" xmlns:xlink=\"http://www.w3.org/1999/xlink\" width=\"600\" height=\"400\" viewBox=\"0 0 2400 1600\">\n",
       "<defs>\n",
       "  <clipPath id=\"clip200\">\n",
       "    <rect x=\"0\" y=\"0\" width=\"2400\" height=\"1600\"/>\n",
       "  </clipPath>\n",
       "</defs>\n",
       "<path clip-path=\"url(#clip200)\" d=\"\n",
       "M0 1600 L2400 1600 L2400 0 L0 0  Z\n",
       "  \" fill=\"#ffffff\" fill-rule=\"evenodd\" fill-opacity=\"1\"/>\n",
       "<defs>\n",
       "  <clipPath id=\"clip201\">\n",
       "    <rect x=\"480\" y=\"0\" width=\"1681\" height=\"1600\"/>\n",
       "  </clipPath>\n",
       "</defs>\n",
       "<path clip-path=\"url(#clip200)\" d=\"\n",
       "M112.177 1486.45 L2352.76 1486.45 L2352.76 47.2441 L112.177 47.2441  Z\n",
       "  \" fill=\"#ffffff\" fill-rule=\"evenodd\" fill-opacity=\"1\"/>\n",
       "<defs>\n",
       "  <clipPath id=\"clip202\">\n",
       "    <rect x=\"112\" y=\"47\" width=\"2242\" height=\"1440\"/>\n",
       "  </clipPath>\n",
       "</defs>\n",
       "<polyline clip-path=\"url(#clip202)\" style=\"stroke:#000000; stroke-linecap:butt; stroke-linejoin:round; stroke-width:2; stroke-opacity:0.1; fill:none\" points=\"\n",
       "  488.738,1486.45 488.738,47.2441 \n",
       "  \"/>\n",
       "<polyline clip-path=\"url(#clip202)\" style=\"stroke:#000000; stroke-linecap:butt; stroke-linejoin:round; stroke-width:2; stroke-opacity:0.1; fill:none\" points=\"\n",
       "  880.174,1486.45 880.174,47.2441 \n",
       "  \"/>\n",
       "<polyline clip-path=\"url(#clip202)\" style=\"stroke:#000000; stroke-linecap:butt; stroke-linejoin:round; stroke-width:2; stroke-opacity:0.1; fill:none\" points=\"\n",
       "  1271.61,1486.45 1271.61,47.2441 \n",
       "  \"/>\n",
       "<polyline clip-path=\"url(#clip202)\" style=\"stroke:#000000; stroke-linecap:butt; stroke-linejoin:round; stroke-width:2; stroke-opacity:0.1; fill:none\" points=\"\n",
       "  1663.05,1486.45 1663.05,47.2441 \n",
       "  \"/>\n",
       "<polyline clip-path=\"url(#clip202)\" style=\"stroke:#000000; stroke-linecap:butt; stroke-linejoin:round; stroke-width:2; stroke-opacity:0.1; fill:none\" points=\"\n",
       "  2054.48,1486.45 2054.48,47.2441 \n",
       "  \"/>\n",
       "<polyline clip-path=\"url(#clip200)\" style=\"stroke:#000000; stroke-linecap:butt; stroke-linejoin:round; stroke-width:4; stroke-opacity:1; fill:none\" points=\"\n",
       "  112.177,1486.45 2352.76,1486.45 \n",
       "  \"/>\n",
       "<polyline clip-path=\"url(#clip200)\" style=\"stroke:#000000; stroke-linecap:butt; stroke-linejoin:round; stroke-width:4; stroke-opacity:1; fill:none\" points=\"\n",
       "  488.738,1486.45 488.738,1467.55 \n",
       "  \"/>\n",
       "<polyline clip-path=\"url(#clip200)\" style=\"stroke:#000000; stroke-linecap:butt; stroke-linejoin:round; stroke-width:4; stroke-opacity:1; fill:none\" points=\"\n",
       "  880.174,1486.45 880.174,1467.55 \n",
       "  \"/>\n",
       "<polyline clip-path=\"url(#clip200)\" style=\"stroke:#000000; stroke-linecap:butt; stroke-linejoin:round; stroke-width:4; stroke-opacity:1; fill:none\" points=\"\n",
       "  1271.61,1486.45 1271.61,1467.55 \n",
       "  \"/>\n",
       "<polyline clip-path=\"url(#clip200)\" style=\"stroke:#000000; stroke-linecap:butt; stroke-linejoin:round; stroke-width:4; stroke-opacity:1; fill:none\" points=\"\n",
       "  1663.05,1486.45 1663.05,1467.55 \n",
       "  \"/>\n",
       "<polyline clip-path=\"url(#clip200)\" style=\"stroke:#000000; stroke-linecap:butt; stroke-linejoin:round; stroke-width:4; stroke-opacity:1; fill:none\" points=\"\n",
       "  2054.48,1486.45 2054.48,1467.55 \n",
       "  \"/>\n",
       "<path clip-path=\"url(#clip200)\" d=\"M479.016 1514.29 L497.373 1514.29 L497.373 1518.22 L483.299 1518.22 L483.299 1526.7 Q484.317 1526.35 485.336 1526.19 Q486.354 1526 487.373 1526 Q493.16 1526 496.539 1529.17 Q499.919 1532.34 499.919 1537.76 Q499.919 1543.34 496.447 1546.44 Q492.975 1549.52 486.655 1549.52 Q484.479 1549.52 482.211 1549.15 Q479.965 1548.78 477.558 1548.04 L477.558 1543.34 Q479.641 1544.47 481.863 1545.03 Q484.086 1545.58 486.563 1545.58 Q490.567 1545.58 492.905 1543.48 Q495.243 1541.37 495.243 1537.76 Q495.243 1534.15 492.905 1532.04 Q490.567 1529.94 486.563 1529.94 Q484.688 1529.94 482.813 1530.35 Q480.961 1530.77 479.016 1531.65 L479.016 1514.29 Z\" fill=\"#000000\" fill-rule=\"evenodd\" fill-opacity=\"1\" /><path clip-path=\"url(#clip200)\" d=\"M854.862 1544.91 L862.501 1544.91 L862.501 1518.55 L854.191 1520.21 L854.191 1515.95 L862.454 1514.29 L867.13 1514.29 L867.13 1544.91 L874.769 1544.91 L874.769 1548.85 L854.862 1548.85 L854.862 1544.91 Z\" fill=\"#000000\" fill-rule=\"evenodd\" fill-opacity=\"1\" /><path clip-path=\"url(#clip200)\" d=\"M894.214 1517.37 Q890.602 1517.37 888.774 1520.93 Q886.968 1524.47 886.968 1531.6 Q886.968 1538.71 888.774 1542.27 Q890.602 1545.82 894.214 1545.82 Q897.848 1545.82 899.653 1542.27 Q901.482 1538.71 901.482 1531.6 Q901.482 1524.47 899.653 1520.93 Q897.848 1517.37 894.214 1517.37 M894.214 1513.66 Q900.024 1513.66 903.079 1518.27 Q906.158 1522.85 906.158 1531.6 Q906.158 1540.33 903.079 1544.94 Q900.024 1549.52 894.214 1549.52 Q888.403 1549.52 885.325 1544.94 Q882.269 1540.33 882.269 1531.6 Q882.269 1522.85 885.325 1518.27 Q888.403 1513.66 894.214 1513.66 Z\" fill=\"#000000\" fill-rule=\"evenodd\" fill-opacity=\"1\" /><path clip-path=\"url(#clip200)\" d=\"M1246.8 1544.91 L1254.43 1544.91 L1254.43 1518.55 L1246.12 1520.21 L1246.12 1515.95 L1254.39 1514.29 L1259.06 1514.29 L1259.06 1544.91 L1266.7 1544.91 L1266.7 1548.85 L1246.8 1548.85 L1246.8 1544.91 Z\" fill=\"#000000\" fill-rule=\"evenodd\" fill-opacity=\"1\" /><path clip-path=\"url(#clip200)\" d=\"M1276.19 1514.29 L1294.55 1514.29 L1294.55 1518.22 L1280.48 1518.22 L1280.48 1526.7 Q1281.49 1526.35 1282.51 1526.19 Q1283.53 1526 1284.55 1526 Q1290.34 1526 1293.72 1529.17 Q1297.1 1532.34 1297.1 1537.76 Q1297.1 1543.34 1293.62 1546.44 Q1290.15 1549.52 1283.83 1549.52 Q1281.66 1549.52 1279.39 1549.15 Q1277.14 1548.78 1274.74 1548.04 L1274.74 1543.34 Q1276.82 1544.47 1279.04 1545.03 Q1281.26 1545.58 1283.74 1545.58 Q1287.74 1545.58 1290.08 1543.48 Q1292.42 1541.37 1292.42 1537.76 Q1292.42 1534.15 1290.08 1532.04 Q1287.74 1529.94 1283.74 1529.94 Q1281.86 1529.94 1279.99 1530.35 Q1278.14 1530.77 1276.19 1531.65 L1276.19 1514.29 Z\" fill=\"#000000\" fill-rule=\"evenodd\" fill-opacity=\"1\" /><path clip-path=\"url(#clip200)\" d=\"M1641.82 1544.91 L1658.14 1544.91 L1658.14 1548.85 L1636.19 1548.85 L1636.19 1544.91 Q1638.86 1542.16 1643.44 1537.53 Q1648.05 1532.88 1649.23 1531.53 Q1651.47 1529.01 1652.35 1527.27 Q1653.25 1525.51 1653.25 1523.82 Q1653.25 1521.07 1651.31 1519.33 Q1649.39 1517.6 1646.29 1517.6 Q1644.09 1517.6 1641.63 1518.36 Q1639.2 1519.13 1636.43 1520.68 L1636.43 1515.95 Q1639.25 1514.82 1641.7 1514.24 Q1644.16 1513.66 1646.19 1513.66 Q1651.56 1513.66 1654.76 1516.35 Q1657.95 1519.03 1657.95 1523.52 Q1657.95 1525.65 1657.14 1527.57 Q1656.36 1529.47 1654.25 1532.07 Q1653.67 1532.74 1650.57 1535.95 Q1647.47 1539.15 1641.82 1544.91 Z\" fill=\"#000000\" fill-rule=\"evenodd\" fill-opacity=\"1\" /><path clip-path=\"url(#clip200)\" d=\"M1677.95 1517.37 Q1674.34 1517.37 1672.51 1520.93 Q1670.71 1524.47 1670.71 1531.6 Q1670.71 1538.71 1672.51 1542.27 Q1674.34 1545.82 1677.95 1545.82 Q1681.59 1545.82 1683.39 1542.27 Q1685.22 1538.71 1685.22 1531.6 Q1685.22 1524.47 1683.39 1520.93 Q1681.59 1517.37 1677.95 1517.37 M1677.95 1513.66 Q1683.76 1513.66 1686.82 1518.27 Q1689.9 1522.85 1689.9 1531.6 Q1689.9 1540.33 1686.82 1544.94 Q1683.76 1549.52 1677.95 1549.52 Q1672.14 1549.52 1669.06 1544.94 Q1666.01 1540.33 1666.01 1531.6 Q1666.01 1522.85 1669.06 1518.27 Q1672.14 1513.66 1677.95 1513.66 Z\" fill=\"#000000\" fill-rule=\"evenodd\" fill-opacity=\"1\" /><path clip-path=\"url(#clip200)\" d=\"M2033.75 1544.91 L2050.07 1544.91 L2050.07 1548.85 L2028.13 1548.85 L2028.13 1544.91 Q2030.79 1542.16 2035.37 1537.53 Q2039.98 1532.88 2041.16 1531.53 Q2043.41 1529.01 2044.29 1527.27 Q2045.19 1525.51 2045.19 1523.82 Q2045.19 1521.07 2043.24 1519.33 Q2041.32 1517.6 2038.22 1517.6 Q2036.02 1517.6 2033.57 1518.36 Q2031.14 1519.13 2028.36 1520.68 L2028.36 1515.95 Q2031.18 1514.82 2033.64 1514.24 Q2036.09 1513.66 2038.13 1513.66 Q2043.5 1513.66 2046.69 1516.35 Q2049.89 1519.03 2049.89 1523.52 Q2049.89 1525.65 2049.08 1527.57 Q2048.29 1529.47 2046.18 1532.07 Q2045.6 1532.74 2042.5 1535.95 Q2039.4 1539.15 2033.75 1544.91 Z\" fill=\"#000000\" fill-rule=\"evenodd\" fill-opacity=\"1\" /><path clip-path=\"url(#clip200)\" d=\"M2059.93 1514.29 L2078.29 1514.29 L2078.29 1518.22 L2064.22 1518.22 L2064.22 1526.7 Q2065.23 1526.35 2066.25 1526.19 Q2067.27 1526 2068.29 1526 Q2074.08 1526 2077.46 1529.17 Q2080.84 1532.34 2080.84 1537.76 Q2080.84 1543.34 2077.36 1546.44 Q2073.89 1549.52 2067.57 1549.52 Q2065.4 1549.52 2063.13 1549.15 Q2060.88 1548.78 2058.47 1548.04 L2058.47 1543.34 Q2060.56 1544.47 2062.78 1545.03 Q2065 1545.58 2067.48 1545.58 Q2071.48 1545.58 2073.82 1543.48 Q2076.16 1541.37 2076.16 1537.76 Q2076.16 1534.15 2073.82 1532.04 Q2071.48 1529.94 2067.48 1529.94 Q2065.6 1529.94 2063.73 1530.35 Q2061.88 1530.77 2059.93 1531.65 L2059.93 1514.29 Z\" fill=\"#000000\" fill-rule=\"evenodd\" fill-opacity=\"1\" /><polyline clip-path=\"url(#clip202)\" style=\"stroke:#000000; stroke-linecap:butt; stroke-linejoin:round; stroke-width:2; stroke-opacity:0.1; fill:none\" points=\"\n",
       "  112.177,1330.39 2352.76,1330.39 \n",
       "  \"/>\n",
       "<polyline clip-path=\"url(#clip202)\" style=\"stroke:#000000; stroke-linecap:butt; stroke-linejoin:round; stroke-width:2; stroke-opacity:0.1; fill:none\" points=\"\n",
       "  112.177,972.244 2352.76,972.244 \n",
       "  \"/>\n",
       "<polyline clip-path=\"url(#clip202)\" style=\"stroke:#000000; stroke-linecap:butt; stroke-linejoin:round; stroke-width:2; stroke-opacity:0.1; fill:none\" points=\"\n",
       "  112.177,614.096 2352.76,614.096 \n",
       "  \"/>\n",
       "<polyline clip-path=\"url(#clip202)\" style=\"stroke:#000000; stroke-linecap:butt; stroke-linejoin:round; stroke-width:2; stroke-opacity:0.1; fill:none\" points=\"\n",
       "  112.177,255.948 2352.76,255.948 \n",
       "  \"/>\n",
       "<polyline clip-path=\"url(#clip200)\" style=\"stroke:#000000; stroke-linecap:butt; stroke-linejoin:round; stroke-width:4; stroke-opacity:1; fill:none\" points=\"\n",
       "  112.177,1486.45 112.177,47.2441 \n",
       "  \"/>\n",
       "<polyline clip-path=\"url(#clip200)\" style=\"stroke:#000000; stroke-linecap:butt; stroke-linejoin:round; stroke-width:4; stroke-opacity:1; fill:none\" points=\"\n",
       "  112.177,1330.39 131.075,1330.39 \n",
       "  \"/>\n",
       "<polyline clip-path=\"url(#clip200)\" style=\"stroke:#000000; stroke-linecap:butt; stroke-linejoin:round; stroke-width:4; stroke-opacity:1; fill:none\" points=\"\n",
       "  112.177,972.244 131.075,972.244 \n",
       "  \"/>\n",
       "<polyline clip-path=\"url(#clip200)\" style=\"stroke:#000000; stroke-linecap:butt; stroke-linejoin:round; stroke-width:4; stroke-opacity:1; fill:none\" points=\"\n",
       "  112.177,614.096 131.075,614.096 \n",
       "  \"/>\n",
       "<polyline clip-path=\"url(#clip200)\" style=\"stroke:#000000; stroke-linecap:butt; stroke-linejoin:round; stroke-width:4; stroke-opacity:1; fill:none\" points=\"\n",
       "  112.177,255.948 131.075,255.948 \n",
       "  \"/>\n",
       "<path clip-path=\"url(#clip200)\" d=\"M56.2699 1343.74 L63.9087 1343.74 L63.9087 1317.37 L55.5986 1319.04 L55.5986 1314.78 L63.8624 1313.11 L68.5383 1313.11 L68.5383 1343.74 L76.1772 1343.74 L76.1772 1347.67 L56.2699 1347.67 L56.2699 1343.74 Z\" fill=\"#000000\" fill-rule=\"evenodd\" fill-opacity=\"1\" /><path clip-path=\"url(#clip200)\" d=\"M59.8578 985.589 L76.1772 985.589 L76.1772 989.524 L54.2328 989.524 L54.2328 985.589 Q56.8949 982.834 61.4782 978.205 Q66.0846 973.552 67.2652 972.209 Q69.5105 969.686 70.3902 967.95 Q71.2929 966.191 71.2929 964.501 Q71.2929 961.746 69.3485 960.01 Q67.4272 958.274 64.3254 958.274 Q62.1263 958.274 59.6726 959.038 Q57.2421 959.802 54.4643 961.353 L54.4643 956.631 Q57.2884 955.496 59.7421 954.918 Q62.1958 954.339 64.2328 954.339 Q69.6031 954.339 72.7976 957.024 Q75.992 959.709 75.992 964.2 Q75.992 966.33 75.1818 968.251 Q74.3948 970.149 72.2883 972.742 Q71.7096 973.413 68.6078 976.63 Q65.5059 979.825 59.8578 985.589 Z\" fill=\"#000000\" fill-rule=\"evenodd\" fill-opacity=\"1\" /><path clip-path=\"url(#clip200)\" d=\"M69.0476 612.742 Q72.404 613.459 74.279 615.728 Q76.1772 617.996 76.1772 621.33 Q76.1772 626.445 72.6587 629.246 Q69.1402 632.047 62.6587 632.047 Q60.4828 632.047 58.168 631.607 Q55.8764 631.191 53.4227 630.334 L53.4227 625.82 Q55.3671 626.955 57.6819 627.533 Q59.9967 628.112 62.5198 628.112 Q66.918 628.112 69.2096 626.376 Q71.5244 624.64 71.5244 621.33 Q71.5244 618.274 69.3717 616.561 Q67.242 614.825 63.4226 614.825 L59.3949 614.825 L59.3949 610.982 L63.6078 610.982 Q67.0569 610.982 68.8855 609.617 Q70.7142 608.228 70.7142 605.635 Q70.7142 602.973 68.8161 601.561 Q66.9411 600.126 63.4226 600.126 Q61.5013 600.126 59.3023 600.543 Q57.1032 600.959 54.4643 601.839 L54.4643 597.672 Q57.1264 596.932 59.4412 596.561 Q61.7791 596.191 63.8393 596.191 Q69.1633 596.191 72.2652 598.621 Q75.367 601.029 75.367 605.149 Q75.367 608.019 73.7235 610.01 Q72.08 611.978 69.0476 612.742 Z\" fill=\"#000000\" fill-rule=\"evenodd\" fill-opacity=\"1\" /><path clip-path=\"url(#clip200)\" d=\"M66.5939 242.742 L54.7884 261.191 L66.5939 261.191 L66.5939 242.742 M65.367 238.668 L71.2466 238.668 L71.2466 261.191 L76.1772 261.191 L76.1772 265.08 L71.2466 265.08 L71.2466 273.228 L66.5939 273.228 L66.5939 265.08 L50.9921 265.08 L50.9921 260.566 L65.367 238.668 Z\" fill=\"#000000\" fill-rule=\"evenodd\" fill-opacity=\"1\" /><polyline clip-path=\"url(#clip202)\" style=\"stroke:#009af9; stroke-linecap:butt; stroke-linejoin:round; stroke-width:4; stroke-opacity:1; fill:none\" points=\"\n",
       "  175.59,404.579 253.877,922.461 332.164,208.672 410.451,204.374 488.738,658.864 567.026,455.436 645.313,796.751 723.6,1258.4 801.887,820.747 880.174,1163.49 \n",
       "  958.461,87.9763 1036.75,305.014 1115.04,783.142 1193.32,836.506 1271.61,841.162 1349.9,336.173 1428.18,1227.96 1506.47,428.933 1584.76,1375.16 1663.05,1441.42 \n",
       "  1741.33,1441.06 1819.62,1442.13 1897.91,1440.34 1976.19,1443.57 2054.48,1445.72 2132.77,1412.77 2211.06,861.576 2289.34,1317.86 \n",
       "  \"/>\n",
       "<path clip-path=\"url(#clip200)\" d=\"\n",
       "M1976.69 198.898 L2278.07 198.898 L2278.07 95.2176 L1976.69 95.2176  Z\n",
       "  \" fill=\"#ffffff\" fill-rule=\"evenodd\" fill-opacity=\"1\"/>\n",
       "<polyline clip-path=\"url(#clip200)\" style=\"stroke:#000000; stroke-linecap:butt; stroke-linejoin:round; stroke-width:4; stroke-opacity:1; fill:none\" points=\"\n",
       "  1976.69,198.898 2278.07,198.898 2278.07,95.2176 1976.69,95.2176 1976.69,198.898 \n",
       "  \"/>\n",
       "<polyline clip-path=\"url(#clip200)\" style=\"stroke:#009af9; stroke-linecap:butt; stroke-linejoin:round; stroke-width:4; stroke-opacity:1; fill:none\" points=\"\n",
       "  2001.58,147.058 2150.95,147.058 \n",
       "  \"/>\n",
       "<path clip-path=\"url(#clip200)\" d=\"M2189.69 166.745 Q2187.89 171.375 2186.17 172.787 Q2184.46 174.199 2181.59 174.199 L2178.19 174.199 L2178.19 170.634 L2180.69 170.634 Q2182.45 170.634 2183.42 169.8 Q2184.39 168.967 2185.57 165.865 L2186.34 163.921 L2175.85 138.412 L2180.36 138.412 L2188.46 158.689 L2196.57 138.412 L2201.08 138.412 L2189.69 166.745 Z\" fill=\"#000000\" fill-rule=\"evenodd\" fill-opacity=\"1\" /><path clip-path=\"url(#clip200)\" d=\"M2208.37 160.402 L2216.01 160.402 L2216.01 134.037 L2207.7 135.703 L2207.7 131.444 L2215.96 129.778 L2220.64 129.778 L2220.64 160.402 L2228.28 160.402 L2228.28 164.338 L2208.37 164.338 L2208.37 160.402 Z\" fill=\"#000000\" fill-rule=\"evenodd\" fill-opacity=\"1\" /></svg>\n"
      ]
     },
     "execution_count": 29,
     "metadata": {},
     "output_type": "execute_result"
    }
   ],
   "source": [
    "# Daily energy consumption\n",
    " \n",
    "daily_E_cons = zeros(N_day)\n",
    "\n",
    "for d = 1:N_day\n",
    "daily_E_cons[d] = sum(df[d,2:97])\n",
    "end\n",
    "\n",
    "## output\n",
    "daily_E_cons\n",
    "\n",
    "## plot output\n",
    "plot(daily_E_cons)"
   ]
  },
  {
   "cell_type": "code",
   "execution_count": 17,
   "id": "da259993",
   "metadata": {},
   "outputs": [
    {
     "ename": "LoadError",
     "evalue": "UndefVarError: N_day not defined",
     "output_type": "error",
     "traceback": [
      "UndefVarError: N_day not defined",
      "",
      "Stacktrace:",
      " [1] top-level scope",
      "   @ In[17]:1",
      " [2] eval",
      "   @ ./boot.jl:373 [inlined]",
      " [3] include_string(mapexpr::typeof(REPL.softscope), mod::Module, code::String, filename::String)",
      "   @ Base ./loading.jl:1196"
     ]
    }
   ],
   "source": [
    "daily_E_cons = zeros(N_day)"
   ]
  },
  {
   "cell_type": "code",
   "execution_count": 16,
   "id": "8fcdf7fa",
   "metadata": {},
   "outputs": [
    {
     "ename": "LoadError",
     "evalue": "Cannot convert DataFrameRow{DataFrame, DataFrames.SubIndex{DataFrames.Index, UnitRange{Int64}, UnitRange{Int64}}} to series data for plotting",
     "output_type": "error",
     "traceback": [
      "Cannot convert DataFrameRow{DataFrame, DataFrames.SubIndex{DataFrames.Index, UnitRange{Int64}, UnitRange{Int64}}} to series data for plotting",
      "",
      "Stacktrace:",
      "  [1] error(s::String)",
      "    @ Base ./error.jl:33",
      "  [2] _prepare_series_data(x::DataFrameRow{DataFrame, DataFrames.SubIndex{DataFrames.Index, UnitRange{Int64}, UnitRange{Int64}}})",
      "    @ RecipesPipeline ~/.julia/packages/RecipesPipeline/Bxu2O/src/series.jl:8",
      "  [3] _series_data_vector(x::DataFrameRow{DataFrame, DataFrames.SubIndex{DataFrames.Index, UnitRange{Int64}, UnitRange{Int64}}}, plotattributes::Dict{Symbol, Any})",
      "    @ RecipesPipeline ~/.julia/packages/RecipesPipeline/Bxu2O/src/series.jl:27",
      "  [4] macro expansion",
      "    @ ~/.julia/packages/RecipesPipeline/Bxu2O/src/series.jl:144 [inlined]",
      "  [5] apply_recipe(plotattributes::AbstractDict{Symbol, Any}, #unused#::Type{RecipesPipeline.SliceIt}, x::Any, y::Any, z::Any)",
      "    @ RecipesPipeline ~/.julia/packages/RecipesBase/qpxEX/src/RecipesBase.jl:289",
      "  [6] _process_userrecipes!(plt::Any, plotattributes::Any, args::Any)",
      "    @ RecipesPipeline ~/.julia/packages/RecipesPipeline/Bxu2O/src/user_recipe.jl:36",
      "  [7] recipe_pipeline!(plt::Any, plotattributes::Any, args::Any)",
      "    @ RecipesPipeline ~/.julia/packages/RecipesPipeline/Bxu2O/src/RecipesPipeline.jl:70",
      "  [8] _plot!(plt::Plots.Plot, plotattributes::Any, args::Any)",
      "    @ Plots ~/.julia/packages/Plots/Xv2qA/src/plot.jl:208",
      "  [9] plot(::Any, ::Vararg{Any}; kw::Base.Pairs{Symbol, V, Tuple{Vararg{Symbol, N}}, NamedTuple{names, T}} where {V, N, names, T<:Tuple{Vararg{Any, N}}})",
      "    @ Plots ~/.julia/packages/Plots/Xv2qA/src/plot.jl:91",
      " [10] histogram(::Any, ::Vararg{Any}; kw::Base.Pairs{Symbol, V, Tuple{Vararg{Symbol, N}}, NamedTuple{names, T}} where {V, N, names, T<:Tuple{Vararg{Any, N}}})",
      "    @ Plots ~/.julia/packages/RecipesBase/qpxEX/src/RecipesBase.jl:410",
      " [11] histogram(::Any, ::Vararg{Any})",
      "    @ Plots ~/.julia/packages/RecipesBase/qpxEX/src/RecipesBase.jl:410",
      " [12] top-level scope",
      "    @ In[16]:2",
      " [13] eval",
      "    @ ./boot.jl:373 [inlined]",
      " [14] include_string(mapexpr::typeof(REPL.softscope), mod::Module, code::String, filename::String)",
      "    @ Base ./loading.jl:1196"
     ]
    }
   ],
   "source": [
    "x = 1:96\n",
    "plot = histogram(x, df[1,2:97])"
   ]
  },
  {
   "cell_type": "code",
   "execution_count": 124,
   "id": "8dc8be93",
   "metadata": {},
   "outputs": [
    {
     "ename": "LoadError",
     "evalue": "Cannot convert DataFrameRow{DataFrame, DataFrames.SubIndex{DataFrames.Index, UnitRange{Int64}, UnitRange{Int64}}} to series data for plotting",
     "output_type": "error",
     "traceback": [
      "Cannot convert DataFrameRow{DataFrame, DataFrames.SubIndex{DataFrames.Index, UnitRange{Int64}, UnitRange{Int64}}} to series data for plotting",
      "",
      "Stacktrace:",
      "  [1] error(s::String)",
      "    @ Base ./error.jl:33",
      "  [2] _prepare_series_data(x::DataFrameRow{DataFrame, DataFrames.SubIndex{DataFrames.Index, UnitRange{Int64}, UnitRange{Int64}}})",
      "    @ RecipesPipeline ~/.julia/packages/RecipesPipeline/Bxu2O/src/series.jl:8",
      "  [3] _series_data_vector(x::DataFrameRow{DataFrame, DataFrames.SubIndex{DataFrames.Index, UnitRange{Int64}, UnitRange{Int64}}}, plotattributes::Dict{Symbol, Any})",
      "    @ RecipesPipeline ~/.julia/packages/RecipesPipeline/Bxu2O/src/series.jl:27",
      "  [4] macro expansion",
      "    @ ~/.julia/packages/RecipesPipeline/Bxu2O/src/series.jl:144 [inlined]",
      "  [5] apply_recipe(plotattributes::AbstractDict{Symbol, Any}, #unused#::Type{RecipesPipeline.SliceIt}, x::Any, y::Any, z::Any)",
      "    @ RecipesPipeline ~/.julia/packages/RecipesBase/qpxEX/src/RecipesBase.jl:289",
      "  [6] _process_userrecipes!(plt::Any, plotattributes::Any, args::Any)",
      "    @ RecipesPipeline ~/.julia/packages/RecipesPipeline/Bxu2O/src/user_recipe.jl:36",
      "  [7] recipe_pipeline!(plt::Any, plotattributes::Any, args::Any)",
      "    @ RecipesPipeline ~/.julia/packages/RecipesPipeline/Bxu2O/src/RecipesPipeline.jl:70",
      "  [8] _plot!(plt::Plots.Plot, plotattributes::Any, args::Any)",
      "    @ Plots ~/.julia/packages/Plots/Xv2qA/src/plot.jl:208",
      "  [9] plot(args::Any; kw::Base.Pairs{Symbol, V, Tuple{Vararg{Symbol, N}}, NamedTuple{names, T}} where {V, N, names, T<:Tuple{Vararg{Any, N}}})",
      "    @ Plots ~/.julia/packages/Plots/Xv2qA/src/plot.jl:91",
      " [10] plot(args::Any)",
      "    @ Plots ~/.julia/packages/Plots/Xv2qA/src/plot.jl:85",
      " [11] top-level scope",
      "    @ In[124]:1",
      " [12] eval",
      "    @ ./boot.jl:373 [inlined]",
      " [13] include_string(mapexpr::typeof(REPL.softscope), mod::Module, code::String, filename::String)",
      "    @ Base ./loading.jl:1196"
     ]
    }
   ],
   "source": [
    "plot(df[1,96:97])"
   ]
  },
  {
   "cell_type": "code",
   "execution_count": 111,
   "id": "c5736bcf",
   "metadata": {},
   "outputs": [
    {
     "data": {
      "text/plain": [
       "96"
      ]
     },
     "execution_count": 111,
     "metadata": {},
     "output_type": "execute_result"
    }
   ],
   "source": [
    "x = 1:96\n",
    "x[96]"
   ]
  },
  {
   "cell_type": "code",
   "execution_count": 108,
   "id": "73b4f54e",
   "metadata": {},
   "outputs": [
    {
     "ename": "LoadError",
     "evalue": "BoundsError: attempt to access 1-element Vector{StepRange{Int64, Int64}} at index [10]",
     "output_type": "error",
     "traceback": [
      "BoundsError: attempt to access 1-element Vector{StepRange{Int64, Int64}} at index [10]",
      "",
      "Stacktrace:",
      " [1] getindex(A::Vector{StepRange{Int64, Int64}}, i1::Int64)",
      "   @ Base ./array.jl:861",
      " [2] top-level scope",
      "   @ In[108]:1",
      " [3] eval",
      "   @ ./boot.jl:373 [inlined]",
      " [4] include_string(mapexpr::typeof(REPL.softscope), mod::Module, code::String, filename::String)",
      "   @ Base ./loading.jl:1196"
     ]
    }
   ],
   "source": []
  },
  {
   "cell_type": "code",
   "execution_count": null,
   "id": "9e1f4da2",
   "metadata": {},
   "outputs": [],
   "source": []
  }
 ],
 "metadata": {
  "kernelspec": {
   "display_name": "Julia 1.7.0",
   "language": "julia",
   "name": "julia-1.7"
  },
  "language_info": {
   "file_extension": ".jl",
   "mimetype": "application/julia",
   "name": "julia",
   "version": "1.7.0"
  }
 },
 "nbformat": 4,
 "nbformat_minor": 5
}
