{
 "cells": [
  {
   "cell_type": "markdown",
   "id": "grateful-knock",
   "metadata": {},
   "source": [
    "# Analisys of domestric electric energy consumption \n",
    "A. input data - 1. year 2.mese\n",
    "B. data format- .csv\n",
    "C. results - 1. Consumo energetico totale [kWh] 2. Consumo energetico giornaliero per ogni giorno del mese [kWh]"
   ]
  },
  {
   "cell_type": "code",
   "execution_count": 1,
   "id": "patent-affect",
   "metadata": {},
   "outputs": [
    {
     "name": "stderr",
     "output_type": "stream",
     "text": [
      "\u001b[32m\u001b[1m    Updating\u001b[22m\u001b[39m registry at `~/.julia/registries/General.toml`\n",
      "\u001b[32m\u001b[1m   Resolving\u001b[22m\u001b[39m package versions...\n",
      "\u001b[32m\u001b[1m  No Changes\u001b[22m\u001b[39m to `~/.julia/environments/v1.7/Project.toml`\n",
      "\u001b[32m\u001b[1m  No Changes\u001b[22m\u001b[39m to `~/.julia/environments/v1.7/Manifest.toml`\n",
      "\u001b[32m\u001b[1m   Resolving\u001b[22m\u001b[39m package versions...\n",
      "\u001b[32m\u001b[1m  No Changes\u001b[22m\u001b[39m to `~/.julia/environments/v1.7/Project.toml`\n",
      "\u001b[32m\u001b[1m  No Changes\u001b[22m\u001b[39m to `~/.julia/environments/v1.7/Manifest.toml`\n",
      "\u001b[32m\u001b[1m   Resolving\u001b[22m\u001b[39m package versions...\n",
      "\u001b[32m\u001b[1m  No Changes\u001b[22m\u001b[39m to `~/.julia/environments/v1.7/Project.toml`\n",
      "\u001b[32m\u001b[1m  No Changes\u001b[22m\u001b[39m to `~/.julia/environments/v1.7/Manifest.toml`\n"
     ]
    }
   ],
   "source": [
    "using Pkg\n",
    "Pkg.add(\"CSV\")\n",
    "Pkg.add(\"DataFrames\")\n",
    "Pkg.add(\"Plots\")"
   ]
  },
  {
   "cell_type": "code",
   "execution_count": 2,
   "id": "sporting-sunrise",
   "metadata": {},
   "outputs": [],
   "source": [
    "using CSV\n",
    "using DataFrames\n",
    "using Plots\n",
    "using Dates"
   ]
  },
  {
   "cell_type": "markdown",
   "id": "fancy-cursor",
   "metadata": {},
   "source": [
    "## read CSV"
   ]
  },
  {
   "cell_type": "code",
   "execution_count": 3,
   "id": "gothic-woman",
   "metadata": {},
   "outputs": [
    {
     "name": "stdout",
     "output_type": "stream",
     "text": [
      "\u001b[1m31×5 DataFrame\u001b[0m\n",
      "\u001b[1m Row \u001b[0m│\u001b[1m 23:00-23:15 \u001b[0m\u001b[1m 23:15-23:30 \u001b[0m\u001b[1m 23:30-23:45 \u001b[0m\u001b[1m 23:45-00:00 \u001b[0m\u001b[1m Column98 \u001b[0m\n",
      "\u001b[1m     \u001b[0m│\u001b[90m Float64     \u001b[0m\u001b[90m Float64     \u001b[0m\u001b[90m Float64     \u001b[0m\u001b[90m Float64     \u001b[0m\u001b[90m Missing  \u001b[0m\n",
      "─────┼──────────────────────────────────────────────────────────────\n",
      "   1 │       0.02         0.008        0.008        0.019 \u001b[90m  missing \u001b[0m\n",
      "   2 │       0.004        0.016        0.004        0.004 \u001b[90m  missing \u001b[0m\n",
      "   3 │       0.008        0.009        0.014        0.018 \u001b[90m  missing \u001b[0m\n",
      "   4 │       0.052        0.063        0.054        0.052 \u001b[90m  missing \u001b[0m\n",
      "   5 │       0.013        0.034        0.017        0.008 \u001b[90m  missing \u001b[0m\n",
      "   6 │       0.047        0.056        0.05         0.013 \u001b[90m  missing \u001b[0m\n",
      "   7 │       0.049        0.043        0.246        0.415 \u001b[90m  missing \u001b[0m\n",
      "   8 │       0.05         0.045        0.052        0.048 \u001b[90m  missing \u001b[0m\n",
      "   9 │       0.042        0.05         0.041        0.069 \u001b[90m  missing \u001b[0m\n",
      "  10 │       0.014        0.008        0.007        0.015 \u001b[90m  missing \u001b[0m\n",
      "  11 │       0.012        0.01         0.004        0.005 \u001b[90m  missing \u001b[0m\n",
      "  12 │       0.049        0.034        0.034        0.039 \u001b[90m  missing \u001b[0m\n",
      "  13 │       0.039        0.041        0.043        0.035 \u001b[90m  missing \u001b[0m\n",
      "  14 │       0.015        0.021        0.024        0.013 \u001b[90m  missing \u001b[0m\n",
      "  15 │       0.004        0.016        0.026        0.045 \u001b[90m  missing \u001b[0m\n",
      "  16 │       0.01         0.021        0.007        0.008 \u001b[90m  missing \u001b[0m\n",
      "  17 │       0.014        0.008        0.013        0.017 \u001b[90m  missing \u001b[0m\n",
      "  18 │       0.056        0.047        0.088        0.423 \u001b[90m  missing \u001b[0m\n",
      "  19 │       0.022        0.045        0.033        0.037 \u001b[90m  missing \u001b[0m\n",
      "  20 │       0.027        0.027        0.031        0.023 \u001b[90m  missing \u001b[0m\n",
      "  21 │       0.046        0.055        0.045        0.043 \u001b[90m  missing \u001b[0m\n",
      "  22 │       0.004        0.003        0.012        0.011 \u001b[90m  missing \u001b[0m\n",
      "  23 │       0.035        0.038        0.042        0.036 \u001b[90m  missing \u001b[0m\n",
      "  24 │       0.208        0.039        0.041        0.033 \u001b[90m  missing \u001b[0m\n",
      "  25 │       0.023        0.039        0.053        0.047 \u001b[90m  missing \u001b[0m\n",
      "  26 │       0.016        0.012        0.018        0.01  \u001b[90m  missing \u001b[0m\n",
      "  27 │       0.022        0.02         0.028        0.022 \u001b[90m  missing \u001b[0m\n",
      "  28 │       0.01         0.004        0.003        0.016 \u001b[90m  missing \u001b[0m\n",
      "  29 │       0.42         0.16         0.212        0.398 \u001b[90m  missing \u001b[0m\n",
      "  30 │       0.025        0.036        0.032        0.05  \u001b[90m  missing \u001b[0m\n",
      "  31 │       0.048        0.036        0.038        0.043 \u001b[90m  missing \u001b[0m"
     ]
    },
    {
     "name": "stderr",
     "output_type": "stream",
     "text": [
      "┌ Warning: thread = 1 warning: parsed expected 97 columns, but didn't reach end of line around data row: 1. Parsing extra columns and widening final columnset\n",
      "└ @ CSV /Users/diegopisera/.julia/packages/CSV/0Elut/src/file.jl:578\n"
     ]
    }
   ],
   "source": [
    "#input\n",
    "year = \"2022\"\n",
    "mounth = \"gennaio\"\n",
    "\n",
    "# output - data frame\n",
    "df = CSV.read(\"data_\"*year*\"/ExportData_\"*mounth*\".csv\", DataFrame, delim=';',\n",
    "    quoted=true, decimal=',', dateformat=\"dd/mm/yyyy\",header=1)\n",
    "\n",
    "print(df[:,94:98])"
   ]
  },
  {
   "cell_type": "code",
   "execution_count": 35,
   "id": "adjusted-anchor",
   "metadata": {},
   "outputs": [
    {
     "data": {
      "text/plain": [
       "98-element Vector{String}:\n",
       " \"Giorno\"\n",
       " \"00:00-00:15\"\n",
       " \"00:15-00:30\"\n",
       " \"00:30-00:45\"\n",
       " \"00:45-01:00\"\n",
       " \"01:00-01:15\"\n",
       " \"01:15-01:30\"\n",
       " \"01:30-01:45\"\n",
       " \"01:45-02:00\"\n",
       " \"02:00-02:15\"\n",
       " \"02:15-02:30\"\n",
       " \"02:30-02:45\"\n",
       " \"02:45-03:00\"\n",
       " ⋮\n",
       " \"21:15-21:30\"\n",
       " \"21:30-21:45\"\n",
       " \"21:45-22:00\"\n",
       " \"22:00-22:15\"\n",
       " \"22:15-22:30\"\n",
       " \"22:30-22:45\"\n",
       " \"22:45-23:00\"\n",
       " \"23:00-23:15\"\n",
       " \"23:15-23:30\"\n",
       " \"23:30-23:45\"\n",
       " \"23:45-00:00\"\n",
       " \"Column98\""
      ]
     },
     "execution_count": 35,
     "metadata": {},
     "output_type": "execute_result"
    }
   ],
   "source": [
    "names(df)"
   ]
  },
  {
   "cell_type": "code",
   "execution_count": 33,
   "id": "civic-package",
   "metadata": {
    "scrolled": true
   },
   "outputs": [
    {
     "data": {
      "text/plain": [
       "31-element Vector{Float64}:\n",
       " 0.029\n",
       " 0.007\n",
       " 0.015\n",
       " 0.009\n",
       " 0.06\n",
       " 0.007\n",
       " 0.012\n",
       " 0.103\n",
       " 0.043\n",
       " 0.061\n",
       " 0.014\n",
       " 0.007\n",
       " 0.048\n",
       " ⋮\n",
       " 0.038\n",
       " 0.014\n",
       " 0.054\n",
       " 0.004\n",
       " 0.036\n",
       " 0.035\n",
       " 0.055\n",
       " 0.019\n",
       " 0.013\n",
       " 0.003\n",
       " 0.16\n",
       " 0.072"
      ]
     },
     "execution_count": 33,
     "metadata": {},
     "output_type": "execute_result"
    }
   ],
   "source": [
    "df.\"00:00-00:15\""
   ]
  },
  {
   "cell_type": "code",
   "execution_count": 38,
   "id": "configured-danish",
   "metadata": {},
   "outputs": [
    {
     "data": {
      "text/plain": [
       "\"Monday\""
      ]
     },
     "execution_count": 38,
     "metadata": {},
     "output_type": "execute_result"
    }
   ],
   "source": [
    "Dates.dayname(df[10,1])"
   ]
  },
  {
   "cell_type": "code",
   "execution_count": null,
   "id": "thorough-funds",
   "metadata": {},
   "outputs": [],
   "source": [
    "for j = 1:N_day\n",
    "\n",
    "DayOfTheWeek[j] = Dates.dayname(j,1)\n",
    "\n",
    "\n",
    "\n",
    "\n",
    "days_of_the_week = DataFrame(DayOfTheWeek=[20, 40])"
   ]
  },
  {
   "cell_type": "code",
   "execution_count": 27,
   "id": "missing-middle",
   "metadata": {},
   "outputs": [
    {
     "ename": "LoadError",
     "evalue": "MethodError: no method matching dayname(::Int64, ::Int64)\n\u001b[0mClosest candidates are:\n\u001b[0m  dayname(::Integer; locale) at /Applications/Julia-1.7.app/Contents/Resources/julia/share/julia/stdlib/v1.7/Dates/src/query.jl:150\n\u001b[0m  dayname(::Integer, \u001b[91m::Dates.DateLocale\u001b[39m) at /Applications/Julia-1.7.app/Contents/Resources/julia/share/julia/stdlib/v1.7/Dates/src/query.jl:148",
     "output_type": "error",
     "traceback": [
      "MethodError: no method matching dayname(::Int64, ::Int64)\n\u001b[0mClosest candidates are:\n\u001b[0m  dayname(::Integer; locale) at /Applications/Julia-1.7.app/Contents/Resources/julia/share/julia/stdlib/v1.7/Dates/src/query.jl:150\n\u001b[0m  dayname(::Integer, \u001b[91m::Dates.DateLocale\u001b[39m) at /Applications/Julia-1.7.app/Contents/Resources/julia/share/julia/stdlib/v1.7/Dates/src/query.jl:148",
      "",
      "Stacktrace:",
      " [1] top-level scope",
      "   @ ./In[27]:2",
      " [2] eval",
      "   @ ./boot.jl:373 [inlined]",
      " [3] include_string(mapexpr::typeof(REPL.softscope), mod::Module, code::String, filename::String)",
      "   @ Base ./loading.jl:1196"
     ]
    }
   ],
   "source": [
    "for j=1:size(df,2)\n",
    "    df[j,98] = Dates.dayname(j,1)\n",
    "end\n",
    "df.23:00-23:15"
   ]
  },
  {
   "cell_type": "code",
   "execution_count": 25,
   "id": "concerned-signal",
   "metadata": {},
   "outputs": [
    {
     "data": {
      "text/plain": [
       "\"Saturday\""
      ]
     },
     "execution_count": 25,
     "metadata": {},
     "output_type": "execute_result"
    }
   ],
   "source": [
    "Dates.dayname(df[1,1])"
   ]
  },
  {
   "cell_type": "code",
   "execution_count": 46,
   "id": "extraordinary-graduation",
   "metadata": {},
   "outputs": [
    {
     "data": {
      "text/plain": [
       "31"
      ]
     },
     "execution_count": 46,
     "metadata": {},
     "output_type": "execute_result"
    }
   ],
   "source": [
    "# Number of day in the mounth\n",
    "N_day = Int64(size(df,1))"
   ]
  },
  {
   "cell_type": "code",
   "execution_count": 47,
   "id": "significant-combat",
   "metadata": {},
   "outputs": [
    {
     "data": {
      "text/plain": [
       "74.887"
      ]
     },
     "execution_count": 47,
     "metadata": {},
     "output_type": "execute_result"
    }
   ],
   "source": [
    "# Monthly energy consumption [kWh]\n",
    "sum(sum(df[1:28,j]) for j =2:97)"
   ]
  },
  {
   "cell_type": "code",
   "execution_count": 4,
   "id": "handmade-camera",
   "metadata": {
    "scrolled": true
   },
   "outputs": [
    {
     "ename": "LoadError",
     "evalue": "UndefVarError: N_day not defined",
     "output_type": "error",
     "traceback": [
      "UndefVarError: N_day not defined",
      "",
      "Stacktrace:",
      " [1] top-level scope",
      "   @ In[4]:3",
      " [2] eval",
      "   @ ./boot.jl:373 [inlined]",
      " [3] include_string(mapexpr::typeof(REPL.softscope), mod::Module, code::String, filename::String)",
      "   @ Base ./loading.jl:1196"
     ]
    }
   ],
   "source": [
    "# Daily energy consumption\n",
    " \n",
    "daily_E_cons = zeros(N_day)\n",
    "\n",
    "for d = 1:N_day\n",
    "daily_E_cons[d] = sum(df[d,2:97])\n",
    "end\n",
    "\n",
    "## output\n",
    "daily_E_cons\n",
    "\n",
    "## plot output\n",
    "plot(daily_E_cons)"
   ]
  },
  {
   "cell_type": "code",
   "execution_count": null,
   "id": "rational-default",
   "metadata": {},
   "outputs": [],
   "source": []
  },
  {
   "cell_type": "code",
   "execution_count": null,
   "id": "aggregate-european",
   "metadata": {},
   "outputs": [],
   "source": []
  }
 ],
 "metadata": {
  "kernelspec": {
   "display_name": "Julia 1.7.1",
   "language": "julia",
   "name": "julia-1.7"
  },
  "language_info": {
   "file_extension": ".jl",
   "mimetype": "application/julia",
   "name": "julia",
   "version": "1.7.1"
  }
 },
 "nbformat": 4,
 "nbformat_minor": 5
}
