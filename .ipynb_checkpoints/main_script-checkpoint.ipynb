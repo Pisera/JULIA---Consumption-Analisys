{
 "cells": [
  {
   "cell_type": "markdown",
   "id": "63101ae3",
   "metadata": {},
   "source": [
    "# Import data \n"
   ]
  },
  {
   "cell_type": "code",
   "execution_count": 8,
   "id": "2c9f0bde",
   "metadata": {},
   "outputs": [
    {
     "name": "stderr",
     "output_type": "stream",
     "text": [
      "\u001b[32m\u001b[1m   Resolving\u001b[22m\u001b[39m package versions...\n",
      "\u001b[32m\u001b[1m  No Changes\u001b[22m\u001b[39m to `~/.julia/environments/v1.7/Project.toml`\n",
      "\u001b[32m\u001b[1m  No Changes\u001b[22m\u001b[39m to `~/.julia/environments/v1.7/Manifest.toml`\n"
     ]
    }
   ],
   "source": [
    "using Pkg\n",
    "Pkg.add(\"CSV\")"
   ]
  },
  {
   "cell_type": "code",
   "execution_count": 9,
   "id": "d078db1f",
   "metadata": {},
   "outputs": [
    {
     "name": "stderr",
     "output_type": "stream",
     "text": [
      "\u001b[32m\u001b[1m   Resolving\u001b[22m\u001b[39m package versions...\n",
      "\u001b[32m\u001b[1m  No Changes\u001b[22m\u001b[39m to `~/.julia/environments/v1.7/Project.toml`\n",
      "\u001b[32m\u001b[1m  No Changes\u001b[22m\u001b[39m to `~/.julia/environments/v1.7/Manifest.toml`\n"
     ]
    }
   ],
   "source": [
    "using Pkg\n",
    "Pkg.add(\"DataFrames\")"
   ]
  },
  {
   "cell_type": "code",
   "execution_count": 28,
   "id": "6c17a3ad",
   "metadata": {},
   "outputs": [],
   "source": [
    "using CSV\n",
    "using DataFrames"
   ]
  },
  {
   "cell_type": "code",
   "execution_count": 68,
   "id": "c403be81",
   "metadata": {},
   "outputs": [
    {
     "name": "stderr",
     "output_type": "stream",
     "text": [
      "┌ Warning: thread = 1 warning: parsed expected 97 columns, but didn't reach end of line around data row: 1. Parsing extra columns and widening final columnset\n",
      "└ @ CSV /Users/diegopisera/.julia/packages/CSV/0Elut/src/file.jl:578\n"
     ]
    },
    {
     "data": {
      "text/html": [
       "<div class=\"data-frame\"><p>28 rows × 98 columns (omitted printing of 91 columns)</p><table class=\"data-frame\"><thead><tr><th></th><th>Giorno</th><th>00:00-00:15</th><th>00:15-00:30</th><th>00:30-00:45</th><th>00:45-01:00</th><th>01:00-01:15</th><th>01:15-01:30</th></tr><tr><th></th><th title=\"String15\">String15</th><th title=\"Float64\">Float64</th><th title=\"Float64\">Float64</th><th title=\"Float64\">Float64</th><th title=\"Float64\">Float64</th><th title=\"Float64\">Float64</th><th title=\"Float64\">Float64</th></tr></thead><tbody><tr><th>1</th><td>01/02/2022</td><td>0.008</td><td>0.015</td><td>0.013</td><td>0.011</td><td>0.017</td><td>0.038</td></tr><tr><th>2</th><td>02/02/2022</td><td>0.016</td><td>0.012</td><td>0.033</td><td>0.02</td><td>0.043</td><td>0.046</td></tr><tr><th>3</th><td>03/02/2022</td><td>0.012</td><td>0.019</td><td>0.006</td><td>0.005</td><td>0.006</td><td>0.014</td></tr><tr><th>4</th><td>04/02/2022</td><td>0.046</td><td>0.079</td><td>0.06</td><td>0.055</td><td>0.063</td><td>0.058</td></tr><tr><th>5</th><td>05/02/2022</td><td>0.012</td><td>0.017</td><td>0.02</td><td>0.011</td><td>0.02</td><td>0.016</td></tr><tr><th>6</th><td>06/02/2022</td><td>0.012</td><td>0.008</td><td>0.016</td><td>0.012</td><td>0.007</td><td>0.012</td></tr><tr><th>7</th><td>07/02/2022</td><td>0.017</td><td>0.02</td><td>0.037</td><td>0.027</td><td>0.027</td><td>0.04</td></tr><tr><th>8</th><td>08/02/2022</td><td>0.018</td><td>0.012</td><td>0.022</td><td>0.013</td><td>0.011</td><td>0.022</td></tr><tr><th>9</th><td>09/02/2022</td><td>0.046</td><td>0.044</td><td>0.041</td><td>0.019</td><td>0.008</td><td>0.009</td></tr><tr><th>10</th><td>10/02/2022</td><td>0.026</td><td>0.012</td><td>0.012</td><td>0.022</td><td>0.016</td><td>0.009</td></tr><tr><th>11</th><td>11/02/2022</td><td>0.057</td><td>0.046</td><td>0.048</td><td>0.05</td><td>0.044</td><td>0.032</td></tr><tr><th>12</th><td>12/02/2022</td><td>0.014</td><td>0.026</td><td>0.014</td><td>0.015</td><td>0.034</td><td>0.032</td></tr><tr><th>13</th><td>13/02/2022</td><td>0.012</td><td>0.024</td><td>0.009</td><td>0.009</td><td>0.022</td><td>0.026</td></tr><tr><th>14</th><td>14/02/2022</td><td>0.016</td><td>0.008</td><td>0.019</td><td>0.009</td><td>0.004</td><td>0.006</td></tr><tr><th>15</th><td>15/02/2022</td><td>0.05</td><td>0.029</td><td>0.016</td><td>0.027</td><td>0.016</td><td>0.031</td></tr><tr><th>16</th><td>16/02/2022</td><td>0.026</td><td>0.028</td><td>0.104</td><td>0.381</td><td>0.261</td><td>0.029</td></tr><tr><th>17</th><td>17/02/2022</td><td>0.021</td><td>0.015</td><td>0.009</td><td>0.012</td><td>0.016</td><td>0.006</td></tr><tr><th>18</th><td>18/02/2022</td><td>0.006</td><td>0.01</td><td>0.012</td><td>0.004</td><td>0.004</td><td>0.016</td></tr><tr><th>19</th><td>19/02/2022</td><td>0.021</td><td>0.022</td><td>0.009</td><td>0.023</td><td>0.019</td><td>0.01</td></tr><tr><th>20</th><td>20/02/2022</td><td>0.003</td><td>0.009</td><td>0.011</td><td>0.003</td><td>0.004</td><td>0.016</td></tr><tr><th>21</th><td>21/02/2022</td><td>0.004</td><td>0.012</td><td>0.008</td><td>0.003</td><td>0.004</td><td>0.016</td></tr><tr><th>22</th><td>22/02/2022</td><td>0.004</td><td>0.016</td><td>0.003</td><td>0.004</td><td>0.013</td><td>0.005</td></tr><tr><th>23</th><td>23/02/2022</td><td>0.013</td><td>0.007</td><td>0.003</td><td>0.007</td><td>0.012</td><td>0.004</td></tr><tr><th>24</th><td>24/02/2022</td><td>0.003</td><td>0.01</td><td>0.01</td><td>0.004</td><td>0.003</td><td>0.017</td></tr><tr><th>25</th><td>25/02/2022</td><td>0.006</td><td>0.003</td><td>0.004</td><td>0.016</td><td>0.004</td><td>0.003</td></tr><tr><th>26</th><td>26/02/2022</td><td>0.004</td><td>0.015</td><td>0.005</td><td>0.003</td><td>0.006</td><td>0.014</td></tr><tr><th>27</th><td>27/02/2022</td><td>0.025</td><td>0.012</td><td>0.007</td><td>0.008</td><td>0.02</td><td>0.008</td></tr><tr><th>28</th><td>28/02/2022</td><td>0.007</td><td>0.013</td><td>0.004</td><td>0.01</td><td>0.011</td><td>0.003</td></tr></tbody></table></div>"
      ],
      "text/latex": [
       "\\begin{tabular}{r|cccccccc}\n",
       "\t& Giorno & 00:00-00:15 & 00:15-00:30 & 00:30-00:45 & 00:45-01:00 & 01:00-01:15 & 01:15-01:30 & \\\\\n",
       "\t\\hline\n",
       "\t& String15 & Float64 & Float64 & Float64 & Float64 & Float64 & Float64 & \\\\\n",
       "\t\\hline\n",
       "\t1 & 01/02/2022 & 0.008 & 0.015 & 0.013 & 0.011 & 0.017 & 0.038 & $\\dots$ \\\\\n",
       "\t2 & 02/02/2022 & 0.016 & 0.012 & 0.033 & 0.02 & 0.043 & 0.046 & $\\dots$ \\\\\n",
       "\t3 & 03/02/2022 & 0.012 & 0.019 & 0.006 & 0.005 & 0.006 & 0.014 & $\\dots$ \\\\\n",
       "\t4 & 04/02/2022 & 0.046 & 0.079 & 0.06 & 0.055 & 0.063 & 0.058 & $\\dots$ \\\\\n",
       "\t5 & 05/02/2022 & 0.012 & 0.017 & 0.02 & 0.011 & 0.02 & 0.016 & $\\dots$ \\\\\n",
       "\t6 & 06/02/2022 & 0.012 & 0.008 & 0.016 & 0.012 & 0.007 & 0.012 & $\\dots$ \\\\\n",
       "\t7 & 07/02/2022 & 0.017 & 0.02 & 0.037 & 0.027 & 0.027 & 0.04 & $\\dots$ \\\\\n",
       "\t8 & 08/02/2022 & 0.018 & 0.012 & 0.022 & 0.013 & 0.011 & 0.022 & $\\dots$ \\\\\n",
       "\t9 & 09/02/2022 & 0.046 & 0.044 & 0.041 & 0.019 & 0.008 & 0.009 & $\\dots$ \\\\\n",
       "\t10 & 10/02/2022 & 0.026 & 0.012 & 0.012 & 0.022 & 0.016 & 0.009 & $\\dots$ \\\\\n",
       "\t11 & 11/02/2022 & 0.057 & 0.046 & 0.048 & 0.05 & 0.044 & 0.032 & $\\dots$ \\\\\n",
       "\t12 & 12/02/2022 & 0.014 & 0.026 & 0.014 & 0.015 & 0.034 & 0.032 & $\\dots$ \\\\\n",
       "\t13 & 13/02/2022 & 0.012 & 0.024 & 0.009 & 0.009 & 0.022 & 0.026 & $\\dots$ \\\\\n",
       "\t14 & 14/02/2022 & 0.016 & 0.008 & 0.019 & 0.009 & 0.004 & 0.006 & $\\dots$ \\\\\n",
       "\t15 & 15/02/2022 & 0.05 & 0.029 & 0.016 & 0.027 & 0.016 & 0.031 & $\\dots$ \\\\\n",
       "\t16 & 16/02/2022 & 0.026 & 0.028 & 0.104 & 0.381 & 0.261 & 0.029 & $\\dots$ \\\\\n",
       "\t17 & 17/02/2022 & 0.021 & 0.015 & 0.009 & 0.012 & 0.016 & 0.006 & $\\dots$ \\\\\n",
       "\t18 & 18/02/2022 & 0.006 & 0.01 & 0.012 & 0.004 & 0.004 & 0.016 & $\\dots$ \\\\\n",
       "\t19 & 19/02/2022 & 0.021 & 0.022 & 0.009 & 0.023 & 0.019 & 0.01 & $\\dots$ \\\\\n",
       "\t20 & 20/02/2022 & 0.003 & 0.009 & 0.011 & 0.003 & 0.004 & 0.016 & $\\dots$ \\\\\n",
       "\t21 & 21/02/2022 & 0.004 & 0.012 & 0.008 & 0.003 & 0.004 & 0.016 & $\\dots$ \\\\\n",
       "\t22 & 22/02/2022 & 0.004 & 0.016 & 0.003 & 0.004 & 0.013 & 0.005 & $\\dots$ \\\\\n",
       "\t23 & 23/02/2022 & 0.013 & 0.007 & 0.003 & 0.007 & 0.012 & 0.004 & $\\dots$ \\\\\n",
       "\t24 & 24/02/2022 & 0.003 & 0.01 & 0.01 & 0.004 & 0.003 & 0.017 & $\\dots$ \\\\\n",
       "\t25 & 25/02/2022 & 0.006 & 0.003 & 0.004 & 0.016 & 0.004 & 0.003 & $\\dots$ \\\\\n",
       "\t26 & 26/02/2022 & 0.004 & 0.015 & 0.005 & 0.003 & 0.006 & 0.014 & $\\dots$ \\\\\n",
       "\t27 & 27/02/2022 & 0.025 & 0.012 & 0.007 & 0.008 & 0.02 & 0.008 & $\\dots$ \\\\\n",
       "\t28 & 28/02/2022 & 0.007 & 0.013 & 0.004 & 0.01 & 0.011 & 0.003 & $\\dots$ \\\\\n",
       "\\end{tabular}\n"
      ],
      "text/plain": [
       "\u001b[1m28×98 DataFrame\u001b[0m\n",
       "\u001b[1m Row \u001b[0m│\u001b[1m Giorno     \u001b[0m\u001b[1m 00:00-00:15 \u001b[0m\u001b[1m 00:15-00:30 \u001b[0m\u001b[1m 00:30-00:45 \u001b[0m\u001b[1m 00:45-01:00 \u001b[0m\u001b[1m 01:00-0\u001b[0m ⋯\n",
       "\u001b[1m     \u001b[0m│\u001b[90m String15   \u001b[0m\u001b[90m Float64     \u001b[0m\u001b[90m Float64     \u001b[0m\u001b[90m Float64     \u001b[0m\u001b[90m Float64     \u001b[0m\u001b[90m Float64\u001b[0m ⋯\n",
       "─────┼──────────────────────────────────────────────────────────────────────────\n",
       "   1 │ 01/02/2022        0.008        0.015        0.013        0.011        0 ⋯\n",
       "   2 │ 02/02/2022        0.016        0.012        0.033        0.02         0\n",
       "   3 │ 03/02/2022        0.012        0.019        0.006        0.005        0\n",
       "   4 │ 04/02/2022        0.046        0.079        0.06         0.055        0\n",
       "   5 │ 05/02/2022        0.012        0.017        0.02         0.011        0 ⋯\n",
       "   6 │ 06/02/2022        0.012        0.008        0.016        0.012        0\n",
       "   7 │ 07/02/2022        0.017        0.02         0.037        0.027        0\n",
       "   8 │ 08/02/2022        0.018        0.012        0.022        0.013        0\n",
       "   9 │ 09/02/2022        0.046        0.044        0.041        0.019        0 ⋯\n",
       "  10 │ 10/02/2022        0.026        0.012        0.012        0.022        0\n",
       "  11 │ 11/02/2022        0.057        0.046        0.048        0.05         0\n",
       "  ⋮  │     ⋮            ⋮            ⋮            ⋮            ⋮            ⋮  ⋱\n",
       "  19 │ 19/02/2022        0.021        0.022        0.009        0.023        0\n",
       "  20 │ 20/02/2022        0.003        0.009        0.011        0.003        0 ⋯\n",
       "  21 │ 21/02/2022        0.004        0.012        0.008        0.003        0\n",
       "  22 │ 22/02/2022        0.004        0.016        0.003        0.004        0\n",
       "  23 │ 23/02/2022        0.013        0.007        0.003        0.007        0\n",
       "  24 │ 24/02/2022        0.003        0.01         0.01         0.004        0 ⋯\n",
       "  25 │ 25/02/2022        0.006        0.003        0.004        0.016        0\n",
       "  26 │ 26/02/2022        0.004        0.015        0.005        0.003        0\n",
       "  27 │ 27/02/2022        0.025        0.012        0.007        0.008        0\n",
       "  28 │ 28/02/2022        0.007        0.013        0.004        0.01         0 ⋯\n",
       "\u001b[36m                                                   93 columns and 7 rows omitted\u001b[0m"
      ]
     },
     "execution_count": 68,
     "metadata": {},
     "output_type": "execute_result"
    }
   ],
   "source": [
    "df = CSV.read(\"data_2022/ExportData_febbraio.csv\", DataFrame,  delim=';',\n",
    "    quoted=true, decimal=',', dateformat=\"dd-mm-yyyy\")#"
   ]
  },
  {
   "cell_type": "code",
   "execution_count": 72,
   "id": "d8beb46a",
   "metadata": {},
   "outputs": [
    {
     "data": {
      "text/plain": [
       "0.003"
      ]
     },
     "execution_count": 72,
     "metadata": {},
     "output_type": "execute_result"
    }
   ],
   "source": [
    "df[end,97]"
   ]
  }
 ],
 "metadata": {
  "kernelspec": {
   "display_name": "Julia 1.7.0",
   "language": "julia",
   "name": "julia-1.7"
  },
  "language_info": {
   "file_extension": ".jl",
   "mimetype": "application/julia",
   "name": "julia",
   "version": "1.7.0"
  }
 },
 "nbformat": 4,
 "nbformat_minor": 5
}
