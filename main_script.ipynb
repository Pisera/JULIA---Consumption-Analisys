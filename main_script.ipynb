{
 "cells": [
  {
   "cell_type": "markdown",
   "id": "grateful-knock",
   "metadata": {},
   "source": [
    "# Analisi dei consumi elettrici di un utente domestico\n",
    "\n",
    "* A. input data - 1. year 2.mese <br>\n",
    "* B. data format- .csv\n",
    "* C. results - 1. Consumo energetico totale [kWh] 2. Consumo energetico giornaliero per ogni giorno del mese [kWh]\n",
    "> Consumi casa Silvia.\n",
    "\n",
    "<div class=\"alert alert-block alert-info\">\n",
    "<b>Tip:</b> Use blue boxes (alert-info) for tips and notes. \n",
    "If it’s a note, you don’t have to include the word “Note”.\n",
    "</div>"
   ]
  },
  {
   "cell_type": "markdown",
   "id": "d6814f91",
   "metadata": {},
   "source": [
    "## 1. Preambolo"
   ]
  },
  {
   "cell_type": "code",
   "execution_count": 3,
   "id": "patent-affect",
   "metadata": {
    "scrolled": true
   },
   "outputs": [
    {
     "name": "stderr",
     "output_type": "stream",
     "text": [
      "\u001b[32m\u001b[1m   Resolving\u001b[22m\u001b[39m package versions...\n",
      "\u001b[32m\u001b[1m  No Changes\u001b[22m\u001b[39m to `~/.julia/environments/v1.7/Project.toml`\n",
      "\u001b[32m\u001b[1m  No Changes\u001b[22m\u001b[39m to `~/.julia/environments/v1.7/Manifest.toml`\n",
      "\u001b[32m\u001b[1m   Resolving\u001b[22m\u001b[39m package versions...\n",
      "\u001b[32m\u001b[1m  No Changes\u001b[22m\u001b[39m to `~/.julia/environments/v1.7/Project.toml`\n",
      "\u001b[32m\u001b[1m  No Changes\u001b[22m\u001b[39m to `~/.julia/environments/v1.7/Manifest.toml`\n",
      "\u001b[32m\u001b[1m   Resolving\u001b[22m\u001b[39m package versions...\n",
      "\u001b[32m\u001b[1m  No Changes\u001b[22m\u001b[39m to `~/.julia/environments/v1.7/Project.toml`\n",
      "\u001b[32m\u001b[1m  No Changes\u001b[22m\u001b[39m to `~/.julia/environments/v1.7/Manifest.toml`\n"
     ]
    }
   ],
   "source": [
    "using Pkg\n",
    "Pkg.add(\"CSV\")\n",
    "Pkg.add(\"DataFrames\")\n",
    "Pkg.add(\"Plots\")\n",
    "\n",
    "using CSV\n",
    "using DataFrames\n",
    "using Plots\n",
    "using Dates"
   ]
  },
  {
   "cell_type": "markdown",
   "id": "fancy-cursor",
   "metadata": {},
   "source": [
    "## 2. Importa dati consumi in un dataframe\n",
    "\n",
    "read CSV 2021 <br\n",
    "\n",
    "Esempio per importare 12 mesi da una cartella"
   ]
  },
  {
   "cell_type": "code",
   "execution_count": 28,
   "id": "650bd4a1",
   "metadata": {
    "scrolled": true
   },
   "outputs": [],
   "source": [
    "#input\n",
    "year = \"2021\"\n",
    "months = [\"gennaio\",\"febbraio\",\"marzo\",\"aprile\",\"maggio\",\"giugno\",\n",
    "\"luglio\",\"agosto\",\"settembre\",\"ottobre\",\"novembre\",\"dicembre\"]\n",
    "\n",
    "#inizializza dataframe\n",
    "df = []\n",
    "\n",
    "# output - dataframe annuale\n",
    "for i=1:12\n",
    "    \n",
    "    push!(df, CSV.read(\"data_\"*year*\"/ExportData_\"*months[i]*\".csv\", DataFrame, delim=';',\n",
    "    quoted=true, decimal=',', dateformat=\"dd/mm/yyyy\",header=1))\n",
    "    \n",
    "end\n",
    "\n",
    "# Osserva i risultati\n",
    "# i warning si accendono perche la prima riga dei csv non termina con ;\n",
    "# df è diventata una matrice con 12 righe\n",
    "# esempio\n",
    "# df[1] = data frame di gennaio\n",
    "# df[3]= data frame di marzo\n",
    "# df[2][:,95:end] = data frame di febbraio tutte le righe ultime tre colonne\n",
    "\n",
    "# esempio di come usare il data frame del 2021\n",
    "#df[2][:,95:end]\n",
    "\n",
    "# esempio su come avere il vettore che contiene i nomi delle colonne\n",
    "#names(df[2])\n",
    "\n",
    "# esempio di come avere il vettore che contiene tutti gli elementi di una colonna\n",
    "#df[2].\"00:00-00:15\"\n",
    "\n",
    "# esempio codice per saper che giorno della settimana era es Monday\n",
    "#Dates.dayname(df[1][10,1])\n",
    "\n",
    "# Number of day in the mounth\n",
    "#N_day = Int64(size(df[1],1))"
   ]
  },
  {
   "cell_type": "markdown",
   "id": "2846f019",
   "metadata": {},
   "source": [
    "## 3. Calcola il consumo annuale"
   ]
  },
  {
   "cell_type": "code",
   "execution_count": 29,
   "id": "b0d166f8",
   "metadata": {},
   "outputs": [
    {
     "data": {
      "text/plain": [
       "783.3139999999999"
      ]
     },
     "execution_count": 29,
     "metadata": {},
     "output_type": "execute_result"
    }
   ],
   "source": [
    "# Consumo annuale totale [kWh]\n",
    "consumi_annuali = sum(sum(df[i][:,j]) for j =2:97 for i=1:12)"
   ]
  },
  {
   "cell_type": "markdown",
   "id": "ad5bc241",
   "metadata": {},
   "source": [
    "## 4. Calcola i consumi mensili"
   ]
  },
  {
   "cell_type": "code",
   "execution_count": 30,
   "id": "significant-combat",
   "metadata": {},
   "outputs": [
    {
     "data": {
      "text/plain": [
       "12-element Vector{Float64}:\n",
       " 70.0\n",
       " 56.33600000000002\n",
       " 88.217\n",
       " 62.38\n",
       " 58.69599999999999\n",
       " 52.347999999999985\n",
       " 53.87799999999999\n",
       " 43.21\n",
       " 57.023\n",
       " 72.74600000000004\n",
       " 86.39700000000002\n",
       " 82.08300000000001"
      ]
     },
     "execution_count": 30,
     "metadata": {},
     "output_type": "execute_result"
    }
   ],
   "source": [
    "# Consumo mensile totale [kWh]\n",
    "consumi_mensili = zeros(12)\n",
    "for i=1:12\n",
    " consumi_mensili[i] = sum(sum(df[i][:,j]) for j =2:97)\n",
    "end\n",
    "consumi_mensili"
   ]
  },
  {
   "cell_type": "markdown",
   "id": "9fa564c6",
   "metadata": {},
   "source": [
    "## 5. Calcola il consumo giornaliero"
   ]
  },
  {
   "cell_type": "code",
   "execution_count": 31,
   "id": "aa22a80a",
   "metadata": {},
   "outputs": [
    {
     "data": {
      "text/html": [
       "<div class=\"data-frame\"><p>31 rows × 4 columns</p><table class=\"data-frame\"><thead><tr><th></th><th>23:15-23:30</th><th>23:30-23:45</th><th>23:45-00:00</th><th>Column98</th></tr><tr><th></th><th title=\"Float64\">Float64</th><th title=\"Float64\">Float64</th><th title=\"Float64\">Float64</th><th title=\"Missing\">Missing</th></tr></thead><tbody><tr><th>1</th><td>0.004</td><td>0.003</td><td>0.004</td><td><em>missing</em></td></tr><tr><th>2</th><td>0.004</td><td>0.003</td><td>0.004</td><td><em>missing</em></td></tr><tr><th>3</th><td>0.042</td><td>0.059</td><td>0.061</td><td><em>missing</em></td></tr><tr><th>4</th><td>0.071</td><td>0.074</td><td>0.067</td><td><em>missing</em></td></tr><tr><th>5</th><td>0.063</td><td>0.056</td><td>0.099</td><td><em>missing</em></td></tr><tr><th>6</th><td>0.007</td><td>0.007</td><td>0.007</td><td><em>missing</em></td></tr><tr><th>7</th><td>0.06</td><td>0.05</td><td>0.05</td><td><em>missing</em></td></tr><tr><th>8</th><td>0.032</td><td>0.024</td><td>0.02</td><td><em>missing</em></td></tr><tr><th>9</th><td>0.009</td><td>0.007</td><td>0.007</td><td><em>missing</em></td></tr><tr><th>10</th><td>0.004</td><td>0.004</td><td>0.014</td><td><em>missing</em></td></tr><tr><th>11</th><td>0.04</td><td>0.048</td><td>0.061</td><td><em>missing</em></td></tr><tr><th>12</th><td>0.031</td><td>0.024</td><td>0.01</td><td><em>missing</em></td></tr><tr><th>13</th><td>0.037</td><td>0.039</td><td>0.037</td><td><em>missing</em></td></tr><tr><th>14</th><td>0.006</td><td>0.007</td><td>0.006</td><td><em>missing</em></td></tr><tr><th>15</th><td>0.069</td><td>0.068</td><td>0.056</td><td><em>missing</em></td></tr><tr><th>16</th><td>0.034</td><td>0.036</td><td>0.048</td><td><em>missing</em></td></tr><tr><th>17</th><td>0.021</td><td>0.021</td><td>0.022</td><td><em>missing</em></td></tr><tr><th>18</th><td>0.035</td><td>0.016</td><td>0.028</td><td><em>missing</em></td></tr><tr><th>19</th><td>0.006</td><td>0.011</td><td>0.028</td><td><em>missing</em></td></tr><tr><th>20</th><td>0.003</td><td>0.004</td><td>0.003</td><td><em>missing</em></td></tr><tr><th>21</th><td>0.04</td><td>0.059</td><td>0.031</td><td><em>missing</em></td></tr><tr><th>22</th><td>0.017</td><td>0.006</td><td>0.021</td><td><em>missing</em></td></tr><tr><th>23</th><td>0.044</td><td>0.042</td><td>0.041</td><td><em>missing</em></td></tr><tr><th>24</th><td>0.032</td><td>0.027</td><td>0.027</td><td><em>missing</em></td></tr><tr><th>25</th><td>0.068</td><td>0.067</td><td>0.02</td><td><em>missing</em></td></tr><tr><th>26</th><td>0.004</td><td>0.003</td><td>0.004</td><td><em>missing</em></td></tr><tr><th>27</th><td>0.057</td><td>0.055</td><td>0.057</td><td><em>missing</em></td></tr><tr><th>28</th><td>0.005</td><td>0.004</td><td>0.005</td><td><em>missing</em></td></tr><tr><th>29</th><td>0.004</td><td>0.003</td><td>0.004</td><td><em>missing</em></td></tr><tr><th>30</th><td>0.025</td><td>0.023</td><td>0.023</td><td><em>missing</em></td></tr><tr><th>&vellip;</th><td>&vellip;</td><td>&vellip;</td><td>&vellip;</td><td>&vellip;</td></tr></tbody></table></div>"
      ],
      "text/latex": [
       "\\begin{tabular}{r|cccc}\n",
       "\t& 23:15-23:30 & 23:30-23:45 & 23:45-00:00 & Column98\\\\\n",
       "\t\\hline\n",
       "\t& Float64 & Float64 & Float64 & Missing\\\\\n",
       "\t\\hline\n",
       "\t1 & 0.004 & 0.003 & 0.004 & \\emph{missing} \\\\\n",
       "\t2 & 0.004 & 0.003 & 0.004 & \\emph{missing} \\\\\n",
       "\t3 & 0.042 & 0.059 & 0.061 & \\emph{missing} \\\\\n",
       "\t4 & 0.071 & 0.074 & 0.067 & \\emph{missing} \\\\\n",
       "\t5 & 0.063 & 0.056 & 0.099 & \\emph{missing} \\\\\n",
       "\t6 & 0.007 & 0.007 & 0.007 & \\emph{missing} \\\\\n",
       "\t7 & 0.06 & 0.05 & 0.05 & \\emph{missing} \\\\\n",
       "\t8 & 0.032 & 0.024 & 0.02 & \\emph{missing} \\\\\n",
       "\t9 & 0.009 & 0.007 & 0.007 & \\emph{missing} \\\\\n",
       "\t10 & 0.004 & 0.004 & 0.014 & \\emph{missing} \\\\\n",
       "\t11 & 0.04 & 0.048 & 0.061 & \\emph{missing} \\\\\n",
       "\t12 & 0.031 & 0.024 & 0.01 & \\emph{missing} \\\\\n",
       "\t13 & 0.037 & 0.039 & 0.037 & \\emph{missing} \\\\\n",
       "\t14 & 0.006 & 0.007 & 0.006 & \\emph{missing} \\\\\n",
       "\t15 & 0.069 & 0.068 & 0.056 & \\emph{missing} \\\\\n",
       "\t16 & 0.034 & 0.036 & 0.048 & \\emph{missing} \\\\\n",
       "\t17 & 0.021 & 0.021 & 0.022 & \\emph{missing} \\\\\n",
       "\t18 & 0.035 & 0.016 & 0.028 & \\emph{missing} \\\\\n",
       "\t19 & 0.006 & 0.011 & 0.028 & \\emph{missing} \\\\\n",
       "\t20 & 0.003 & 0.004 & 0.003 & \\emph{missing} \\\\\n",
       "\t21 & 0.04 & 0.059 & 0.031 & \\emph{missing} \\\\\n",
       "\t22 & 0.017 & 0.006 & 0.021 & \\emph{missing} \\\\\n",
       "\t23 & 0.044 & 0.042 & 0.041 & \\emph{missing} \\\\\n",
       "\t24 & 0.032 & 0.027 & 0.027 & \\emph{missing} \\\\\n",
       "\t25 & 0.068 & 0.067 & 0.02 & \\emph{missing} \\\\\n",
       "\t26 & 0.004 & 0.003 & 0.004 & \\emph{missing} \\\\\n",
       "\t27 & 0.057 & 0.055 & 0.057 & \\emph{missing} \\\\\n",
       "\t28 & 0.005 & 0.004 & 0.005 & \\emph{missing} \\\\\n",
       "\t29 & 0.004 & 0.003 & 0.004 & \\emph{missing} \\\\\n",
       "\t30 & 0.025 & 0.023 & 0.023 & \\emph{missing} \\\\\n",
       "\t$\\dots$ & $\\dots$ & $\\dots$ & $\\dots$ & $\\dots$ \\\\\n",
       "\\end{tabular}\n"
      ],
      "text/plain": [
       "\u001b[1m31×4 DataFrame\u001b[0m\n",
       "\u001b[1m Row \u001b[0m│\u001b[1m 23:15-23:30 \u001b[0m\u001b[1m 23:30-23:45 \u001b[0m\u001b[1m 23:45-00:00 \u001b[0m\u001b[1m Column98 \u001b[0m\n",
       "\u001b[1m     \u001b[0m│\u001b[90m Float64     \u001b[0m\u001b[90m Float64     \u001b[0m\u001b[90m Float64     \u001b[0m\u001b[90m Missing  \u001b[0m\n",
       "─────┼─────────────────────────────────────────────────\n",
       "   1 │       0.004        0.003        0.004 \u001b[90m  missing \u001b[0m\n",
       "   2 │       0.004        0.003        0.004 \u001b[90m  missing \u001b[0m\n",
       "   3 │       0.042        0.059        0.061 \u001b[90m  missing \u001b[0m\n",
       "   4 │       0.071        0.074        0.067 \u001b[90m  missing \u001b[0m\n",
       "   5 │       0.063        0.056        0.099 \u001b[90m  missing \u001b[0m\n",
       "   6 │       0.007        0.007        0.007 \u001b[90m  missing \u001b[0m\n",
       "   7 │       0.06         0.05         0.05  \u001b[90m  missing \u001b[0m\n",
       "   8 │       0.032        0.024        0.02  \u001b[90m  missing \u001b[0m\n",
       "   9 │       0.009        0.007        0.007 \u001b[90m  missing \u001b[0m\n",
       "  10 │       0.004        0.004        0.014 \u001b[90m  missing \u001b[0m\n",
       "  11 │       0.04         0.048        0.061 \u001b[90m  missing \u001b[0m\n",
       "  ⋮  │      ⋮            ⋮            ⋮          ⋮\n",
       "  22 │       0.017        0.006        0.021 \u001b[90m  missing \u001b[0m\n",
       "  23 │       0.044        0.042        0.041 \u001b[90m  missing \u001b[0m\n",
       "  24 │       0.032        0.027        0.027 \u001b[90m  missing \u001b[0m\n",
       "  25 │       0.068        0.067        0.02  \u001b[90m  missing \u001b[0m\n",
       "  26 │       0.004        0.003        0.004 \u001b[90m  missing \u001b[0m\n",
       "  27 │       0.057        0.055        0.057 \u001b[90m  missing \u001b[0m\n",
       "  28 │       0.005        0.004        0.005 \u001b[90m  missing \u001b[0m\n",
       "  29 │       0.004        0.003        0.004 \u001b[90m  missing \u001b[0m\n",
       "  30 │       0.025        0.023        0.023 \u001b[90m  missing \u001b[0m\n",
       "  31 │       0.009        0.008        0.007 \u001b[90m  missing \u001b[0m\n",
       "\u001b[36m                                        10 rows omitted\u001b[0m"
      ]
     },
     "execution_count": 31,
     "metadata": {},
     "output_type": "execute_result"
    }
   ],
   "source": [
    "#size(df[1],1)\n",
    "#sum(df[1][18,2:97])\n",
    "#df[1].Column98 = zeros(31)\n",
    "#rename!(df[1], :Column98 => :ConumoGiornaliero)\n",
    "df[1][:,95:end]"
   ]
  },
  {
   "cell_type": "code",
   "execution_count": 25,
   "id": "b62248fd",
   "metadata": {
    "scrolled": true
   },
   "outputs": [
    {
     "data": {
      "text/plain": [
       "1.73"
      ]
     },
     "execution_count": 25,
     "metadata": {},
     "output_type": "execute_result"
    }
   ],
   "source": [
    "for m = 1:12\n",
    "    \n",
    "    N_day = Int64(size(df[m],1))\n",
    "    daily_E_cons = zeros(N_day)\n",
    "    \n",
    "    for g = 1:N_day\n",
    "        daily_E_cons[g] = sum(df[m][g,2:97])\n",
    "    end\n",
    "    \n",
    "    df[m].Column98 = daily_E_cons\n",
    "    \n",
    "end\n",
    "\n",
    "\n",
    "\n",
    "df[5][5,98] "
   ]
  },
  {
   "cell_type": "code",
   "execution_count": 27,
   "id": "de1078cb",
   "metadata": {},
   "outputs": [
    {
     "data": {
      "text/plain": [
       "58.695999999999984"
      ]
     },
     "execution_count": 27,
     "metadata": {},
     "output_type": "execute_result"
    }
   ],
   "source": [
    "sum(df[5].Column98)"
   ]
  },
  {
   "cell_type": "code",
   "execution_count": 106,
   "id": "b3b0bd6e",
   "metadata": {},
   "outputs": [
    {
     "data": {
      "text/html": [
       "<div class=\"data-frame\"><p>31 rows × 1 columns</p><table class=\"data-frame\"><thead><tr><th></th><th>Giorno</th></tr><tr><th></th><th title=\"Date\">Date</th></tr></thead><tbody><tr><th>1</th><td>2021-01-01</td></tr><tr><th>2</th><td>2021-01-02</td></tr><tr><th>3</th><td>2021-01-03</td></tr><tr><th>4</th><td>2021-01-04</td></tr><tr><th>5</th><td>2021-01-05</td></tr><tr><th>6</th><td>2021-01-06</td></tr><tr><th>7</th><td>2021-01-07</td></tr><tr><th>8</th><td>2021-01-08</td></tr><tr><th>9</th><td>2021-01-09</td></tr><tr><th>10</th><td>2021-01-10</td></tr><tr><th>11</th><td>2021-01-11</td></tr><tr><th>12</th><td>2021-01-12</td></tr><tr><th>13</th><td>2021-01-13</td></tr><tr><th>14</th><td>2021-01-14</td></tr><tr><th>15</th><td>2021-01-15</td></tr><tr><th>16</th><td>2021-01-16</td></tr><tr><th>17</th><td>2021-01-17</td></tr><tr><th>18</th><td>2021-01-18</td></tr><tr><th>19</th><td>2021-01-19</td></tr><tr><th>20</th><td>2021-01-20</td></tr><tr><th>21</th><td>2021-01-21</td></tr><tr><th>22</th><td>2021-01-22</td></tr><tr><th>23</th><td>2021-01-23</td></tr><tr><th>24</th><td>2021-01-24</td></tr><tr><th>25</th><td>2021-01-25</td></tr><tr><th>26</th><td>2021-01-26</td></tr><tr><th>27</th><td>2021-01-27</td></tr><tr><th>28</th><td>2021-01-28</td></tr><tr><th>29</th><td>2021-01-29</td></tr><tr><th>30</th><td>2021-01-30</td></tr><tr><th>&vellip;</th><td>&vellip;</td></tr></tbody></table></div>"
      ],
      "text/latex": [
       "\\begin{tabular}{r|c}\n",
       "\t& Giorno\\\\\n",
       "\t\\hline\n",
       "\t& Date\\\\\n",
       "\t\\hline\n",
       "\t1 & 2021-01-01 \\\\\n",
       "\t2 & 2021-01-02 \\\\\n",
       "\t3 & 2021-01-03 \\\\\n",
       "\t4 & 2021-01-04 \\\\\n",
       "\t5 & 2021-01-05 \\\\\n",
       "\t6 & 2021-01-06 \\\\\n",
       "\t7 & 2021-01-07 \\\\\n",
       "\t8 & 2021-01-08 \\\\\n",
       "\t9 & 2021-01-09 \\\\\n",
       "\t10 & 2021-01-10 \\\\\n",
       "\t11 & 2021-01-11 \\\\\n",
       "\t12 & 2021-01-12 \\\\\n",
       "\t13 & 2021-01-13 \\\\\n",
       "\t14 & 2021-01-14 \\\\\n",
       "\t15 & 2021-01-15 \\\\\n",
       "\t16 & 2021-01-16 \\\\\n",
       "\t17 & 2021-01-17 \\\\\n",
       "\t18 & 2021-01-18 \\\\\n",
       "\t19 & 2021-01-19 \\\\\n",
       "\t20 & 2021-01-20 \\\\\n",
       "\t21 & 2021-01-21 \\\\\n",
       "\t22 & 2021-01-22 \\\\\n",
       "\t23 & 2021-01-23 \\\\\n",
       "\t24 & 2021-01-24 \\\\\n",
       "\t25 & 2021-01-25 \\\\\n",
       "\t26 & 2021-01-26 \\\\\n",
       "\t27 & 2021-01-27 \\\\\n",
       "\t28 & 2021-01-28 \\\\\n",
       "\t29 & 2021-01-29 \\\\\n",
       "\t30 & 2021-01-30 \\\\\n",
       "\t$\\dots$ & $\\dots$ \\\\\n",
       "\\end{tabular}\n"
      ],
      "text/plain": [
       "\u001b[1m31×1 DataFrame\u001b[0m\n",
       "\u001b[1m Row \u001b[0m│\u001b[1m Giorno     \u001b[0m\n",
       "\u001b[1m     \u001b[0m│\u001b[90m Date       \u001b[0m\n",
       "─────┼────────────\n",
       "   1 │ 2021-01-01\n",
       "   2 │ 2021-01-02\n",
       "   3 │ 2021-01-03\n",
       "   4 │ 2021-01-04\n",
       "   5 │ 2021-01-05\n",
       "   6 │ 2021-01-06\n",
       "   7 │ 2021-01-07\n",
       "   8 │ 2021-01-08\n",
       "   9 │ 2021-01-09\n",
       "  10 │ 2021-01-10\n",
       "  11 │ 2021-01-11\n",
       "  ⋮  │     ⋮\n",
       "  22 │ 2021-01-22\n",
       "  23 │ 2021-01-23\n",
       "  24 │ 2021-01-24\n",
       "  25 │ 2021-01-25\n",
       "  26 │ 2021-01-26\n",
       "  27 │ 2021-01-27\n",
       "  28 │ 2021-01-28\n",
       "  29 │ 2021-01-29\n",
       "  30 │ 2021-01-30\n",
       "  31 │ 2021-01-31\n",
       "\u001b[36m   10 rows omitted\u001b[0m"
      ]
     },
     "execution_count": 106,
     "metadata": {},
     "output_type": "execute_result"
    }
   ],
   "source": [
    "df_daily = DataFrame()\n",
    "df_daily.Giorno = df[1].Giorno\n",
    "df_daily"
   ]
  },
  {
   "cell_type": "code",
   "execution_count": 107,
   "id": "handmade-camera",
   "metadata": {
    "scrolled": true
   },
   "outputs": [
    {
     "data": {
      "text/html": [
       "<div class=\"data-frame\"><p>31 rows × 2 columns</p><table class=\"data-frame\"><thead><tr><th></th><th>Giorno</th><th>Consumo_Giornaliero</th></tr><tr><th></th><th title=\"Date\">Date</th><th title=\"Float64\">Float64</th></tr></thead><tbody><tr><th>1</th><td>2021-12-01</td><td>3.857</td></tr><tr><th>2</th><td>2021-12-02</td><td>2.367</td></tr><tr><th>3</th><td>2021-12-03</td><td>0.742</td></tr><tr><th>4</th><td>2021-12-04</td><td>2.015</td></tr><tr><th>5</th><td>2021-12-05</td><td>5.69</td></tr><tr><th>6</th><td>2021-12-06</td><td>2.442</td></tr><tr><th>7</th><td>2021-12-07</td><td>3.286</td></tr><tr><th>8</th><td>2021-12-08</td><td>5.966</td></tr><tr><th>9</th><td>2021-12-09</td><td>2.957</td></tr><tr><th>10</th><td>2021-12-10</td><td>1.828</td></tr><tr><th>11</th><td>2021-12-11</td><td>4.021</td></tr><tr><th>12</th><td>2021-12-12</td><td>2.746</td></tr><tr><th>13</th><td>2021-12-13</td><td>3.267</td></tr><tr><th>14</th><td>2021-12-14</td><td>4.618</td></tr><tr><th>15</th><td>2021-12-15</td><td>3.254</td></tr><tr><th>16</th><td>2021-12-16</td><td>1.663</td></tr><tr><th>17</th><td>2021-12-17</td><td>2.478</td></tr><tr><th>18</th><td>2021-12-18</td><td>2.884</td></tr><tr><th>19</th><td>2021-12-19</td><td>2.27</td></tr><tr><th>20</th><td>2021-12-20</td><td>0.977</td></tr><tr><th>21</th><td>2021-12-21</td><td>1.41</td></tr><tr><th>22</th><td>2021-12-22</td><td>2.204</td></tr><tr><th>23</th><td>2021-12-23</td><td>1.327</td></tr><tr><th>24</th><td>2021-12-24</td><td>1.638</td></tr><tr><th>25</th><td>2021-12-25</td><td>0.702</td></tr><tr><th>26</th><td>2021-12-26</td><td>1.012</td></tr><tr><th>27</th><td>2021-12-27</td><td>2.791</td></tr><tr><th>28</th><td>2021-12-28</td><td>4.326</td></tr><tr><th>29</th><td>2021-12-29</td><td>1.022</td></tr><tr><th>30</th><td>2021-12-30</td><td>1.636</td></tr><tr><th>&vellip;</th><td>&vellip;</td><td>&vellip;</td></tr></tbody></table></div>"
      ],
      "text/latex": [
       "\\begin{tabular}{r|cc}\n",
       "\t& Giorno & Consumo\\_Giornaliero\\\\\n",
       "\t\\hline\n",
       "\t& Date & Float64\\\\\n",
       "\t\\hline\n",
       "\t1 & 2021-12-01 & 3.857 \\\\\n",
       "\t2 & 2021-12-02 & 2.367 \\\\\n",
       "\t3 & 2021-12-03 & 0.742 \\\\\n",
       "\t4 & 2021-12-04 & 2.015 \\\\\n",
       "\t5 & 2021-12-05 & 5.69 \\\\\n",
       "\t6 & 2021-12-06 & 2.442 \\\\\n",
       "\t7 & 2021-12-07 & 3.286 \\\\\n",
       "\t8 & 2021-12-08 & 5.966 \\\\\n",
       "\t9 & 2021-12-09 & 2.957 \\\\\n",
       "\t10 & 2021-12-10 & 1.828 \\\\\n",
       "\t11 & 2021-12-11 & 4.021 \\\\\n",
       "\t12 & 2021-12-12 & 2.746 \\\\\n",
       "\t13 & 2021-12-13 & 3.267 \\\\\n",
       "\t14 & 2021-12-14 & 4.618 \\\\\n",
       "\t15 & 2021-12-15 & 3.254 \\\\\n",
       "\t16 & 2021-12-16 & 1.663 \\\\\n",
       "\t17 & 2021-12-17 & 2.478 \\\\\n",
       "\t18 & 2021-12-18 & 2.884 \\\\\n",
       "\t19 & 2021-12-19 & 2.27 \\\\\n",
       "\t20 & 2021-12-20 & 0.977 \\\\\n",
       "\t21 & 2021-12-21 & 1.41 \\\\\n",
       "\t22 & 2021-12-22 & 2.204 \\\\\n",
       "\t23 & 2021-12-23 & 1.327 \\\\\n",
       "\t24 & 2021-12-24 & 1.638 \\\\\n",
       "\t25 & 2021-12-25 & 0.702 \\\\\n",
       "\t26 & 2021-12-26 & 1.012 \\\\\n",
       "\t27 & 2021-12-27 & 2.791 \\\\\n",
       "\t28 & 2021-12-28 & 4.326 \\\\\n",
       "\t29 & 2021-12-29 & 1.022 \\\\\n",
       "\t30 & 2021-12-30 & 1.636 \\\\\n",
       "\t$\\dots$ & $\\dots$ & $\\dots$ \\\\\n",
       "\\end{tabular}\n"
      ],
      "text/plain": [
       "\u001b[1m31×2 DataFrame\u001b[0m\n",
       "\u001b[1m Row \u001b[0m│\u001b[1m Giorno     \u001b[0m\u001b[1m Consumo_Giornaliero \u001b[0m\n",
       "\u001b[1m     \u001b[0m│\u001b[90m Date       \u001b[0m\u001b[90m Float64             \u001b[0m\n",
       "─────┼─────────────────────────────────\n",
       "   1 │ 2021-12-01                3.857\n",
       "   2 │ 2021-12-02                2.367\n",
       "   3 │ 2021-12-03                0.742\n",
       "   4 │ 2021-12-04                2.015\n",
       "   5 │ 2021-12-05                5.69\n",
       "   6 │ 2021-12-06                2.442\n",
       "   7 │ 2021-12-07                3.286\n",
       "   8 │ 2021-12-08                5.966\n",
       "   9 │ 2021-12-09                2.957\n",
       "  10 │ 2021-12-10                1.828\n",
       "  11 │ 2021-12-11                4.021\n",
       "  ⋮  │     ⋮                ⋮\n",
       "  22 │ 2021-12-22                2.204\n",
       "  23 │ 2021-12-23                1.327\n",
       "  24 │ 2021-12-24                1.638\n",
       "  25 │ 2021-12-25                0.702\n",
       "  26 │ 2021-12-26                1.012\n",
       "  27 │ 2021-12-27                2.791\n",
       "  28 │ 2021-12-28                4.326\n",
       "  29 │ 2021-12-29                1.022\n",
       "  30 │ 2021-12-30                1.636\n",
       "  31 │ 2021-12-31                4.687\n",
       "\u001b[36m                        10 rows omitted\u001b[0m"
      ]
     },
     "execution_count": 107,
     "metadata": {},
     "output_type": "execute_result"
    }
   ],
   "source": [
    "# Somma energia consumata giornaliera\n",
    "df_daily = DataFrame()\n",
    "\n",
    "for m = 1:12\n",
    "    \n",
    "    N_day = zeros(N_day)\n",
    "    N_day = Int64(size(df[m],1))\n",
    "    daily_E_cons = zeros(N_day)\n",
    "    df_daily.Giorno = df[m].Giorno\n",
    "    \n",
    "    for d = 1:N_day\n",
    "        daily_E_cons[d] = sum(df[m][d,2:97])\n",
    "    end\n",
    "    \n",
    "    df_daily.Consumo_Giornaliero = daily_E_cons\n",
    "end\n",
    "\n",
    "df_daily"
   ]
  },
  {
   "cell_type": "code",
   "execution_count": null,
   "id": "thorough-funds",
   "metadata": {},
   "outputs": [],
   "source": [
    "# crea feature giorno della settimana in dataframe \n",
    "\n",
    "for j = 1:N_day\n",
    "\n",
    "DayOfTheWeek[j] = Dates.dayname(j,1)\n",
    "\n",
    "days_of_the_week = DataFrame(DayOfTheWeek=[20, 40])"
   ]
  },
  {
   "cell_type": "code",
   "execution_count": 27,
   "id": "missing-middle",
   "metadata": {},
   "outputs": [
    {
     "ename": "LoadError",
     "evalue": "MethodError: no method matching dayname(::Int64, ::Int64)\n\u001b[0mClosest candidates are:\n\u001b[0m  dayname(::Integer; locale) at /Applications/Julia-1.7.app/Contents/Resources/julia/share/julia/stdlib/v1.7/Dates/src/query.jl:150\n\u001b[0m  dayname(::Integer, \u001b[91m::Dates.DateLocale\u001b[39m) at /Applications/Julia-1.7.app/Contents/Resources/julia/share/julia/stdlib/v1.7/Dates/src/query.jl:148",
     "output_type": "error",
     "traceback": [
      "MethodError: no method matching dayname(::Int64, ::Int64)\n\u001b[0mClosest candidates are:\n\u001b[0m  dayname(::Integer; locale) at /Applications/Julia-1.7.app/Contents/Resources/julia/share/julia/stdlib/v1.7/Dates/src/query.jl:150\n\u001b[0m  dayname(::Integer, \u001b[91m::Dates.DateLocale\u001b[39m) at /Applications/Julia-1.7.app/Contents/Resources/julia/share/julia/stdlib/v1.7/Dates/src/query.jl:148",
      "",
      "Stacktrace:",
      " [1] top-level scope",
      "   @ ./In[27]:2",
      " [2] eval",
      "   @ ./boot.jl:373 [inlined]",
      " [3] include_string(mapexpr::typeof(REPL.softscope), mod::Module, code::String, filename::String)",
      "   @ Base ./loading.jl:1196"
     ]
    }
   ],
   "source": [
    "for j=1:size(df,2)\n",
    "    df[j,98] = Dates.dayname(j,1)\n",
    "end\n",
    "df.23:00-23:15"
   ]
  },
  {
   "cell_type": "code",
   "execution_count": null,
   "id": "rational-default",
   "metadata": {},
   "outputs": [],
   "source": []
  },
  {
   "cell_type": "code",
   "execution_count": null,
   "id": "aggregate-european",
   "metadata": {},
   "outputs": [],
   "source": []
  }
 ],
 "metadata": {
  "kernelspec": {
   "display_name": "Julia 1.7.0",
   "language": "julia",
   "name": "julia-1.7"
  },
  "language_info": {
   "file_extension": ".jl",
   "mimetype": "application/julia",
   "name": "julia",
   "version": "1.7.0"
  },
  "widgets": {
   "application/vnd.jupyter.widget-state+json": {
    "state": {},
    "version_major": 2,
    "version_minor": 0
   }
  }
 },
 "nbformat": 4,
 "nbformat_minor": 5
}
