{
 "cells": [
  {
   "cell_type": "markdown",
   "id": "bf19240d",
   "metadata": {},
   "source": [
    "# Analisi dei consumi elettrici di un utente domestico\n",
    "\n",
    "* A. input data - 1. year 2.mese <br>\n",
    "* B. data format- .csv\n",
    "* C. results - 1. Consumo energetico totale [kWh] 2. Consumo energetico giornaliero per ogni giorno del mese [kWh]\n",
    "> Consumi casa Silvia.\n",
    "\n",
    "<div class=\"alert alert-block alert-info\">\n",
    "<b>Tip:</b> Use blue boxes (alert-info) for tips and notes. \n",
    "If it’s a note, you don’t have to include the word “Note”.\n",
    "</div>"
   ]
  },
  {
   "cell_type": "markdown",
   "id": "0ad2f592",
   "metadata": {},
   "source": [
    "## 1. Preambolo"
   ]
  },
  {
   "cell_type": "code",
   "execution_count": 1,
   "id": "patent-affect",
   "metadata": {
    "scrolled": true
   },
   "outputs": [
    {
     "name": "stderr",
     "output_type": "stream",
     "text": [
      "\u001b[32m\u001b[1m    Updating\u001b[22m\u001b[39m registry at `~/.julia/registries/General.toml`\n",
      "\u001b[32m\u001b[1m   Resolving\u001b[22m\u001b[39m package versions...\n",
      "\u001b[32m\u001b[1m  No Changes\u001b[22m\u001b[39m to `~/.julia/environments/v1.8/Project.toml`\n",
      "\u001b[32m\u001b[1m  No Changes\u001b[22m\u001b[39m to `~/.julia/environments/v1.8/Manifest.toml`\n",
      "\u001b[32m\u001b[1m   Resolving\u001b[22m\u001b[39m package versions...\n",
      "\u001b[32m\u001b[1m  No Changes\u001b[22m\u001b[39m to `~/.julia/environments/v1.8/Project.toml`\n",
      "\u001b[32m\u001b[1m  No Changes\u001b[22m\u001b[39m to `~/.julia/environments/v1.8/Manifest.toml`\n",
      "\u001b[32m\u001b[1m   Resolving\u001b[22m\u001b[39m package versions...\n",
      "\u001b[32m\u001b[1m  No Changes\u001b[22m\u001b[39m to `~/.julia/environments/v1.8/Project.toml`\n",
      "\u001b[32m\u001b[1m  No Changes\u001b[22m\u001b[39m to `~/.julia/environments/v1.8/Manifest.toml`\n",
      "\u001b[32m\u001b[1m   Resolving\u001b[22m\u001b[39m package versions...\n",
      "\u001b[32m\u001b[1m    Updating\u001b[22m\u001b[39m `~/.julia/environments/v1.8/Project.toml`\n",
      " \u001b[90m [ade2ca70] \u001b[39m\u001b[92m+ Dates\u001b[39m\n",
      "\u001b[32m\u001b[1m  No Changes\u001b[22m\u001b[39m to `~/.julia/environments/v1.8/Manifest.toml`\n"
     ]
    }
   ],
   "source": [
    "using Pkg\n",
    "Pkg.add(\"CSV\")\n",
    "Pkg.add(\"DataFrames\")\n",
    "Pkg.add(\"Plots\")\n",
    "Pkg.add(\"Dates\")\n",
    "\n",
    "using CSV\n",
    "using DataFrames\n",
    "using Plots\n",
    "using Dates"
   ]
  },
  {
   "cell_type": "markdown",
   "id": "fancy-cursor",
   "metadata": {},
   "source": [
    "## 2. Importa dati consumi in un dataframe\n",
    "\n",
    "read CSV 2021 <br\n",
    "\n",
    "Esempio per importare 12 mesi da una cartella"
   ]
  },
  {
   "cell_type": "code",
   "execution_count": 14,
   "id": "650bd4a1",
   "metadata": {
    "scrolled": true
   },
   "outputs": [],
   "source": [
    "#input\n",
    "year = \"2021\"\n",
    "months = [\"gennaio\",\"febbraio\",\"marzo\",\"aprile\",\"maggio\",\"giugno\",\n",
    "\"luglio\",\"agosto\",\"settembre\",\"ottobre\",\"novembre\",\"dicembre\"]\n",
    "\n",
    "#inizializza dataframe\n",
    "df = []\n",
    "\n",
    "# output - dataframe annuale\n",
    "for i=1:12\n",
    "    \n",
    "    push!(df, CSV.read(\"data_\"*year*\"/ExportData_\"*months[i]*\".csv\", DataFrame,\n",
    "            delim=';', quoted=true, decimal=',',\n",
    "            #dateformat=\"dd/mm/yyyy\",\n",
    "            header=1,drop=[:Column98]))\n",
    "    \n",
    "end\n",
    "\n",
    "# Osserva i risultati\n",
    "# i warning si accendono perche la prima riga dei csv non termina con ;\n",
    "# df è diventata una matrice con 12 righe\n",
    "# esempio\n",
    "# df[1] = data frame di gennaio\n",
    "# df[3]= data frame di marzo\n",
    "# df[2][:,95:end] = data frame di febbraio tutte le righe ultime tre colonne\n",
    "\n",
    "# esempio di come usare il data frame del 2021\n",
    "#df[2][:,95:end]\n",
    "\n",
    "# esempio su come avere il vettore che contiene i nomi delle colonne\n",
    "#names(df[2])\n",
    "\n",
    "# esempio di come avere il vettore che contiene tutti gli elementi di una colonna\n",
    "#df[2].\"00:00-00:15\"\n",
    "\n",
    "# esempio codice per saper che giorno della settimana era es Monday\n",
    "#Dates.dayname(df[1][10,1])\n",
    "\n",
    "# Number of day in the mounth\n",
    "#N_day = Int64(size(df[1],1))"
   ]
  },
  {
   "cell_type": "markdown",
   "id": "9df99853",
   "metadata": {},
   "source": [
    "## 3. Calcola il consumo annuale"
   ]
  },
  {
   "cell_type": "code",
   "execution_count": 16,
   "id": "b0d166f8",
   "metadata": {},
   "outputs": [
    {
     "data": {
      "text/plain": [
       "783.3139999999999"
      ]
     },
     "execution_count": 16,
     "metadata": {},
     "output_type": "execute_result"
    }
   ],
   "source": [
    "# Consumo annuale totale [kWh]\n",
    "consumi_annuali = sum(sum(df[i][:,j]) for j =2:97 for i=1:12)"
   ]
  },
  {
   "cell_type": "markdown",
   "id": "d3df5072",
   "metadata": {},
   "source": [
    "## 4. Calcola i consumi mensili"
   ]
  },
  {
   "cell_type": "code",
   "execution_count": 17,
   "id": "significant-combat",
   "metadata": {},
   "outputs": [
    {
     "data": {
      "text/plain": [
       "12-element Vector{Float64}:\n",
       " 70.0\n",
       " 56.33600000000002\n",
       " 88.217\n",
       " 62.38\n",
       " 58.69599999999999\n",
       " 52.347999999999985\n",
       " 53.87799999999999\n",
       " 43.21\n",
       " 57.023\n",
       " 72.74600000000004\n",
       " 86.39700000000002\n",
       " 82.08300000000001"
      ]
     },
     "execution_count": 17,
     "metadata": {},
     "output_type": "execute_result"
    }
   ],
   "source": [
    "# Consumo mensile totale [kWh]\n",
    "consumi_mensili = zeros(12)\n",
    "for i=1:12\n",
    " consumi_mensili[i] = sum(sum(df[i][:,j]) for j =2:97)\n",
    "end\n",
    "consumi_mensili"
   ]
  },
  {
   "cell_type": "markdown",
   "id": "c4a05a71",
   "metadata": {},
   "source": [
    "## 5. Calcola il consumo giornaliero e aggiungi al dataframe\n",
    "\n",
    "Alla colonna 98 del df vengono aggiunti il totale dei consumi giornalieri"
   ]
  },
  {
   "cell_type": "code",
   "execution_count": 18,
   "id": "b62248fd",
   "metadata": {
    "scrolled": true
   },
   "outputs": [
    {
     "data": {
      "text/html": [
       "<div><div style = \"float: left;\"><span>5×4 DataFrame</span></div><div style = \"clear: both;\"></div></div><div class = \"data-frame\" style = \"overflow-x: scroll;\"><table class = \"data-frame\" style = \"margin-bottom: 6px;\"><thead><tr class = \"header\"><th class = \"rowNumber\" style = \"font-weight: bold; text-align: right;\">Row</th><th style = \"text-align: left;\">23:15-23:30</th><th style = \"text-align: left;\">23:30-23:45</th><th style = \"text-align: left;\">23:45-00:00</th><th style = \"text-align: left;\">ConsumiGiornalieri</th></tr><tr class = \"subheader headerLastRow\"><th class = \"rowNumber\" style = \"font-weight: bold; text-align: right;\"></th><th title = \"Float64\" style = \"text-align: left;\">Float64</th><th title = \"Float64\" style = \"text-align: left;\">Float64</th><th title = \"Float64\" style = \"text-align: left;\">Float64</th><th title = \"Float64\" style = \"text-align: left;\">Float64</th></tr></thead><tbody><tr><td class = \"rowNumber\" style = \"font-weight: bold; text-align: right;\">1</td><td style = \"text-align: right;\">0.031</td><td style = \"text-align: right;\">0.021</td><td style = \"text-align: right;\">0.019</td><td style = \"text-align: right;\">1.062</td></tr><tr><td class = \"rowNumber\" style = \"font-weight: bold; text-align: right;\">2</td><td style = \"text-align: right;\">0.01</td><td style = \"text-align: right;\">0.02</td><td style = \"text-align: right;\">0.006</td><td style = \"text-align: right;\">1.243</td></tr><tr><td class = \"rowNumber\" style = \"font-weight: bold; text-align: right;\">3</td><td style = \"text-align: right;\">0.028</td><td style = \"text-align: right;\">0.019</td><td style = \"text-align: right;\">0.016</td><td style = \"text-align: right;\">2.537</td></tr><tr><td class = \"rowNumber\" style = \"font-weight: bold; text-align: right;\">4</td><td style = \"text-align: right;\">0.034</td><td style = \"text-align: right;\">0.032</td><td style = \"text-align: right;\">0.015</td><td style = \"text-align: right;\">2.794</td></tr><tr><td class = \"rowNumber\" style = \"font-weight: bold; text-align: right;\">5</td><td style = \"text-align: right;\">0.014</td><td style = \"text-align: right;\">0.017</td><td style = \"text-align: right;\">0.028</td><td style = \"text-align: right;\">1.73</td></tr></tbody></table></div>"
      ],
      "text/latex": [
       "\\begin{tabular}{r|cccc}\n",
       "\t& 23:15-23:30 & 23:30-23:45 & 23:45-00:00 & ConsumiGiornalieri\\\\\n",
       "\t\\hline\n",
       "\t& Float64 & Float64 & Float64 & Float64\\\\\n",
       "\t\\hline\n",
       "\t1 & 0.031 & 0.021 & 0.019 & 1.062 \\\\\n",
       "\t2 & 0.01 & 0.02 & 0.006 & 1.243 \\\\\n",
       "\t3 & 0.028 & 0.019 & 0.016 & 2.537 \\\\\n",
       "\t4 & 0.034 & 0.032 & 0.015 & 2.794 \\\\\n",
       "\t5 & 0.014 & 0.017 & 0.028 & 1.73 \\\\\n",
       "\\end{tabular}\n"
      ],
      "text/plain": [
       "\u001b[1m5×4 DataFrame\u001b[0m\n",
       "\u001b[1m Row \u001b[0m│\u001b[1m 23:15-23:30 \u001b[0m\u001b[1m 23:30-23:45 \u001b[0m\u001b[1m 23:45-00:00 \u001b[0m\u001b[1m ConsumiGiornalieri \u001b[0m\n",
       "     │\u001b[90m Float64     \u001b[0m\u001b[90m Float64     \u001b[0m\u001b[90m Float64     \u001b[0m\u001b[90m Float64            \u001b[0m\n",
       "─────┼───────────────────────────────────────────────────────────\n",
       "   1 │       0.031        0.021        0.019               1.062\n",
       "   2 │       0.01         0.02         0.006               1.243\n",
       "   3 │       0.028        0.019        0.016               2.537\n",
       "   4 │       0.034        0.032        0.015               2.794\n",
       "   5 │       0.014        0.017        0.028               1.73"
      ]
     },
     "execution_count": 18,
     "metadata": {},
     "output_type": "execute_result"
    }
   ],
   "source": [
    "for m = 1:12\n",
    "    \n",
    "    N_day = Int64(size(df[m],1))\n",
    "    daily_E_cons = zeros(N_day)\n",
    "    \n",
    "    for g = 1:N_day\n",
    "        daily_E_cons[g] = sum(df[m][g,2:97])\n",
    "    end\n",
    "    \n",
    "    df[m].ConsumiGiornalieri = daily_E_cons\n",
    "    \n",
    "end\n",
    "\n",
    "\n",
    "\n",
    "df[5][1:5,95:98] "
   ]
  },
  {
   "cell_type": "markdown",
   "id": "95d69306",
   "metadata": {},
   "source": [
    "## 6. Aggiungi giorno della settimana al dataframe"
   ]
  },
  {
   "cell_type": "code",
   "execution_count": 19,
   "id": "f3fd28c7",
   "metadata": {},
   "outputs": [],
   "source": [
    "#for m = 1:12\n",
    " #   \n",
    "#    N_day = Int64(size(df[m],1))\n",
    "#    week_day = Array{String}(undef,N_day)\n",
    "#    \n",
    " #   for g = 1:N_day\n",
    "  #      week_day[g] = Dates.dayname(df[m][g,1])\n",
    "   # end\n",
    "    #\n",
    "    #df[m].GiornoSettimana = week_day\n",
    "   # \n",
    "#end"
   ]
  },
  {
   "cell_type": "markdown",
   "id": "e6ff97ea",
   "metadata": {},
   "source": [
    "## 7. Grafico dei consumi giornalieri su base quartoraria"
   ]
  },
  {
   "cell_type": "code",
   "execution_count": 21,
   "id": "73ed266d",
   "metadata": {},
   "outputs": [
    {
     "data": {
      "text/html": [
       "<div><div style = \"float: left;\"><span>97×32 DataFrame</span></div><div style = \"float: right;\"><span style = \"font-style: italic;\">72 rows omitted</span></div><div style = \"clear: both;\"></div></div><div class = \"data-frame\" style = \"overflow-x: scroll;\"><table class = \"data-frame\" style = \"margin-bottom: 6px;\"><thead><tr class = \"header\"><th class = \"rowNumber\" style = \"font-weight: bold; text-align: right;\">Row</th><th style = \"text-align: left;\">Giorno</th><th style = \"text-align: left;\">01/01/2021</th><th style = \"text-align: left;\">02/01/2021</th><th style = \"text-align: left;\">03/01/2021</th><th style = \"text-align: left;\">04/01/2021</th><th style = \"text-align: left;\">05/01/2021</th><th style = \"text-align: left;\">06/01/2021</th><th style = \"text-align: left;\">07/01/2021</th><th style = \"text-align: left;\">08/01/2021</th><th style = \"text-align: left;\">09/01/2021</th><th style = \"text-align: left;\">10/01/2021</th><th style = \"text-align: left;\">11/01/2021</th><th style = \"text-align: left;\">12/01/2021</th><th style = \"text-align: left;\">13/01/2021</th><th style = \"text-align: left;\">14/01/2021</th><th style = \"text-align: left;\">15/01/2021</th><th style = \"text-align: left;\">16/01/2021</th><th style = \"text-align: left;\">17/01/2021</th><th style = \"text-align: left;\">18/01/2021</th><th style = \"text-align: left;\">19/01/2021</th><th style = \"text-align: left;\">20/01/2021</th><th style = \"text-align: left;\">21/01/2021</th><th style = \"text-align: left;\">22/01/2021</th><th style = \"text-align: left;\">23/01/2021</th><th style = \"text-align: left;\">24/01/2021</th><th style = \"text-align: left;\">25/01/2021</th><th style = \"text-align: left;\">26/01/2021</th><th style = \"text-align: left;\">27/01/2021</th><th style = \"text-align: left;\">28/01/2021</th><th style = \"text-align: left;\">29/01/2021</th><th style = \"text-align: left;\">30/01/2021</th><th style = \"text-align: left;\">31/01/2021</th></tr><tr class = \"subheader headerLastRow\"><th class = \"rowNumber\" style = \"font-weight: bold; text-align: right;\"></th><th title = \"String\" style = \"text-align: left;\">String</th><th title = \"Float64\" style = \"text-align: left;\">Float64</th><th title = \"Float64\" style = \"text-align: left;\">Float64</th><th title = \"Float64\" style = \"text-align: left;\">Float64</th><th title = \"Float64\" style = \"text-align: left;\">Float64</th><th title = \"Float64\" style = \"text-align: left;\">Float64</th><th title = \"Float64\" style = \"text-align: left;\">Float64</th><th title = \"Float64\" style = \"text-align: left;\">Float64</th><th title = \"Float64\" style = \"text-align: left;\">Float64</th><th title = \"Float64\" style = \"text-align: left;\">Float64</th><th title = \"Float64\" style = \"text-align: left;\">Float64</th><th title = \"Float64\" style = \"text-align: left;\">Float64</th><th title = \"Float64\" style = \"text-align: left;\">Float64</th><th title = \"Float64\" style = \"text-align: left;\">Float64</th><th title = \"Float64\" style = \"text-align: left;\">Float64</th><th title = \"Float64\" style = \"text-align: left;\">Float64</th><th title = \"Float64\" style = \"text-align: left;\">Float64</th><th title = \"Float64\" style = \"text-align: left;\">Float64</th><th title = \"Float64\" style = \"text-align: left;\">Float64</th><th title = \"Float64\" style = \"text-align: left;\">Float64</th><th title = \"Float64\" style = \"text-align: left;\">Float64</th><th title = \"Float64\" style = \"text-align: left;\">Float64</th><th title = \"Float64\" style = \"text-align: left;\">Float64</th><th title = \"Float64\" style = \"text-align: left;\">Float64</th><th title = \"Float64\" style = \"text-align: left;\">Float64</th><th title = \"Float64\" style = \"text-align: left;\">Float64</th><th title = \"Float64\" style = \"text-align: left;\">Float64</th><th title = \"Float64\" style = \"text-align: left;\">Float64</th><th title = \"Float64\" style = \"text-align: left;\">Float64</th><th title = \"Float64\" style = \"text-align: left;\">Float64</th><th title = \"Float64\" style = \"text-align: left;\">Float64</th><th title = \"Float64\" style = \"text-align: left;\">Float64</th></tr></thead><tbody><tr><td class = \"rowNumber\" style = \"font-weight: bold; text-align: right;\">1</td><td style = \"text-align: left;\">00:00-00:15</td><td style = \"text-align: right;\">0.009</td><td style = \"text-align: right;\">0.004</td><td style = \"text-align: right;\">0.003</td><td style = \"text-align: right;\">0.062</td><td style = \"text-align: right;\">0.065</td><td style = \"text-align: right;\">0.088</td><td style = \"text-align: right;\">0.006</td><td style = \"text-align: right;\">0.05</td><td style = \"text-align: right;\">0.035</td><td style = \"text-align: right;\">0.007</td><td style = \"text-align: right;\">0.025</td><td style = \"text-align: right;\">0.06</td><td style = \"text-align: right;\">0.009</td><td style = \"text-align: right;\">0.05</td><td style = \"text-align: right;\">0.005</td><td style = \"text-align: right;\">0.047</td><td style = \"text-align: right;\">0.057</td><td style = \"text-align: right;\">0.021</td><td style = \"text-align: right;\">0.027</td><td style = \"text-align: right;\">0.027</td><td style = \"text-align: right;\">0.003</td><td style = \"text-align: right;\">0.023</td><td style = \"text-align: right;\">0.032</td><td style = \"text-align: right;\">0.031</td><td style = \"text-align: right;\">0.025</td><td style = \"text-align: right;\">0.006</td><td style = \"text-align: right;\">0.024</td><td style = \"text-align: right;\">0.057</td><td style = \"text-align: right;\">0.024</td><td style = \"text-align: right;\">0.012</td><td style = \"text-align: right;\">0.008</td></tr><tr><td class = \"rowNumber\" style = \"font-weight: bold; text-align: right;\">2</td><td style = \"text-align: left;\">00:15-00:30</td><td style = \"text-align: right;\">0.003</td><td style = \"text-align: right;\">0.003</td><td style = \"text-align: right;\">0.004</td><td style = \"text-align: right;\">0.052</td><td style = \"text-align: right;\">0.06</td><td style = \"text-align: right;\">0.063</td><td style = \"text-align: right;\">0.007</td><td style = \"text-align: right;\">0.05</td><td style = \"text-align: right;\">0.033</td><td style = \"text-align: right;\">0.015</td><td style = \"text-align: right;\">0.024</td><td style = \"text-align: right;\">0.058</td><td style = \"text-align: right;\">0.008</td><td style = \"text-align: right;\">0.055</td><td style = \"text-align: right;\">0.004</td><td style = \"text-align: right;\">0.048</td><td style = \"text-align: right;\">0.056</td><td style = \"text-align: right;\">0.021</td><td style = \"text-align: right;\">0.026</td><td style = \"text-align: right;\">0.025</td><td style = \"text-align: right;\">0.004</td><td style = \"text-align: right;\">0.023</td><td style = \"text-align: right;\">0.033</td><td style = \"text-align: right;\">0.007</td><td style = \"text-align: right;\">0.008</td><td style = \"text-align: right;\">0.007</td><td style = \"text-align: right;\">0.024</td><td style = \"text-align: right;\">0.054</td><td style = \"text-align: right;\">0.033</td><td style = \"text-align: right;\">0.025</td><td style = \"text-align: right;\">0.004</td></tr><tr><td class = \"rowNumber\" style = \"font-weight: bold; text-align: right;\">3</td><td style = \"text-align: left;\">00:30-00:45</td><td style = \"text-align: right;\">0.004</td><td style = \"text-align: right;\">0.004</td><td style = \"text-align: right;\">0.003</td><td style = \"text-align: right;\">0.033</td><td style = \"text-align: right;\">0.044</td><td style = \"text-align: right;\">0.055</td><td style = \"text-align: right;\">0.025</td><td style = \"text-align: right;\">0.01</td><td style = \"text-align: right;\">0.031</td><td style = \"text-align: right;\">0.028</td><td style = \"text-align: right;\">0.022</td><td style = \"text-align: right;\">0.042</td><td style = \"text-align: right;\">0.007</td><td style = \"text-align: right;\">0.054</td><td style = \"text-align: right;\">0.004</td><td style = \"text-align: right;\">0.049</td><td style = \"text-align: right;\">0.056</td><td style = \"text-align: right;\">0.021</td><td style = \"text-align: right;\">0.018</td><td style = \"text-align: right;\">0.011</td><td style = \"text-align: right;\">0.003</td><td style = \"text-align: right;\">0.006</td><td style = \"text-align: right;\">0.028</td><td style = \"text-align: right;\">0.003</td><td style = \"text-align: right;\">0.005</td><td style = \"text-align: right;\">0.006</td><td style = \"text-align: right;\">0.024</td><td style = \"text-align: right;\">0.026</td><td style = \"text-align: right;\">0.047</td><td style = \"text-align: right;\">0.024</td><td style = \"text-align: right;\">0.003</td></tr><tr><td class = \"rowNumber\" style = \"font-weight: bold; text-align: right;\">4</td><td style = \"text-align: left;\">00:45-01:00</td><td style = \"text-align: right;\">0.003</td><td style = \"text-align: right;\">0.003</td><td style = \"text-align: right;\">0.004</td><td style = \"text-align: right;\">0.034</td><td style = \"text-align: right;\">0.045</td><td style = \"text-align: right;\">0.054</td><td style = \"text-align: right;\">0.027</td><td style = \"text-align: right;\">0.008</td><td style = \"text-align: right;\">0.014</td><td style = \"text-align: right;\">0.027</td><td style = \"text-align: right;\">0.004</td><td style = \"text-align: right;\">0.037</td><td style = \"text-align: right;\">0.004</td><td style = \"text-align: right;\">0.055</td><td style = \"text-align: right;\">0.004</td><td style = \"text-align: right;\">0.048</td><td style = \"text-align: right;\">0.045</td><td style = \"text-align: right;\">0.038</td><td style = \"text-align: right;\">0.006</td><td style = \"text-align: right;\">0.005</td><td style = \"text-align: right;\">0.024</td><td style = \"text-align: right;\">0.006</td><td style = \"text-align: right;\">0.006</td><td style = \"text-align: right;\">0.021</td><td style = \"text-align: right;\">0.004</td><td style = \"text-align: right;\">0.006</td><td style = \"text-align: right;\">0.007</td><td style = \"text-align: right;\">0.027</td><td style = \"text-align: right;\">0.028</td><td style = \"text-align: right;\">0.023</td><td style = \"text-align: right;\">0.004</td></tr><tr><td class = \"rowNumber\" style = \"font-weight: bold; text-align: right;\">5</td><td style = \"text-align: left;\">01:00-01:15</td><td style = \"text-align: right;\">0.004</td><td style = \"text-align: right;\">0.004</td><td style = \"text-align: right;\">0.003</td><td style = \"text-align: right;\">0.031</td><td style = \"text-align: right;\">0.044</td><td style = \"text-align: right;\">0.053</td><td style = \"text-align: right;\">0.027</td><td style = \"text-align: right;\">0.028</td><td style = \"text-align: right;\">0.005</td><td style = \"text-align: right;\">0.026</td><td style = \"text-align: right;\">0.004</td><td style = \"text-align: right;\">0.036</td><td style = \"text-align: right;\">0.004</td><td style = \"text-align: right;\">0.043</td><td style = \"text-align: right;\">0.024</td><td style = \"text-align: right;\">0.049</td><td style = \"text-align: right;\">0.018</td><td style = \"text-align: right;\">0.048</td><td style = \"text-align: right;\">0.005</td><td style = \"text-align: right;\">0.004</td><td style = \"text-align: right;\">0.024</td><td style = \"text-align: right;\">0.006</td><td style = \"text-align: right;\">0.006</td><td style = \"text-align: right;\">0.031</td><td style = \"text-align: right;\">0.004</td><td style = \"text-align: right;\">0.005</td><td style = \"text-align: right;\">0.009</td><td style = \"text-align: right;\">0.023</td><td style = \"text-align: right;\">0.024</td><td style = \"text-align: right;\">0.008</td><td style = \"text-align: right;\">0.003</td></tr><tr><td class = \"rowNumber\" style = \"font-weight: bold; text-align: right;\">6</td><td style = \"text-align: left;\">01:15-01:30</td><td style = \"text-align: right;\">0.003</td><td style = \"text-align: right;\">0.003</td><td style = \"text-align: right;\">0.006</td><td style = \"text-align: right;\">0.033</td><td style = \"text-align: right;\">0.046</td><td style = \"text-align: right;\">0.057</td><td style = \"text-align: right;\">0.032</td><td style = \"text-align: right;\">0.027</td><td style = \"text-align: right;\">0.008</td><td style = \"text-align: right;\">0.007</td><td style = \"text-align: right;\">0.004</td><td style = \"text-align: right;\">0.037</td><td style = \"text-align: right;\">0.004</td><td style = \"text-align: right;\">0.033</td><td style = \"text-align: right;\">0.024</td><td style = \"text-align: right;\">0.047</td><td style = \"text-align: right;\">0.003</td><td style = \"text-align: right;\">0.036</td><td style = \"text-align: right;\">0.005</td><td style = \"text-align: right;\">0.004</td><td style = \"text-align: right;\">0.023</td><td style = \"text-align: right;\">0.007</td><td style = \"text-align: right;\">0.005</td><td style = \"text-align: right;\">0.03</td><td style = \"text-align: right;\">0.004</td><td style = \"text-align: right;\">0.004</td><td style = \"text-align: right;\">0.033</td><td style = \"text-align: right;\">0.006</td><td style = \"text-align: right;\">0.017</td><td style = \"text-align: right;\">0.003</td><td style = \"text-align: right;\">0.004</td></tr><tr><td class = \"rowNumber\" style = \"font-weight: bold; text-align: right;\">7</td><td style = \"text-align: left;\">01:30-01:45</td><td style = \"text-align: right;\">0.004</td><td style = \"text-align: right;\">0.004</td><td style = \"text-align: right;\">0.025</td><td style = \"text-align: right;\">0.031</td><td style = \"text-align: right;\">0.037</td><td style = \"text-align: right;\">0.075</td><td style = \"text-align: right;\">0.021</td><td style = \"text-align: right;\">0.026</td><td style = \"text-align: right;\">0.011</td><td style = \"text-align: right;\">0.006</td><td style = \"text-align: right;\">0.005</td><td style = \"text-align: right;\">0.035</td><td style = \"text-align: right;\">0.003</td><td style = \"text-align: right;\">0.035</td><td style = \"text-align: right;\">0.023</td><td style = \"text-align: right;\">0.048</td><td style = \"text-align: right;\">0.004</td><td style = \"text-align: right;\">0.032</td><td style = \"text-align: right;\">0.004</td><td style = \"text-align: right;\">0.003</td><td style = \"text-align: right;\">0.011</td><td style = \"text-align: right;\">0.006</td><td style = \"text-align: right;\">0.028</td><td style = \"text-align: right;\">0.021</td><td style = \"text-align: right;\">0.004</td><td style = \"text-align: right;\">0.004</td><td style = \"text-align: right;\">0.025</td><td style = \"text-align: right;\">0.006</td><td style = \"text-align: right;\">0.004</td><td style = \"text-align: right;\">0.004</td><td style = \"text-align: right;\">0.003</td></tr><tr><td class = \"rowNumber\" style = \"font-weight: bold; text-align: right;\">8</td><td style = \"text-align: left;\">01:45-02:00</td><td style = \"text-align: right;\">0.003</td><td style = \"text-align: right;\">0.006</td><td style = \"text-align: right;\">0.023</td><td style = \"text-align: right;\">0.03</td><td style = \"text-align: right;\">0.03</td><td style = \"text-align: right;\">0.074</td><td style = \"text-align: right;\">0.021</td><td style = \"text-align: right;\">0.017</td><td style = \"text-align: right;\">0.008</td><td style = \"text-align: right;\">0.005</td><td style = \"text-align: right;\">0.004</td><td style = \"text-align: right;\">0.037</td><td style = \"text-align: right;\">0.014</td><td style = \"text-align: right;\">0.033</td><td style = \"text-align: right;\">0.017</td><td style = \"text-align: right;\">0.049</td><td style = \"text-align: right;\">0.003</td><td style = \"text-align: right;\">0.011</td><td style = \"text-align: right;\">0.004</td><td style = \"text-align: right;\">0.004</td><td style = \"text-align: right;\">0.004</td><td style = \"text-align: right;\">0.005</td><td style = \"text-align: right;\">0.024</td><td style = \"text-align: right;\">0.004</td><td style = \"text-align: right;\">0.004</td><td style = \"text-align: right;\">0.004</td><td style = \"text-align: right;\">0.003</td><td style = \"text-align: right;\">0.006</td><td style = \"text-align: right;\">0.004</td><td style = \"text-align: right;\">0.004</td><td style = \"text-align: right;\">0.004</td></tr><tr><td class = \"rowNumber\" style = \"font-weight: bold; text-align: right;\">9</td><td style = \"text-align: left;\">02:00-02:15</td><td style = \"text-align: right;\">0.004</td><td style = \"text-align: right;\">0.024</td><td style = \"text-align: right;\">0.023</td><td style = \"text-align: right;\">0.026</td><td style = \"text-align: right;\">0.028</td><td style = \"text-align: right;\">0.073</td><td style = \"text-align: right;\">0.008</td><td style = \"text-align: right;\">0.007</td><td style = \"text-align: right;\">0.006</td><td style = \"text-align: right;\">0.004</td><td style = \"text-align: right;\">0.004</td><td style = \"text-align: right;\">0.028</td><td style = \"text-align: right;\">0.025</td><td style = \"text-align: right;\">0.033</td><td style = \"text-align: right;\">0.004</td><td style = \"text-align: right;\">0.07</td><td style = \"text-align: right;\">0.003</td><td style = \"text-align: right;\">0.009</td><td style = \"text-align: right;\">0.003</td><td style = \"text-align: right;\">0.004</td><td style = \"text-align: right;\">0.003</td><td style = \"text-align: right;\">0.005</td><td style = \"text-align: right;\">0.023</td><td style = \"text-align: right;\">0.004</td><td style = \"text-align: right;\">0.005</td><td style = \"text-align: right;\">0.004</td><td style = \"text-align: right;\">0.004</td><td style = \"text-align: right;\">0.005</td><td style = \"text-align: right;\">0.003</td><td style = \"text-align: right;\">0.003</td><td style = \"text-align: right;\">0.003</td></tr><tr><td class = \"rowNumber\" style = \"font-weight: bold; text-align: right;\">10</td><td style = \"text-align: left;\">02:15-02:30</td><td style = \"text-align: right;\">0.003</td><td style = \"text-align: right;\">0.024</td><td style = \"text-align: right;\">0.005</td><td style = \"text-align: right;\">0.004</td><td style = \"text-align: right;\">0.03</td><td style = \"text-align: right;\">0.073</td><td style = \"text-align: right;\">0.007</td><td style = \"text-align: right;\">0.005</td><td style = \"text-align: right;\">0.009</td><td style = \"text-align: right;\">0.004</td><td style = \"text-align: right;\">0.004</td><td style = \"text-align: right;\">0.003</td><td style = \"text-align: right;\">0.024</td><td style = \"text-align: right;\">0.035</td><td style = \"text-align: right;\">0.003</td><td style = \"text-align: right;\">0.069</td><td style = \"text-align: right;\">0.004</td><td style = \"text-align: right;\">0.008</td><td style = \"text-align: right;\">0.004</td><td style = \"text-align: right;\">0.003</td><td style = \"text-align: right;\">0.003</td><td style = \"text-align: right;\">0.004</td><td style = \"text-align: right;\">0.023</td><td style = \"text-align: right;\">0.018</td><td style = \"text-align: right;\">0.026</td><td style = \"text-align: right;\">0.009</td><td style = \"text-align: right;\">0.004</td><td style = \"text-align: right;\">0.004</td><td style = \"text-align: right;\">0.004</td><td style = \"text-align: right;\">0.004</td><td style = \"text-align: right;\">0.02</td></tr><tr><td class = \"rowNumber\" style = \"font-weight: bold; text-align: right;\">11</td><td style = \"text-align: left;\">02:30-02:45</td><td style = \"text-align: right;\">0.004</td><td style = \"text-align: right;\">0.023</td><td style = \"text-align: right;\">0.004</td><td style = \"text-align: right;\">0.004</td><td style = \"text-align: right;\">0.032</td><td style = \"text-align: right;\">0.055</td><td style = \"text-align: right;\">0.006</td><td style = \"text-align: right;\">0.005</td><td style = \"text-align: right;\">0.01</td><td style = \"text-align: right;\">0.004</td><td style = \"text-align: right;\">0.004</td><td style = \"text-align: right;\">0.006</td><td style = \"text-align: right;\">0.022</td><td style = \"text-align: right;\">0.033</td><td style = \"text-align: right;\">0.004</td><td style = \"text-align: right;\">0.067</td><td style = \"text-align: right;\">0.003</td><td style = \"text-align: right;\">0.006</td><td style = \"text-align: right;\">0.004</td><td style = \"text-align: right;\">0.004</td><td style = \"text-align: right;\">0.004</td><td style = \"text-align: right;\">0.004</td><td style = \"text-align: right;\">0.006</td><td style = \"text-align: right;\">0.025</td><td style = \"text-align: right;\">0.023</td><td style = \"text-align: right;\">0.025</td><td style = \"text-align: right;\">0.003</td><td style = \"text-align: right;\">0.004</td><td style = \"text-align: right;\">0.004</td><td style = \"text-align: right;\">0.004</td><td style = \"text-align: right;\">0.024</td></tr><tr><td class = \"rowNumber\" style = \"font-weight: bold; text-align: right;\">12</td><td style = \"text-align: left;\">02:45-03:00</td><td style = \"text-align: right;\">0.017</td><td style = \"text-align: right;\">0.009</td><td style = \"text-align: right;\">0.003</td><td style = \"text-align: right;\">0.004</td><td style = \"text-align: right;\">0.05</td><td style = \"text-align: right;\">0.053</td><td style = \"text-align: right;\">0.006</td><td style = \"text-align: right;\">0.005</td><td style = \"text-align: right;\">0.008</td><td style = \"text-align: right;\">0.004</td><td style = \"text-align: right;\">0.004</td><td style = \"text-align: right;\">0.008</td><td style = \"text-align: right;\">0.004</td><td style = \"text-align: right;\">0.034</td><td style = \"text-align: right;\">0.003</td><td style = \"text-align: right;\">0.067</td><td style = \"text-align: right;\">0.004</td><td style = \"text-align: right;\">0.006</td><td style = \"text-align: right;\">0.02</td><td style = \"text-align: right;\">0.025</td><td style = \"text-align: right;\">0.003</td><td style = \"text-align: right;\">0.022</td><td style = \"text-align: right;\">0.025</td><td style = \"text-align: right;\">0.023</td><td style = \"text-align: right;\">0.023</td><td style = \"text-align: right;\">0.024</td><td style = \"text-align: right;\">0.004</td><td style = \"text-align: right;\">0.003</td><td style = \"text-align: right;\">0.003</td><td style = \"text-align: right;\">0.003</td><td style = \"text-align: right;\">0.024</td></tr><tr><td class = \"rowNumber\" style = \"font-weight: bold; text-align: right;\">13</td><td style = \"text-align: left;\">03:00-03:15</td><td style = \"text-align: right;\">0.025</td><td style = \"text-align: right;\">0.003</td><td style = \"text-align: right;\">0.004</td><td style = \"text-align: right;\">0.021</td><td style = \"text-align: right;\">0.05</td><td style = \"text-align: right;\">0.04</td><td style = \"text-align: right;\">0.007</td><td style = \"text-align: right;\">0.004</td><td style = \"text-align: right;\">0.008</td><td style = \"text-align: right;\">0.004</td><td style = \"text-align: right;\">0.01</td><td style = \"text-align: right;\">0.028</td><td style = \"text-align: right;\">0.003</td><td style = \"text-align: right;\">0.036</td><td style = \"text-align: right;\">0.004</td><td style = \"text-align: right;\">0.05</td><td style = \"text-align: right;\">0.013</td><td style = \"text-align: right;\">0.004</td><td style = \"text-align: right;\">0.025</td><td style = \"text-align: right;\">0.024</td><td style = \"text-align: right;\">0.003</td><td style = \"text-align: right;\">0.024</td><td style = \"text-align: right;\">0.03</td><td style = \"text-align: right;\">0.023</td><td style = \"text-align: right;\">0.005</td><td style = \"text-align: right;\">0.021</td><td style = \"text-align: right;\">0.004</td><td style = \"text-align: right;\">0.004</td><td style = \"text-align: right;\">0.004</td><td style = \"text-align: right;\">0.004</td><td style = \"text-align: right;\">0.021</td></tr><tr><td style = \"text-align: right;\">&vellip;</td><td style = \"text-align: right;\">&vellip;</td><td style = \"text-align: right;\">&vellip;</td><td style = \"text-align: right;\">&vellip;</td><td style = \"text-align: right;\">&vellip;</td><td style = \"text-align: right;\">&vellip;</td><td style = \"text-align: right;\">&vellip;</td><td style = \"text-align: right;\">&vellip;</td><td style = \"text-align: right;\">&vellip;</td><td style = \"text-align: right;\">&vellip;</td><td style = \"text-align: right;\">&vellip;</td><td style = \"text-align: right;\">&vellip;</td><td style = \"text-align: right;\">&vellip;</td><td style = \"text-align: right;\">&vellip;</td><td style = \"text-align: right;\">&vellip;</td><td style = \"text-align: right;\">&vellip;</td><td style = \"text-align: right;\">&vellip;</td><td style = \"text-align: right;\">&vellip;</td><td style = \"text-align: right;\">&vellip;</td><td style = \"text-align: right;\">&vellip;</td><td style = \"text-align: right;\">&vellip;</td><td style = \"text-align: right;\">&vellip;</td><td style = \"text-align: right;\">&vellip;</td><td style = \"text-align: right;\">&vellip;</td><td style = \"text-align: right;\">&vellip;</td><td style = \"text-align: right;\">&vellip;</td><td style = \"text-align: right;\">&vellip;</td><td style = \"text-align: right;\">&vellip;</td><td style = \"text-align: right;\">&vellip;</td><td style = \"text-align: right;\">&vellip;</td><td style = \"text-align: right;\">&vellip;</td><td style = \"text-align: right;\">&vellip;</td><td style = \"text-align: right;\">&vellip;</td></tr><tr><td class = \"rowNumber\" style = \"font-weight: bold; text-align: right;\">86</td><td style = \"text-align: left;\">21:15-21:30</td><td style = \"text-align: right;\">0.004</td><td style = \"text-align: right;\">0.004</td><td style = \"text-align: right;\">0.043</td><td style = \"text-align: right;\">0.078</td><td style = \"text-align: right;\">0.053</td><td style = \"text-align: right;\">0.033</td><td style = \"text-align: right;\">0.084</td><td style = \"text-align: right;\">0.062</td><td style = \"text-align: right;\">0.027</td><td style = \"text-align: right;\">0.024</td><td style = \"text-align: right;\">0.04</td><td style = \"text-align: right;\">0.034</td><td style = \"text-align: right;\">0.057</td><td style = \"text-align: right;\">0.035</td><td style = \"text-align: right;\">0.049</td><td style = \"text-align: right;\">0.058</td><td style = \"text-align: right;\">0.022</td><td style = \"text-align: right;\">0.055</td><td style = \"text-align: right;\">0.029</td><td style = \"text-align: right;\">0.004</td><td style = \"text-align: right;\">0.038</td><td style = \"text-align: right;\">0.036</td><td style = \"text-align: right;\">0.049</td><td style = \"text-align: right;\">0.056</td><td style = \"text-align: right;\">0.055</td><td style = \"text-align: right;\">0.004</td><td style = \"text-align: right;\">0.077</td><td style = \"text-align: right;\">0.031</td><td style = \"text-align: right;\">0.027</td><td style = \"text-align: right;\">0.003</td><td style = \"text-align: right;\">0.071</td></tr><tr><td class = \"rowNumber\" style = \"font-weight: bold; text-align: right;\">87</td><td style = \"text-align: left;\">21:30-21:45</td><td style = \"text-align: right;\">0.004</td><td style = \"text-align: right;\">0.018</td><td style = \"text-align: right;\">0.045</td><td style = \"text-align: right;\">0.069</td><td style = \"text-align: right;\">0.056</td><td style = \"text-align: right;\">0.038</td><td style = \"text-align: right;\">0.099</td><td style = \"text-align: right;\">0.038</td><td style = \"text-align: right;\">0.017</td><td style = \"text-align: right;\">0.007</td><td style = \"text-align: right;\">0.039</td><td style = \"text-align: right;\">0.036</td><td style = \"text-align: right;\">0.058</td><td style = \"text-align: right;\">0.037</td><td style = \"text-align: right;\">0.051</td><td style = \"text-align: right;\">0.046</td><td style = \"text-align: right;\">0.023</td><td style = \"text-align: right;\">0.043</td><td style = \"text-align: right;\">0.018</td><td style = \"text-align: right;\">0.019</td><td style = \"text-align: right;\">0.036</td><td style = \"text-align: right;\">0.036</td><td style = \"text-align: right;\">0.049</td><td style = \"text-align: right;\">0.031</td><td style = \"text-align: right;\">0.049</td><td style = \"text-align: right;\">0.003</td><td style = \"text-align: right;\">0.077</td><td style = \"text-align: right;\">0.027</td><td style = \"text-align: right;\">0.025</td><td style = \"text-align: right;\">0.004</td><td style = \"text-align: right;\">0.068</td></tr><tr><td class = \"rowNumber\" style = \"font-weight: bold; text-align: right;\">88</td><td style = \"text-align: left;\">21:45-22:00</td><td style = \"text-align: right;\">0.003</td><td style = \"text-align: right;\">0.024</td><td style = \"text-align: right;\">0.043</td><td style = \"text-align: right;\">0.47</td><td style = \"text-align: right;\">0.055</td><td style = \"text-align: right;\">0.01</td><td style = \"text-align: right;\">0.091</td><td style = \"text-align: right;\">0.026</td><td style = \"text-align: right;\">0.006</td><td style = \"text-align: right;\">0.004</td><td style = \"text-align: right;\">0.04</td><td style = \"text-align: right;\">0.035</td><td style = \"text-align: right;\">0.058</td><td style = \"text-align: right;\">0.052</td><td style = \"text-align: right;\">0.055</td><td style = \"text-align: right;\">0.036</td><td style = \"text-align: right;\">0.025</td><td style = \"text-align: right;\">0.036</td><td style = \"text-align: right;\">0.01</td><td style = \"text-align: right;\">0.024</td><td style = \"text-align: right;\">0.036</td><td style = \"text-align: right;\">0.036</td><td style = \"text-align: right;\">0.049</td><td style = \"text-align: right;\">0.029</td><td style = \"text-align: right;\">0.047</td><td style = \"text-align: right;\">0.004</td><td style = \"text-align: right;\">0.078</td><td style = \"text-align: right;\">0.022</td><td style = \"text-align: right;\">0.006</td><td style = \"text-align: right;\">0.003</td><td style = \"text-align: right;\">0.029</td></tr><tr><td class = \"rowNumber\" style = \"font-weight: bold; text-align: right;\">89</td><td style = \"text-align: left;\">22:00-22:15</td><td style = \"text-align: right;\">0.024</td><td style = \"text-align: right;\">0.023</td><td style = \"text-align: right;\">0.042</td><td style = \"text-align: right;\">0.277</td><td style = \"text-align: right;\">0.06</td><td style = \"text-align: right;\">0.006</td><td style = \"text-align: right;\">0.091</td><td style = \"text-align: right;\">0.028</td><td style = \"text-align: right;\">0.007</td><td style = \"text-align: right;\">0.004</td><td style = \"text-align: right;\">0.038</td><td style = \"text-align: right;\">0.039</td><td style = \"text-align: right;\">0.038</td><td style = \"text-align: right;\">0.044</td><td style = \"text-align: right;\">0.048</td><td style = \"text-align: right;\">0.036</td><td style = \"text-align: right;\">0.041</td><td style = \"text-align: right;\">0.036</td><td style = \"text-align: right;\">0.009</td><td style = \"text-align: right;\">0.023</td><td style = \"text-align: right;\">0.037</td><td style = \"text-align: right;\">0.017</td><td style = \"text-align: right;\">0.051</td><td style = \"text-align: right;\">0.028</td><td style = \"text-align: right;\">0.047</td><td style = \"text-align: right;\">0.026</td><td style = \"text-align: right;\">0.074</td><td style = \"text-align: right;\">0.006</td><td style = \"text-align: right;\">0.007</td><td style = \"text-align: right;\">0.004</td><td style = \"text-align: right;\">0.026</td></tr><tr><td class = \"rowNumber\" style = \"font-weight: bold; text-align: right;\">90</td><td style = \"text-align: left;\">22:15-22:30</td><td style = \"text-align: right;\">0.024</td><td style = \"text-align: right;\">0.013</td><td style = \"text-align: right;\">0.04</td><td style = \"text-align: right;\">0.059</td><td style = \"text-align: right;\">0.074</td><td style = \"text-align: right;\">0.007</td><td style = \"text-align: right;\">0.09</td><td style = \"text-align: right;\">0.027</td><td style = \"text-align: right;\">0.01</td><td style = \"text-align: right;\">0.004</td><td style = \"text-align: right;\">0.04</td><td style = \"text-align: right;\">0.039</td><td style = \"text-align: right;\">0.039</td><td style = \"text-align: right;\">0.028</td><td style = \"text-align: right;\">0.047</td><td style = \"text-align: right;\">0.036</td><td style = \"text-align: right;\">0.07</td><td style = \"text-align: right;\">0.036</td><td style = \"text-align: right;\">0.009</td><td style = \"text-align: right;\">0.014</td><td style = \"text-align: right;\">0.037</td><td style = \"text-align: right;\">0.03</td><td style = \"text-align: right;\">0.049</td><td style = \"text-align: right;\">0.05</td><td style = \"text-align: right;\">0.048</td><td style = \"text-align: right;\">0.033</td><td style = \"text-align: right;\">0.055</td><td style = \"text-align: right;\">0.007</td><td style = \"text-align: right;\">0.006</td><td style = \"text-align: right;\">0.003</td><td style = \"text-align: right;\">0.017</td></tr><tr><td class = \"rowNumber\" style = \"font-weight: bold; text-align: right;\">91</td><td style = \"text-align: left;\">22:30-22:45</td><td style = \"text-align: right;\">0.023</td><td style = \"text-align: right;\">0.003</td><td style = \"text-align: right;\">0.047</td><td style = \"text-align: right;\">0.057</td><td style = \"text-align: right;\">0.074</td><td style = \"text-align: right;\">0.007</td><td style = \"text-align: right;\">0.076</td><td style = \"text-align: right;\">0.031</td><td style = \"text-align: right;\">0.01</td><td style = \"text-align: right;\">0.004</td><td style = \"text-align: right;\">0.039</td><td style = \"text-align: right;\">0.015</td><td style = \"text-align: right;\">0.037</td><td style = \"text-align: right;\">0.027</td><td style = \"text-align: right;\">0.047</td><td style = \"text-align: right;\">0.036</td><td style = \"text-align: right;\">0.068</td><td style = \"text-align: right;\">0.034</td><td style = \"text-align: right;\">0.007</td><td style = \"text-align: right;\">0.003</td><td style = \"text-align: right;\">0.037</td><td style = \"text-align: right;\">0.03</td><td style = \"text-align: right;\">0.049</td><td style = \"text-align: right;\">0.055</td><td style = \"text-align: right;\">0.049</td><td style = \"text-align: right;\">0.01</td><td style = \"text-align: right;\">0.057</td><td style = \"text-align: right;\">0.006</td><td style = \"text-align: right;\">0.005</td><td style = \"text-align: right;\">0.004</td><td style = \"text-align: right;\">0.006</td></tr><tr><td class = \"rowNumber\" style = \"font-weight: bold; text-align: right;\">92</td><td style = \"text-align: left;\">22:45-23:00</td><td style = \"text-align: right;\">0.013</td><td style = \"text-align: right;\">0.004</td><td style = \"text-align: right;\">0.043</td><td style = \"text-align: right;\">0.056</td><td style = \"text-align: right;\">0.072</td><td style = \"text-align: right;\">0.007</td><td style = \"text-align: right;\">0.066</td><td style = \"text-align: right;\">0.026</td><td style = \"text-align: right;\">0.009</td><td style = \"text-align: right;\">0.004</td><td style = \"text-align: right;\">0.039</td><td style = \"text-align: right;\">0.031</td><td style = \"text-align: right;\">0.038</td><td style = \"text-align: right;\">0.019</td><td style = \"text-align: right;\">0.061</td><td style = \"text-align: right;\">0.035</td><td style = \"text-align: right;\">0.061</td><td style = \"text-align: right;\">0.035</td><td style = \"text-align: right;\">0.009</td><td style = \"text-align: right;\">0.003</td><td style = \"text-align: right;\">0.037</td><td style = \"text-align: right;\">0.03</td><td style = \"text-align: right;\">0.041</td><td style = \"text-align: right;\">0.032</td><td style = \"text-align: right;\">0.069</td><td style = \"text-align: right;\">0.003</td><td style = \"text-align: right;\">0.057</td><td style = \"text-align: right;\">0.007</td><td style = \"text-align: right;\">0.005</td><td style = \"text-align: right;\">0.003</td><td style = \"text-align: right;\">0.007</td></tr><tr><td class = \"rowNumber\" style = \"font-weight: bold; text-align: right;\">93</td><td style = \"text-align: left;\">23:00-23:15</td><td style = \"text-align: right;\">0.003</td><td style = \"text-align: right;\">0.003</td><td style = \"text-align: right;\">0.041</td><td style = \"text-align: right;\">0.056</td><td style = \"text-align: right;\">0.072</td><td style = \"text-align: right;\">0.007</td><td style = \"text-align: right;\">0.068</td><td style = \"text-align: right;\">0.026</td><td style = \"text-align: right;\">0.01</td><td style = \"text-align: right;\">0.005</td><td style = \"text-align: right;\">0.04</td><td style = \"text-align: right;\">0.032</td><td style = \"text-align: right;\">0.038</td><td style = \"text-align: right;\">0.009</td><td style = \"text-align: right;\">0.07</td><td style = \"text-align: right;\">0.036</td><td style = \"text-align: right;\">0.024</td><td style = \"text-align: right;\">0.036</td><td style = \"text-align: right;\">0.008</td><td style = \"text-align: right;\">0.004</td><td style = \"text-align: right;\">0.037</td><td style = \"text-align: right;\">0.028</td><td style = \"text-align: right;\">0.03</td><td style = \"text-align: right;\">0.022</td><td style = \"text-align: right;\">0.069</td><td style = \"text-align: right;\">0.004</td><td style = \"text-align: right;\">0.057</td><td style = \"text-align: right;\">0.006</td><td style = \"text-align: right;\">0.004</td><td style = \"text-align: right;\">0.016</td><td style = \"text-align: right;\">0.007</td></tr><tr><td class = \"rowNumber\" style = \"font-weight: bold; text-align: right;\">94</td><td style = \"text-align: left;\">23:15-23:30</td><td style = \"text-align: right;\">0.004</td><td style = \"text-align: right;\">0.004</td><td style = \"text-align: right;\">0.042</td><td style = \"text-align: right;\">0.071</td><td style = \"text-align: right;\">0.063</td><td style = \"text-align: right;\">0.007</td><td style = \"text-align: right;\">0.06</td><td style = \"text-align: right;\">0.032</td><td style = \"text-align: right;\">0.009</td><td style = \"text-align: right;\">0.004</td><td style = \"text-align: right;\">0.04</td><td style = \"text-align: right;\">0.031</td><td style = \"text-align: right;\">0.037</td><td style = \"text-align: right;\">0.006</td><td style = \"text-align: right;\">0.069</td><td style = \"text-align: right;\">0.034</td><td style = \"text-align: right;\">0.021</td><td style = \"text-align: right;\">0.035</td><td style = \"text-align: right;\">0.006</td><td style = \"text-align: right;\">0.003</td><td style = \"text-align: right;\">0.04</td><td style = \"text-align: right;\">0.017</td><td style = \"text-align: right;\">0.044</td><td style = \"text-align: right;\">0.032</td><td style = \"text-align: right;\">0.068</td><td style = \"text-align: right;\">0.004</td><td style = \"text-align: right;\">0.057</td><td style = \"text-align: right;\">0.005</td><td style = \"text-align: right;\">0.004</td><td style = \"text-align: right;\">0.025</td><td style = \"text-align: right;\">0.009</td></tr><tr><td class = \"rowNumber\" style = \"font-weight: bold; text-align: right;\">95</td><td style = \"text-align: left;\">23:30-23:45</td><td style = \"text-align: right;\">0.003</td><td style = \"text-align: right;\">0.003</td><td style = \"text-align: right;\">0.059</td><td style = \"text-align: right;\">0.074</td><td style = \"text-align: right;\">0.056</td><td style = \"text-align: right;\">0.007</td><td style = \"text-align: right;\">0.05</td><td style = \"text-align: right;\">0.024</td><td style = \"text-align: right;\">0.007</td><td style = \"text-align: right;\">0.004</td><td style = \"text-align: right;\">0.048</td><td style = \"text-align: right;\">0.024</td><td style = \"text-align: right;\">0.039</td><td style = \"text-align: right;\">0.007</td><td style = \"text-align: right;\">0.068</td><td style = \"text-align: right;\">0.036</td><td style = \"text-align: right;\">0.021</td><td style = \"text-align: right;\">0.016</td><td style = \"text-align: right;\">0.011</td><td style = \"text-align: right;\">0.004</td><td style = \"text-align: right;\">0.059</td><td style = \"text-align: right;\">0.006</td><td style = \"text-align: right;\">0.042</td><td style = \"text-align: right;\">0.027</td><td style = \"text-align: right;\">0.067</td><td style = \"text-align: right;\">0.003</td><td style = \"text-align: right;\">0.055</td><td style = \"text-align: right;\">0.004</td><td style = \"text-align: right;\">0.003</td><td style = \"text-align: right;\">0.023</td><td style = \"text-align: right;\">0.008</td></tr><tr><td class = \"rowNumber\" style = \"font-weight: bold; text-align: right;\">96</td><td style = \"text-align: left;\">23:45-00:00</td><td style = \"text-align: right;\">0.004</td><td style = \"text-align: right;\">0.004</td><td style = \"text-align: right;\">0.061</td><td style = \"text-align: right;\">0.067</td><td style = \"text-align: right;\">0.099</td><td style = \"text-align: right;\">0.007</td><td style = \"text-align: right;\">0.05</td><td style = \"text-align: right;\">0.02</td><td style = \"text-align: right;\">0.007</td><td style = \"text-align: right;\">0.014</td><td style = \"text-align: right;\">0.061</td><td style = \"text-align: right;\">0.01</td><td style = \"text-align: right;\">0.037</td><td style = \"text-align: right;\">0.006</td><td style = \"text-align: right;\">0.056</td><td style = \"text-align: right;\">0.048</td><td style = \"text-align: right;\">0.022</td><td style = \"text-align: right;\">0.028</td><td style = \"text-align: right;\">0.028</td><td style = \"text-align: right;\">0.003</td><td style = \"text-align: right;\">0.031</td><td style = \"text-align: right;\">0.021</td><td style = \"text-align: right;\">0.041</td><td style = \"text-align: right;\">0.027</td><td style = \"text-align: right;\">0.02</td><td style = \"text-align: right;\">0.004</td><td style = \"text-align: right;\">0.057</td><td style = \"text-align: right;\">0.005</td><td style = \"text-align: right;\">0.004</td><td style = \"text-align: right;\">0.023</td><td style = \"text-align: right;\">0.007</td></tr><tr><td class = \"rowNumber\" style = \"font-weight: bold; text-align: right;\">97</td><td style = \"text-align: left;\">ConsumiGiornalieri</td><td style = \"text-align: right;\">0.761</td><td style = \"text-align: right;\">0.734</td><td style = \"text-align: right;\">1.627</td><td style = \"text-align: right;\">4.56</td><td style = \"text-align: right;\">4.018</td><td style = \"text-align: right;\">3.404</td><td style = \"text-align: right;\">4.597</td><td style = \"text-align: right;\">2.867</td><td style = \"text-align: right;\">1.499</td><td style = \"text-align: right;\">3.525</td><td style = \"text-align: right;\">2.134</td><td style = \"text-align: right;\">3.027</td><td style = \"text-align: right;\">1.578</td><td style = \"text-align: right;\">2.321</td><td style = \"text-align: right;\">3.05</td><td style = \"text-align: right;\">2.269</td><td style = \"text-align: right;\">3.834</td><td style = \"text-align: right;\">1.696</td><td style = \"text-align: right;\">1.259</td><td style = \"text-align: right;\">0.876</td><td style = \"text-align: right;\">1.476</td><td style = \"text-align: right;\">2.106</td><td style = \"text-align: right;\">2.605</td><td style = \"text-align: right;\">2.262</td><td style = \"text-align: right;\">1.649</td><td style = \"text-align: right;\">0.84</td><td style = \"text-align: right;\">2.179</td><td style = \"text-align: right;\">1.156</td><td style = \"text-align: right;\">1.261</td><td style = \"text-align: right;\">1.994</td><td style = \"text-align: right;\">2.836</td></tr></tbody></table></div>"
      ],
      "text/latex": [
       "\\begin{tabular}{r|cccccccc}\n",
       "\t& Giorno & 01/01/2021 & 02/01/2021 & 03/01/2021 & 04/01/2021 & 05/01/2021 & 06/01/2021 & \\\\\n",
       "\t\\hline\n",
       "\t& String & Float64 & Float64 & Float64 & Float64 & Float64 & Float64 & \\\\\n",
       "\t\\hline\n",
       "\t1 & 00:00-00:15 & 0.009 & 0.004 & 0.003 & 0.062 & 0.065 & 0.088 & $\\dots$ \\\\\n",
       "\t2 & 00:15-00:30 & 0.003 & 0.003 & 0.004 & 0.052 & 0.06 & 0.063 & $\\dots$ \\\\\n",
       "\t3 & 00:30-00:45 & 0.004 & 0.004 & 0.003 & 0.033 & 0.044 & 0.055 & $\\dots$ \\\\\n",
       "\t4 & 00:45-01:00 & 0.003 & 0.003 & 0.004 & 0.034 & 0.045 & 0.054 & $\\dots$ \\\\\n",
       "\t5 & 01:00-01:15 & 0.004 & 0.004 & 0.003 & 0.031 & 0.044 & 0.053 & $\\dots$ \\\\\n",
       "\t6 & 01:15-01:30 & 0.003 & 0.003 & 0.006 & 0.033 & 0.046 & 0.057 & $\\dots$ \\\\\n",
       "\t7 & 01:30-01:45 & 0.004 & 0.004 & 0.025 & 0.031 & 0.037 & 0.075 & $\\dots$ \\\\\n",
       "\t8 & 01:45-02:00 & 0.003 & 0.006 & 0.023 & 0.03 & 0.03 & 0.074 & $\\dots$ \\\\\n",
       "\t9 & 02:00-02:15 & 0.004 & 0.024 & 0.023 & 0.026 & 0.028 & 0.073 & $\\dots$ \\\\\n",
       "\t10 & 02:15-02:30 & 0.003 & 0.024 & 0.005 & 0.004 & 0.03 & 0.073 & $\\dots$ \\\\\n",
       "\t11 & 02:30-02:45 & 0.004 & 0.023 & 0.004 & 0.004 & 0.032 & 0.055 & $\\dots$ \\\\\n",
       "\t12 & 02:45-03:00 & 0.017 & 0.009 & 0.003 & 0.004 & 0.05 & 0.053 & $\\dots$ \\\\\n",
       "\t13 & 03:00-03:15 & 0.025 & 0.003 & 0.004 & 0.021 & 0.05 & 0.04 & $\\dots$ \\\\\n",
       "\t14 & 03:15-03:30 & 0.023 & 0.004 & 0.003 & 0.025 & 0.046 & 0.007 & $\\dots$ \\\\\n",
       "\t15 & 03:30-03:45 & 0.018 & 0.003 & 0.004 & 0.024 & 0.047 & 0.007 & $\\dots$ \\\\\n",
       "\t16 & 03:45-04:00 & 0.003 & 0.004 & 0.003 & 0.02 & 0.032 & 0.008 & $\\dots$ \\\\\n",
       "\t17 & 04:00-04:15 & 0.004 & 0.003 & 0.004 & 0.004 & 0.026 & 0.007 & $\\dots$ \\\\\n",
       "\t18 & 04:15-04:30 & 0.003 & 0.004 & 0.003 & 0.004 & 0.027 & 0.006 & $\\dots$ \\\\\n",
       "\t19 & 04:30-04:45 & 0.004 & 0.003 & 0.004 & 0.004 & 0.026 & 0.006 & $\\dots$ \\\\\n",
       "\t20 & 04:45-05:00 & 0.003 & 0.004 & 0.003 & 0.034 & 0.027 & 0.017 & $\\dots$ \\\\\n",
       "\t21 & 05:00-05:15 & 0.004 & 0.003 & 0.004 & 0.031 & 0.026 & 0.026 & $\\dots$ \\\\\n",
       "\t22 & 05:15-05:30 & 0.003 & 0.004 & 0.013 & 0.028 & 0.027 & 0.024 & $\\dots$ \\\\\n",
       "\t23 & 05:30-05:45 & 0.004 & 0.003 & 0.024 & 0.004 & 0.025 & 0.024 & $\\dots$ \\\\\n",
       "\t24 & 05:45-06:00 & 0.003 & 0.012 & 0.023 & 0.004 & 0.027 & 0.011 & $\\dots$ \\\\\n",
       "\t25 & 06:00-06:15 & 0.004 & 0.025 & 0.017 & 0.003 & 0.039 & 0.004 & $\\dots$ \\\\\n",
       "\t26 & 06:15-06:30 & 0.003 & 0.023 & 0.004 & 0.004 & 0.048 & 0.004 & $\\dots$ \\\\\n",
       "\t27 & 06:30-06:45 & 0.021 & 0.023 & 0.003 & 0.015 & 0.045 & 0.004 & $\\dots$ \\\\\n",
       "\t28 & 06:45-07:00 & 0.024 & 0.004 & 0.004 & 0.025 & 0.047 & 0.004 & $\\dots$ \\\\\n",
       "\t29 & 07:00-07:15 & 0.024 & 0.003 & 0.003 & 0.035 & 0.041 & 0.004 & $\\dots$ \\\\\n",
       "\t30 & 07:15-07:30 & 0.016 & 0.004 & 0.004 & 0.053 & 0.025 & 0.004 & $\\dots$ \\\\\n",
       "\t$\\dots$ & $\\dots$ & $\\dots$ & $\\dots$ & $\\dots$ & $\\dots$ & $\\dots$ & $\\dots$ &  \\\\\n",
       "\\end{tabular}\n"
      ],
      "text/plain": [
       "\u001b[1m97×32 DataFrame\u001b[0m\n",
       "\u001b[1m Row \u001b[0m│\u001b[1m Giorno             \u001b[0m\u001b[1m 01/01/2021 \u001b[0m\u001b[1m 02/01/2021 \u001b[0m\u001b[1m 03/01/2021 \u001b[0m\u001b[1m 04/01/2021 \u001b[0m\u001b[1m 05/\u001b[0m ⋯\n",
       "     │\u001b[90m String             \u001b[0m\u001b[90m Float64    \u001b[0m\u001b[90m Float64    \u001b[0m\u001b[90m Float64    \u001b[0m\u001b[90m Float64    \u001b[0m\u001b[90m Flo\u001b[0m ⋯\n",
       "─────┼──────────────────────────────────────────────────────────────────────────\n",
       "   1 │ 00:00-00:15              0.009       0.004       0.003       0.062      ⋯\n",
       "   2 │ 00:15-00:30              0.003       0.003       0.004       0.052\n",
       "   3 │ 00:30-00:45              0.004       0.004       0.003       0.033\n",
       "   4 │ 00:45-01:00              0.003       0.003       0.004       0.034\n",
       "   5 │ 01:00-01:15              0.004       0.004       0.003       0.031      ⋯\n",
       "   6 │ 01:15-01:30              0.003       0.003       0.006       0.033\n",
       "   7 │ 01:30-01:45              0.004       0.004       0.025       0.031\n",
       "   8 │ 01:45-02:00              0.003       0.006       0.023       0.03\n",
       "   9 │ 02:00-02:15              0.004       0.024       0.023       0.026      ⋯\n",
       "  10 │ 02:15-02:30              0.003       0.024       0.005       0.004\n",
       "  11 │ 02:30-02:45              0.004       0.023       0.004       0.004\n",
       "  ⋮  │         ⋮               ⋮           ⋮           ⋮           ⋮           ⋱\n",
       "  88 │ 21:45-22:00              0.003       0.024       0.043       0.47\n",
       "  89 │ 22:00-22:15              0.024       0.023       0.042       0.277      ⋯\n",
       "  90 │ 22:15-22:30              0.024       0.013       0.04        0.059\n",
       "  91 │ 22:30-22:45              0.023       0.003       0.047       0.057\n",
       "  92 │ 22:45-23:00              0.013       0.004       0.043       0.056\n",
       "  93 │ 23:00-23:15              0.003       0.003       0.041       0.056      ⋯\n",
       "  94 │ 23:15-23:30              0.004       0.004       0.042       0.071\n",
       "  95 │ 23:30-23:45              0.003       0.003       0.059       0.074\n",
       "  96 │ 23:45-00:00              0.004       0.004       0.061       0.067\n",
       "  97 │ ConsumiGiornalieri       0.761       0.734       1.627       4.56       ⋯\n",
       "\u001b[36m                                                  27 columns and 76 rows omitted\u001b[0m"
      ]
     },
     "execution_count": 21,
     "metadata": {},
     "output_type": "execute_result"
    }
   ],
   "source": [
    "af = df[1]\n",
    "\n",
    "permutedims(af,\"Giorno\")"
   ]
  },
  {
   "cell_type": "code",
   "execution_count": 8,
   "id": "629529e9",
   "metadata": {
    "scrolled": false
   },
   "outputs": [
    {
     "data": {
      "text/html": [
       "<div><div style = \"float: left;\"><span>2×2 DataFrame</span></div><div style = \"clear: both;\"></div></div><div class = \"data-frame\" style = \"overflow-x: scroll;\"><table class = \"data-frame\" style = \"margin-bottom: 6px;\"><thead><tr class = \"header\"><th class = \"rowNumber\" style = \"font-weight: bold; text-align: right;\">Row</th><th style = \"text-align: left;\">a</th><th style = \"text-align: left;\">b</th></tr><tr class = \"subheader headerLastRow\"><th class = \"rowNumber\" style = \"font-weight: bold; text-align: right;\"></th><th title = \"Int64\" style = \"text-align: left;\">Int64</th><th title = \"Int64\" style = \"text-align: left;\">Int64</th></tr></thead><tbody><tr><td class = \"rowNumber\" style = \"font-weight: bold; text-align: right;\">1</td><td style = \"text-align: right;\">1</td><td style = \"text-align: right;\">3</td></tr><tr><td class = \"rowNumber\" style = \"font-weight: bold; text-align: right;\">2</td><td style = \"text-align: right;\">2</td><td style = \"text-align: right;\">4</td></tr></tbody></table></div>"
      ],
      "text/latex": [
       "\\begin{tabular}{r|cc}\n",
       "\t& a & b\\\\\n",
       "\t\\hline\n",
       "\t& Int64 & Int64\\\\\n",
       "\t\\hline\n",
       "\t1 & 1 & 3 \\\\\n",
       "\t2 & 2 & 4 \\\\\n",
       "\\end{tabular}\n"
      ],
      "text/plain": [
       "\u001b[1m2×2 DataFrame\u001b[0m\n",
       "\u001b[1m Row \u001b[0m│\u001b[1m a     \u001b[0m\u001b[1m b     \u001b[0m\n",
       "     │\u001b[90m Int64 \u001b[0m\u001b[90m Int64 \u001b[0m\n",
       "─────┼──────────────\n",
       "   1 │     1      3\n",
       "   2 │     2      4"
      ]
     },
     "execution_count": 8,
     "metadata": {},
     "output_type": "execute_result"
    }
   ],
   "source": [
    "jf = DataFrame(a=1:2, b=3:4)"
   ]
  },
  {
   "cell_type": "code",
   "execution_count": 9,
   "id": "4014ca3e",
   "metadata": {},
   "outputs": [
    {
     "data": {
      "text/html": [
       "<div><div style = \"float: left;\"><span>2×2 DataFrame</span></div><div style = \"clear: both;\"></div></div><div class = \"data-frame\" style = \"overflow-x: scroll;\"><table class = \"data-frame\" style = \"margin-bottom: 6px;\"><thead><tr class = \"header\"><th class = \"rowNumber\" style = \"font-weight: bold; text-align: right;\">Row</th><th style = \"text-align: left;\">x1</th><th style = \"text-align: left;\">x2</th></tr><tr class = \"subheader headerLastRow\"><th class = \"rowNumber\" style = \"font-weight: bold; text-align: right;\"></th><th title = \"Int64\" style = \"text-align: left;\">Int64</th><th title = \"Int64\" style = \"text-align: left;\">Int64</th></tr></thead><tbody><tr><td class = \"rowNumber\" style = \"font-weight: bold; text-align: right;\">1</td><td style = \"text-align: right;\">1</td><td style = \"text-align: right;\">2</td></tr><tr><td class = \"rowNumber\" style = \"font-weight: bold; text-align: right;\">2</td><td style = \"text-align: right;\">3</td><td style = \"text-align: right;\">4</td></tr></tbody></table></div>"
      ],
      "text/latex": [
       "\\begin{tabular}{r|cc}\n",
       "\t& x1 & x2\\\\\n",
       "\t\\hline\n",
       "\t& Int64 & Int64\\\\\n",
       "\t\\hline\n",
       "\t1 & 1 & 2 \\\\\n",
       "\t2 & 3 & 4 \\\\\n",
       "\\end{tabular}\n"
      ],
      "text/plain": [
       "\u001b[1m2×2 DataFrame\u001b[0m\n",
       "\u001b[1m Row \u001b[0m│\u001b[1m x1    \u001b[0m\u001b[1m x2    \u001b[0m\n",
       "     │\u001b[90m Int64 \u001b[0m\u001b[90m Int64 \u001b[0m\n",
       "─────┼──────────────\n",
       "   1 │     1      2\n",
       "   2 │     3      4"
      ]
     },
     "execution_count": 9,
     "metadata": {},
     "output_type": "execute_result"
    }
   ],
   "source": [
    "permutedims(jf)"
   ]
  },
  {
   "cell_type": "code",
   "execution_count": 107,
   "id": "075c8c16",
   "metadata": {
    "scrolled": true
   },
   "outputs": [
    {
     "ename": "LoadError",
     "evalue": "Cannot convert DataFrameRow{DataFrame, DataFrames.SubIndex{DataFrames.Index, UnitRange{Int64}, UnitRange{Int64}}} to series data for plotting",
     "output_type": "error",
     "traceback": [
      "Cannot convert DataFrameRow{DataFrame, DataFrames.SubIndex{DataFrames.Index, UnitRange{Int64}, UnitRange{Int64}}} to series data for plotting",
      "",
      "Stacktrace:",
      "  [1] error(s::String)",
      "    @ Base ./error.jl:33",
      "  [2] _prepare_series_data(x::DataFrameRow{DataFrame, DataFrames.SubIndex{DataFrames.Index, UnitRange{Int64}, UnitRange{Int64}}})",
      "    @ RecipesPipeline ~/.julia/packages/RecipesPipeline/Bxu2O/src/series.jl:8",
      "  [3] _series_data_vector(x::DataFrameRow{DataFrame, DataFrames.SubIndex{DataFrames.Index, UnitRange{Int64}, UnitRange{Int64}}}, plotattributes::Dict{Symbol, Any})",
      "    @ RecipesPipeline ~/.julia/packages/RecipesPipeline/Bxu2O/src/series.jl:27",
      "  [4] macro expansion",
      "    @ ~/.julia/packages/RecipesPipeline/Bxu2O/src/series.jl:144 [inlined]",
      "  [5] apply_recipe(plotattributes::AbstractDict{Symbol, Any}, #unused#::Type{RecipesPipeline.SliceIt}, x::Any, y::Any, z::Any)",
      "    @ RecipesPipeline ~/.julia/packages/RecipesBase/qpxEX/src/RecipesBase.jl:289",
      "  [6] _process_userrecipes!(plt::Any, plotattributes::Any, args::Any)",
      "    @ RecipesPipeline ~/.julia/packages/RecipesPipeline/Bxu2O/src/user_recipe.jl:36",
      "  [7] recipe_pipeline!(plt::Any, plotattributes::Any, args::Any)",
      "    @ RecipesPipeline ~/.julia/packages/RecipesPipeline/Bxu2O/src/RecipesPipeline.jl:70",
      "  [8] _plot!(plt::Plots.Plot, plotattributes::Any, args::Any)",
      "    @ Plots ~/.julia/packages/Plots/Xv2qA/src/plot.jl:208",
      "  [9] plot(::Any, ::Vararg{Any}; kw::Base.Pairs{Symbol, V, Tuple{Vararg{Symbol, N}}, NamedTuple{names, T}} where {V, N, names, T<:Tuple{Vararg{Any, N}}})",
      "    @ Plots ~/.julia/packages/Plots/Xv2qA/src/plot.jl:91",
      " [10] plot(::Any, ::Any)",
      "    @ Plots ~/.julia/packages/Plots/Xv2qA/src/plot.jl:85",
      " [11] top-level scope",
      "    @ In[107]:2",
      " [12] eval",
      "    @ ./boot.jl:373 [inlined]",
      " [13] include_string(mapexpr::typeof(REPL.softscope), mod::Module, code::String, filename::String)",
      "    @ Base ./loading.jl:1196"
     ]
    }
   ],
   "source": [
    "frame = df[1][:,2:97]\n",
    "plot(1:96,df[1][1,2:97])"
   ]
  },
  {
   "cell_type": "code",
   "execution_count": 80,
   "id": "7c30ab99",
   "metadata": {
    "scrolled": true
   },
   "outputs": [
    {
     "ename": "LoadError",
     "evalue": "MethodError: no method matching value(::Float64)\n\u001b[0mClosest candidates are:\n\u001b[0m  value(\u001b[91m::Period\u001b[39m) at /Applications/Julia-1.7.app/Contents/Resources/julia/share/julia/stdlib/v1.7/Dates/src/periods.jl:10\n\u001b[0m  value(\u001b[91m::Time\u001b[39m) at /Applications/Julia-1.7.app/Contents/Resources/julia/share/julia/stdlib/v1.7/Dates/src/accessors.jl:52\n\u001b[0m  value(\u001b[91m::TimeType\u001b[39m) at /Applications/Julia-1.7.app/Contents/Resources/julia/share/julia/stdlib/v1.7/Dates/src/accessors.jl:51",
     "output_type": "error",
     "traceback": [
      "MethodError: no method matching value(::Float64)\n\u001b[0mClosest candidates are:\n\u001b[0m  value(\u001b[91m::Period\u001b[39m) at /Applications/Julia-1.7.app/Contents/Resources/julia/share/julia/stdlib/v1.7/Dates/src/periods.jl:10\n\u001b[0m  value(\u001b[91m::Time\u001b[39m) at /Applications/Julia-1.7.app/Contents/Resources/julia/share/julia/stdlib/v1.7/Dates/src/accessors.jl:52\n\u001b[0m  value(\u001b[91m::TimeType\u001b[39m) at /Applications/Julia-1.7.app/Contents/Resources/julia/share/julia/stdlib/v1.7/Dates/src/accessors.jl:51",
      "",
      "Stacktrace:",
      "  [1] (::RecipesPipeline.var\"#56#57\")(dt::Float64)",
      "    @ RecipesPipeline ~/.julia/packages/RecipesPipeline/Bxu2O/src/recipes.jl:10",
      "  [2] iterate",
      "    @ ./generator.jl:47 [inlined]",
      "  [3] collect_to!(dest::Matrix{Int64}, itr::Base.Generator{Matrix{Any}, RecipesPipeline.var\"#56#57\"}, offs::Int64, st::Int64)",
      "    @ Base ./array.jl:782",
      "  [4] collect_to_with_first!(dest::Matrix{Int64}, v1::Int64, itr::Base.Generator{Matrix{Any}, RecipesPipeline.var\"#56#57\"}, st::Int64)",
      "    @ Base ./array.jl:760",
      "  [5] _collect(c::Matrix{Any}, itr::Base.Generator{Matrix{Any}, RecipesPipeline.var\"#56#57\"}, #unused#::Base.EltypeUnknown, isz::Base.HasShape{2})",
      "    @ Base ./array.jl:754",
      "  [6] collect_similar(cont::Matrix{Any}, itr::Base.Generator{Matrix{Any}, RecipesPipeline.var\"#56#57\"})",
      "    @ Base ./array.jl:653",
      "  [7] map(f::Function, A::Matrix{Any})",
      "    @ Base ./abstractarray.jl:2849",
      "  [8] _apply_type_recipe(plotattributes::Any, v::AbstractArray, letter::Any)",
      "    @ RecipesPipeline ~/.julia/packages/RecipesPipeline/Bxu2O/src/type_recipe.jl:44",
      "  [9] macro expansion",
      "    @ ~/.julia/packages/RecipesPipeline/Bxu2O/src/user_recipe.jl:124 [inlined]",
      " [10] apply_recipe(plotattributes::AbstractDict{Symbol, Any}, x::Any, y::Any, z::Any)",
      "    @ RecipesPipeline ~/.julia/packages/RecipesBase/qpxEX/src/RecipesBase.jl:289",
      " [11] _process_userrecipes!(plt::Any, plotattributes::Any, args::Any)",
      "    @ RecipesPipeline ~/.julia/packages/RecipesPipeline/Bxu2O/src/user_recipe.jl:36",
      " [12] recipe_pipeline!(plt::Any, plotattributes::Any, args::Any)",
      "    @ RecipesPipeline ~/.julia/packages/RecipesPipeline/Bxu2O/src/RecipesPipeline.jl:70",
      " [13] _plot!(plt::Plots.Plot, plotattributes::Any, args::Any)",
      "    @ Plots ~/.julia/packages/Plots/Xv2qA/src/plot.jl:208",
      " [14] plot(args::Any; kw::Base.Pairs{Symbol, V, Tuple{Vararg{Symbol, N}}, NamedTuple{names, T}} where {V, N, names, T<:Tuple{Vararg{Any, N}}})",
      "    @ Plots ~/.julia/packages/Plots/Xv2qA/src/plot.jl:91",
      " [15] plot(args::Any)",
      "    @ Plots ~/.julia/packages/Plots/Xv2qA/src/plot.jl:85",
      " [16] top-level scope",
      "    @ In[80]:1",
      " [17] eval",
      "    @ ./boot.jl:373 [inlined]",
      " [18] include_string(mapexpr::typeof(REPL.softscope), mod::Module, code::String, filename::String)",
      "    @ Base ./loading.jl:1196"
     ]
    }
   ],
   "source": [
    "plot(Matrix(df[1]))\n",
    "permutedims(df, 1)"
   ]
  },
  {
   "cell_type": "code",
   "execution_count": null,
   "id": "cdf1074f",
   "metadata": {},
   "outputs": [],
   "source": []
  }
 ],
 "metadata": {
  "direction": "ltr",
  "kernelspec": {
   "display_name": "Julia 1.8.3",
   "language": "julia",
   "name": "julia-1.8"
  },
  "language_info": {
   "file_extension": ".jl",
   "mimetype": "application/julia",
   "name": "julia",
   "version": "1.8.3"
  },
  "widgets": {
   "application/vnd.jupyter.widget-state+json": {
    "state": {},
    "version_major": 2,
    "version_minor": 0
   }
  }
 },
 "nbformat": 4,
 "nbformat_minor": 5
}
