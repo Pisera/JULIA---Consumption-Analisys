{
 "cells": [
  {
   "cell_type": "markdown",
   "id": "bf19240d",
   "metadata": {},
   "source": [
    "# Analisi dei consumi elettrici di un utente domestico\n",
    "\n",
    "* A. input data - 1. year 2.mese <br>\n",
    "* B. data format- .csv\n",
    "* C. results - 1. Consumo energetico totale [kWh] 2. Consumo energetico giornaliero per ogni giorno del mese [kWh]\n",
    "> Consumi casa Silvia.\n",
    "\n",
    "<div class=\"alert alert-block alert-info\">\n",
    "<b>Tip:</b> Use blue boxes (alert-info) for tips and notes. \n",
    "If it’s a note, you don’t have to include the word “Note”.\n",
    "</div>"
   ]
  },
  {
   "cell_type": "markdown",
   "id": "0ad2f592",
   "metadata": {},
   "source": [
    "## 1. Preambolo"
   ]
  },
  {
   "cell_type": "code",
   "execution_count": 1,
   "id": "patent-affect",
   "metadata": {
    "scrolled": true
   },
   "outputs": [
    {
     "name": "stderr",
     "output_type": "stream",
     "text": [
      "\u001b[32m\u001b[1m    Updating\u001b[22m\u001b[39m registry at `~/.julia/registries/General.toml`\n",
      "\u001b[32m\u001b[1m   Resolving\u001b[22m\u001b[39m package versions...\n",
      "\u001b[32m\u001b[1m  No Changes\u001b[22m\u001b[39m to `~/.julia/environments/v1.7/Project.toml`\n",
      "\u001b[32m\u001b[1m  No Changes\u001b[22m\u001b[39m to `~/.julia/environments/v1.7/Manifest.toml`\n",
      "\u001b[32m\u001b[1m   Resolving\u001b[22m\u001b[39m package versions...\n",
      "\u001b[32m\u001b[1m  No Changes\u001b[22m\u001b[39m to `~/.julia/environments/v1.7/Project.toml`\n",
      "\u001b[32m\u001b[1m  No Changes\u001b[22m\u001b[39m to `~/.julia/environments/v1.7/Manifest.toml`\n",
      "\u001b[32m\u001b[1m   Resolving\u001b[22m\u001b[39m package versions...\n",
      "\u001b[32m\u001b[1m  No Changes\u001b[22m\u001b[39m to `~/.julia/environments/v1.7/Project.toml`\n",
      "\u001b[32m\u001b[1m  No Changes\u001b[22m\u001b[39m to `~/.julia/environments/v1.7/Manifest.toml`\n",
      "\u001b[32m\u001b[1m   Resolving\u001b[22m\u001b[39m package versions...\n",
      "\u001b[32m\u001b[1m    Updating\u001b[22m\u001b[39m `~/.julia/environments/v1.7/Project.toml`\n",
      " \u001b[90m [ade2ca70] \u001b[39m\u001b[92m+ Dates\u001b[39m\n",
      "\u001b[32m\u001b[1m  No Changes\u001b[22m\u001b[39m to `~/.julia/environments/v1.7/Manifest.toml`\n"
     ]
    }
   ],
   "source": [
    "using Pkg\n",
    "Pkg.add(\"CSV\")\n",
    "Pkg.add(\"DataFrames\")\n",
    "Pkg.add(\"Plots\")\n",
    "Pkg.add(\"Dates\")\n",
    "\n",
    "using CSV\n",
    "using DataFrames\n",
    "using Plots\n",
    "using Dates"
   ]
  },
  {
   "cell_type": "markdown",
   "id": "fancy-cursor",
   "metadata": {},
   "source": [
    "## 2. Importa dati consumi in un dataframe\n",
    "\n",
    "read CSV 2021 <br\n",
    "\n",
    "Esempio per importare 12 mesi da una cartella"
   ]
  },
  {
   "cell_type": "code",
   "execution_count": 2,
   "id": "650bd4a1",
   "metadata": {
    "scrolled": true
   },
   "outputs": [],
   "source": [
    "#input\n",
    "year = \"2021\"\n",
    "months = [\"gennaio\",\"febbraio\",\"marzo\",\"aprile\",\"maggio\",\"giugno\",\n",
    "\"luglio\",\"agosto\",\"settembre\",\"ottobre\",\"novembre\",\"dicembre\"]\n",
    "\n",
    "#inizializza dataframe\n",
    "df = []\n",
    "\n",
    "# output - dataframe annuale\n",
    "for i=1:12\n",
    "    \n",
    "    push!(df, CSV.read(\"data_\"*year*\"/ExportData_\"*months[i]*\".csv\", DataFrame, delim=';',\n",
    "    quoted=true, decimal=',', dateformat=\"dd/mm/yyyy\",header=1,drop=[:Column98]))\n",
    "    \n",
    "end\n",
    "\n",
    "# Osserva i risultati\n",
    "# i warning si accendono perche la prima riga dei csv non termina con ;\n",
    "# df è diventata una matrice con 12 righe\n",
    "# esempio\n",
    "# df[1] = data frame di gennaio\n",
    "# df[3]= data frame di marzo\n",
    "# df[2][:,95:end] = data frame di febbraio tutte le righe ultime tre colonne\n",
    "\n",
    "# esempio di come usare il data frame del 2021\n",
    "#df[2][:,95:end]\n",
    "\n",
    "# esempio su come avere il vettore che contiene i nomi delle colonne\n",
    "#names(df[2])\n",
    "\n",
    "# esempio di come avere il vettore che contiene tutti gli elementi di una colonna\n",
    "#df[2].\"00:00-00:15\"\n",
    "\n",
    "# esempio codice per saper che giorno della settimana era es Monday\n",
    "#Dates.dayname(df[1][10,1])\n",
    "\n",
    "# Number of day in the mounth\n",
    "#N_day = Int64(size(df[1],1))"
   ]
  },
  {
   "cell_type": "markdown",
   "id": "9df99853",
   "metadata": {},
   "source": [
    "## 3. Calcola il consumo annuale"
   ]
  },
  {
   "cell_type": "code",
   "execution_count": 3,
   "id": "b0d166f8",
   "metadata": {},
   "outputs": [
    {
     "data": {
      "text/plain": [
       "783.3139999999999"
      ]
     },
     "execution_count": 3,
     "metadata": {},
     "output_type": "execute_result"
    }
   ],
   "source": [
    "# Consumo annuale totale [kWh]\n",
    "consumi_annuali = sum(sum(df[i][:,j]) for j =2:97 for i=1:12)"
   ]
  },
  {
   "cell_type": "markdown",
   "id": "d3df5072",
   "metadata": {},
   "source": [
    "## 4. Calcola i consumi mensili"
   ]
  },
  {
   "cell_type": "code",
   "execution_count": 4,
   "id": "significant-combat",
   "metadata": {},
   "outputs": [
    {
     "data": {
      "text/plain": [
       "12-element Vector{Float64}:\n",
       " 70.0\n",
       " 56.33600000000002\n",
       " 88.217\n",
       " 62.38\n",
       " 58.69599999999999\n",
       " 52.347999999999985\n",
       " 53.87799999999999\n",
       " 43.21\n",
       " 57.023\n",
       " 72.74600000000004\n",
       " 86.39700000000002\n",
       " 82.08300000000001"
      ]
     },
     "execution_count": 4,
     "metadata": {},
     "output_type": "execute_result"
    }
   ],
   "source": [
    "# Consumo mensile totale [kWh]\n",
    "consumi_mensili = zeros(12)\n",
    "for i=1:12\n",
    " consumi_mensili[i] = sum(sum(df[i][:,j]) for j =2:97)\n",
    "end\n",
    "consumi_mensili"
   ]
  },
  {
   "cell_type": "markdown",
   "id": "c4a05a71",
   "metadata": {},
   "source": [
    "## 5. Calcola il consumo giornaliero e aggiungi al dataframe\n",
    "\n",
    "Alla colonna 98 del df vengono aggiunti il totale dei consumi giornalieri"
   ]
  },
  {
   "cell_type": "code",
   "execution_count": 5,
   "id": "b62248fd",
   "metadata": {
    "scrolled": true
   },
   "outputs": [
    {
     "data": {
      "text/html": [
       "<div class=\"data-frame\"><p>5 rows × 4 columns</p><table class=\"data-frame\"><thead><tr><th></th><th>23:15-23:30</th><th>23:30-23:45</th><th>23:45-00:00</th><th>ConsumiGiornalieri</th></tr><tr><th></th><th title=\"Float64\">Float64</th><th title=\"Float64\">Float64</th><th title=\"Float64\">Float64</th><th title=\"Float64\">Float64</th></tr></thead><tbody><tr><th>1</th><td>0.031</td><td>0.021</td><td>0.019</td><td>1.062</td></tr><tr><th>2</th><td>0.01</td><td>0.02</td><td>0.006</td><td>1.243</td></tr><tr><th>3</th><td>0.028</td><td>0.019</td><td>0.016</td><td>2.537</td></tr><tr><th>4</th><td>0.034</td><td>0.032</td><td>0.015</td><td>2.794</td></tr><tr><th>5</th><td>0.014</td><td>0.017</td><td>0.028</td><td>1.73</td></tr></tbody></table></div>"
      ],
      "text/latex": [
       "\\begin{tabular}{r|cccc}\n",
       "\t& 23:15-23:30 & 23:30-23:45 & 23:45-00:00 & ConsumiGiornalieri\\\\\n",
       "\t\\hline\n",
       "\t& Float64 & Float64 & Float64 & Float64\\\\\n",
       "\t\\hline\n",
       "\t1 & 0.031 & 0.021 & 0.019 & 1.062 \\\\\n",
       "\t2 & 0.01 & 0.02 & 0.006 & 1.243 \\\\\n",
       "\t3 & 0.028 & 0.019 & 0.016 & 2.537 \\\\\n",
       "\t4 & 0.034 & 0.032 & 0.015 & 2.794 \\\\\n",
       "\t5 & 0.014 & 0.017 & 0.028 & 1.73 \\\\\n",
       "\\end{tabular}\n"
      ],
      "text/plain": [
       "\u001b[1m5×4 DataFrame\u001b[0m\n",
       "\u001b[1m Row \u001b[0m│\u001b[1m 23:15-23:30 \u001b[0m\u001b[1m 23:30-23:45 \u001b[0m\u001b[1m 23:45-00:00 \u001b[0m\u001b[1m ConsumiGiornalieri \u001b[0m\n",
       "\u001b[1m     \u001b[0m│\u001b[90m Float64     \u001b[0m\u001b[90m Float64     \u001b[0m\u001b[90m Float64     \u001b[0m\u001b[90m Float64            \u001b[0m\n",
       "─────┼───────────────────────────────────────────────────────────\n",
       "   1 │       0.031        0.021        0.019               1.062\n",
       "   2 │       0.01         0.02         0.006               1.243\n",
       "   3 │       0.028        0.019        0.016               2.537\n",
       "   4 │       0.034        0.032        0.015               2.794\n",
       "   5 │       0.014        0.017        0.028               1.73"
      ]
     },
     "execution_count": 5,
     "metadata": {},
     "output_type": "execute_result"
    }
   ],
   "source": [
    "for m = 1:12\n",
    "    \n",
    "    N_day = Int64(size(df[m],1))\n",
    "    daily_E_cons = zeros(N_day)\n",
    "    \n",
    "    for g = 1:N_day\n",
    "        daily_E_cons[g] = sum(df[m][g,2:97])\n",
    "    end\n",
    "    \n",
    "    df[m].ConsumiGiornalieri = daily_E_cons\n",
    "    \n",
    "end\n",
    "\n",
    "\n",
    "\n",
    "df[5][1:5,95:98] "
   ]
  },
  {
   "cell_type": "markdown",
   "id": "95d69306",
   "metadata": {},
   "source": [
    "## 6. Aggiungi giorno della settimana al dataframe"
   ]
  },
  {
   "cell_type": "code",
   "execution_count": 6,
   "id": "f3fd28c7",
   "metadata": {},
   "outputs": [],
   "source": [
    "#for m = 1:12\n",
    " #   \n",
    "#    N_day = Int64(size(df[m],1))\n",
    "#    week_day = Array{String}(undef,N_day)\n",
    "#    \n",
    " #   for g = 1:N_day\n",
    "  #      week_day[g] = Dates.dayname(df[m][g,1])\n",
    "   # end\n",
    "    #\n",
    "    #df[m].GiornoSettimana = week_day\n",
    "   # \n",
    "#end"
   ]
  },
  {
   "cell_type": "markdown",
   "id": "e6ff97ea",
   "metadata": {},
   "source": [
    "## 7. Grafico dei consumi giornalieri su base quartoraria"
   ]
  },
  {
   "cell_type": "code",
   "execution_count": 7,
   "id": "73ed266d",
   "metadata": {},
   "outputs": [
    {
     "data": {
      "text/html": [
       "<div class=\"data-frame\"><p>31 rows × 4 columns</p><table class=\"data-frame\"><thead><tr><th></th><th>23:15-23:30</th><th>23:30-23:45</th><th>23:45-00:00</th><th>ConsumiGiornalieri</th></tr><tr><th></th><th title=\"Float64\">Float64</th><th title=\"Float64\">Float64</th><th title=\"Float64\">Float64</th><th title=\"Float64\">Float64</th></tr></thead><tbody><tr><th>1</th><td>0.004</td><td>0.003</td><td>0.004</td><td>0.761</td></tr><tr><th>2</th><td>0.004</td><td>0.003</td><td>0.004</td><td>0.734</td></tr><tr><th>3</th><td>0.042</td><td>0.059</td><td>0.061</td><td>1.627</td></tr><tr><th>4</th><td>0.071</td><td>0.074</td><td>0.067</td><td>4.56</td></tr><tr><th>5</th><td>0.063</td><td>0.056</td><td>0.099</td><td>4.018</td></tr><tr><th>6</th><td>0.007</td><td>0.007</td><td>0.007</td><td>3.404</td></tr><tr><th>7</th><td>0.06</td><td>0.05</td><td>0.05</td><td>4.597</td></tr><tr><th>8</th><td>0.032</td><td>0.024</td><td>0.02</td><td>2.867</td></tr><tr><th>9</th><td>0.009</td><td>0.007</td><td>0.007</td><td>1.499</td></tr><tr><th>10</th><td>0.004</td><td>0.004</td><td>0.014</td><td>3.525</td></tr><tr><th>11</th><td>0.04</td><td>0.048</td><td>0.061</td><td>2.134</td></tr><tr><th>12</th><td>0.031</td><td>0.024</td><td>0.01</td><td>3.027</td></tr><tr><th>13</th><td>0.037</td><td>0.039</td><td>0.037</td><td>1.578</td></tr><tr><th>14</th><td>0.006</td><td>0.007</td><td>0.006</td><td>2.321</td></tr><tr><th>15</th><td>0.069</td><td>0.068</td><td>0.056</td><td>3.05</td></tr><tr><th>16</th><td>0.034</td><td>0.036</td><td>0.048</td><td>2.269</td></tr><tr><th>17</th><td>0.021</td><td>0.021</td><td>0.022</td><td>3.834</td></tr><tr><th>18</th><td>0.035</td><td>0.016</td><td>0.028</td><td>1.696</td></tr><tr><th>19</th><td>0.006</td><td>0.011</td><td>0.028</td><td>1.259</td></tr><tr><th>20</th><td>0.003</td><td>0.004</td><td>0.003</td><td>0.876</td></tr><tr><th>21</th><td>0.04</td><td>0.059</td><td>0.031</td><td>1.476</td></tr><tr><th>22</th><td>0.017</td><td>0.006</td><td>0.021</td><td>2.106</td></tr><tr><th>23</th><td>0.044</td><td>0.042</td><td>0.041</td><td>2.605</td></tr><tr><th>24</th><td>0.032</td><td>0.027</td><td>0.027</td><td>2.262</td></tr><tr><th>25</th><td>0.068</td><td>0.067</td><td>0.02</td><td>1.649</td></tr><tr><th>26</th><td>0.004</td><td>0.003</td><td>0.004</td><td>0.84</td></tr><tr><th>27</th><td>0.057</td><td>0.055</td><td>0.057</td><td>2.179</td></tr><tr><th>28</th><td>0.005</td><td>0.004</td><td>0.005</td><td>1.156</td></tr><tr><th>29</th><td>0.004</td><td>0.003</td><td>0.004</td><td>1.261</td></tr><tr><th>30</th><td>0.025</td><td>0.023</td><td>0.023</td><td>1.994</td></tr><tr><th>&vellip;</th><td>&vellip;</td><td>&vellip;</td><td>&vellip;</td><td>&vellip;</td></tr></tbody></table></div>"
      ],
      "text/latex": [
       "\\begin{tabular}{r|cccc}\n",
       "\t& 23:15-23:30 & 23:30-23:45 & 23:45-00:00 & ConsumiGiornalieri\\\\\n",
       "\t\\hline\n",
       "\t& Float64 & Float64 & Float64 & Float64\\\\\n",
       "\t\\hline\n",
       "\t1 & 0.004 & 0.003 & 0.004 & 0.761 \\\\\n",
       "\t2 & 0.004 & 0.003 & 0.004 & 0.734 \\\\\n",
       "\t3 & 0.042 & 0.059 & 0.061 & 1.627 \\\\\n",
       "\t4 & 0.071 & 0.074 & 0.067 & 4.56 \\\\\n",
       "\t5 & 0.063 & 0.056 & 0.099 & 4.018 \\\\\n",
       "\t6 & 0.007 & 0.007 & 0.007 & 3.404 \\\\\n",
       "\t7 & 0.06 & 0.05 & 0.05 & 4.597 \\\\\n",
       "\t8 & 0.032 & 0.024 & 0.02 & 2.867 \\\\\n",
       "\t9 & 0.009 & 0.007 & 0.007 & 1.499 \\\\\n",
       "\t10 & 0.004 & 0.004 & 0.014 & 3.525 \\\\\n",
       "\t11 & 0.04 & 0.048 & 0.061 & 2.134 \\\\\n",
       "\t12 & 0.031 & 0.024 & 0.01 & 3.027 \\\\\n",
       "\t13 & 0.037 & 0.039 & 0.037 & 1.578 \\\\\n",
       "\t14 & 0.006 & 0.007 & 0.006 & 2.321 \\\\\n",
       "\t15 & 0.069 & 0.068 & 0.056 & 3.05 \\\\\n",
       "\t16 & 0.034 & 0.036 & 0.048 & 2.269 \\\\\n",
       "\t17 & 0.021 & 0.021 & 0.022 & 3.834 \\\\\n",
       "\t18 & 0.035 & 0.016 & 0.028 & 1.696 \\\\\n",
       "\t19 & 0.006 & 0.011 & 0.028 & 1.259 \\\\\n",
       "\t20 & 0.003 & 0.004 & 0.003 & 0.876 \\\\\n",
       "\t21 & 0.04 & 0.059 & 0.031 & 1.476 \\\\\n",
       "\t22 & 0.017 & 0.006 & 0.021 & 2.106 \\\\\n",
       "\t23 & 0.044 & 0.042 & 0.041 & 2.605 \\\\\n",
       "\t24 & 0.032 & 0.027 & 0.027 & 2.262 \\\\\n",
       "\t25 & 0.068 & 0.067 & 0.02 & 1.649 \\\\\n",
       "\t26 & 0.004 & 0.003 & 0.004 & 0.84 \\\\\n",
       "\t27 & 0.057 & 0.055 & 0.057 & 2.179 \\\\\n",
       "\t28 & 0.005 & 0.004 & 0.005 & 1.156 \\\\\n",
       "\t29 & 0.004 & 0.003 & 0.004 & 1.261 \\\\\n",
       "\t30 & 0.025 & 0.023 & 0.023 & 1.994 \\\\\n",
       "\t$\\dots$ & $\\dots$ & $\\dots$ & $\\dots$ & $\\dots$ \\\\\n",
       "\\end{tabular}\n"
      ],
      "text/plain": [
       "\u001b[1m31×4 DataFrame\u001b[0m\n",
       "\u001b[1m Row \u001b[0m│\u001b[1m 23:15-23:30 \u001b[0m\u001b[1m 23:30-23:45 \u001b[0m\u001b[1m 23:45-00:00 \u001b[0m\u001b[1m ConsumiGiornalieri \u001b[0m\n",
       "\u001b[1m     \u001b[0m│\u001b[90m Float64     \u001b[0m\u001b[90m Float64     \u001b[0m\u001b[90m Float64     \u001b[0m\u001b[90m Float64            \u001b[0m\n",
       "─────┼───────────────────────────────────────────────────────────\n",
       "   1 │       0.004        0.003        0.004               0.761\n",
       "   2 │       0.004        0.003        0.004               0.734\n",
       "   3 │       0.042        0.059        0.061               1.627\n",
       "   4 │       0.071        0.074        0.067               4.56\n",
       "   5 │       0.063        0.056        0.099               4.018\n",
       "   6 │       0.007        0.007        0.007               3.404\n",
       "   7 │       0.06         0.05         0.05                4.597\n",
       "   8 │       0.032        0.024        0.02                2.867\n",
       "   9 │       0.009        0.007        0.007               1.499\n",
       "  10 │       0.004        0.004        0.014               3.525\n",
       "  11 │       0.04         0.048        0.061               2.134\n",
       "  ⋮  │      ⋮            ⋮            ⋮               ⋮\n",
       "  22 │       0.017        0.006        0.021               2.106\n",
       "  23 │       0.044        0.042        0.041               2.605\n",
       "  24 │       0.032        0.027        0.027               2.262\n",
       "  25 │       0.068        0.067        0.02                1.649\n",
       "  26 │       0.004        0.003        0.004               0.84\n",
       "  27 │       0.057        0.055        0.057               2.179\n",
       "  28 │       0.005        0.004        0.005               1.156\n",
       "  29 │       0.004        0.003        0.004               1.261\n",
       "  30 │       0.025        0.023        0.023               1.994\n",
       "  31 │       0.009        0.008        0.007               2.836\n",
       "\u001b[36m                                                  10 rows omitted\u001b[0m"
      ]
     },
     "execution_count": 7,
     "metadata": {},
     "output_type": "execute_result"
    }
   ],
   "source": [
    "af = df[1]\n",
    "af[:,95:end]"
   ]
  },
  {
   "cell_type": "code",
   "execution_count": 18,
   "id": "629529e9",
   "metadata": {
    "scrolled": false
   },
   "outputs": [
    {
     "data": {
      "text/html": [
       "<div class=\"data-frame\"><p>2 rows × 2 columns</p><table class=\"data-frame\"><thead><tr><th></th><th>a</th><th>b</th></tr><tr><th></th><th title=\"Int64\">Int64</th><th title=\"Int64\">Int64</th></tr></thead><tbody><tr><th>1</th><td>1</td><td>3</td></tr><tr><th>2</th><td>2</td><td>4</td></tr></tbody></table></div>"
      ],
      "text/latex": [
       "\\begin{tabular}{r|cc}\n",
       "\t& a & b\\\\\n",
       "\t\\hline\n",
       "\t& Int64 & Int64\\\\\n",
       "\t\\hline\n",
       "\t1 & 1 & 3 \\\\\n",
       "\t2 & 2 & 4 \\\\\n",
       "\\end{tabular}\n"
      ],
      "text/plain": [
       "\u001b[1m2×2 DataFrame\u001b[0m\n",
       "\u001b[1m Row \u001b[0m│\u001b[1m a     \u001b[0m\u001b[1m b     \u001b[0m\n",
       "\u001b[1m     \u001b[0m│\u001b[90m Int64 \u001b[0m\u001b[90m Int64 \u001b[0m\n",
       "─────┼──────────────\n",
       "   1 │     1      3\n",
       "   2 │     2      4"
      ]
     },
     "execution_count": 18,
     "metadata": {},
     "output_type": "execute_result"
    }
   ],
   "source": [
    "jf = DataFrame(a=1:2, b=3:4)"
   ]
  },
  {
   "cell_type": "code",
   "execution_count": 19,
   "id": "4014ca3e",
   "metadata": {},
   "outputs": [
    {
     "ename": "LoadError",
     "evalue": "MethodError: no method matching permutedims(::DataFrame)\n\u001b[0mClosest candidates are:\n\u001b[0m  permutedims(::AbstractDataFrame, \u001b[91m::Union{AbstractString, Signed, Symbol, Unsigned}\u001b[39m; makeunique) at ~/.julia/packages/DataFrames/6xBiG/src/abstractdataframe/reshape.jl:661\n\u001b[0m  permutedims(::AbstractDataFrame, \u001b[91m::Union{AbstractString, Signed, Symbol, Unsigned}\u001b[39m, \u001b[91m::Union{AbstractString, Symbol}\u001b[39m; makeunique) at ~/.julia/packages/DataFrames/6xBiG/src/abstractdataframe/reshape.jl:638\n\u001b[0m  permutedims(\u001b[91m::StridedArray\u001b[39m, \u001b[91m::Any\u001b[39m) at /Applications/Julia-1.7.app/Contents/Resources/julia/share/julia/base/multidimensional.jl:1498\n\u001b[0m  ...",
     "output_type": "error",
     "traceback": [
      "MethodError: no method matching permutedims(::DataFrame)\n\u001b[0mClosest candidates are:\n\u001b[0m  permutedims(::AbstractDataFrame, \u001b[91m::Union{AbstractString, Signed, Symbol, Unsigned}\u001b[39m; makeunique) at ~/.julia/packages/DataFrames/6xBiG/src/abstractdataframe/reshape.jl:661\n\u001b[0m  permutedims(::AbstractDataFrame, \u001b[91m::Union{AbstractString, Signed, Symbol, Unsigned}\u001b[39m, \u001b[91m::Union{AbstractString, Symbol}\u001b[39m; makeunique) at ~/.julia/packages/DataFrames/6xBiG/src/abstractdataframe/reshape.jl:638\n\u001b[0m  permutedims(\u001b[91m::StridedArray\u001b[39m, \u001b[91m::Any\u001b[39m) at /Applications/Julia-1.7.app/Contents/Resources/julia/share/julia/base/multidimensional.jl:1498\n\u001b[0m  ...",
      "",
      "Stacktrace:",
      " [1] top-level scope",
      "   @ In[19]:1",
      " [2] eval",
      "   @ ./boot.jl:373 [inlined]",
      " [3] include_string(mapexpr::typeof(REPL.softscope), mod::Module, code::String, filename::String)",
      "   @ Base ./loading.jl:1196"
     ]
    }
   ],
   "source": [
    "permutedims(jf)"
   ]
  },
  {
   "cell_type": "code",
   "execution_count": 107,
   "id": "075c8c16",
   "metadata": {
    "scrolled": true
   },
   "outputs": [
    {
     "ename": "LoadError",
     "evalue": "Cannot convert DataFrameRow{DataFrame, DataFrames.SubIndex{DataFrames.Index, UnitRange{Int64}, UnitRange{Int64}}} to series data for plotting",
     "output_type": "error",
     "traceback": [
      "Cannot convert DataFrameRow{DataFrame, DataFrames.SubIndex{DataFrames.Index, UnitRange{Int64}, UnitRange{Int64}}} to series data for plotting",
      "",
      "Stacktrace:",
      "  [1] error(s::String)",
      "    @ Base ./error.jl:33",
      "  [2] _prepare_series_data(x::DataFrameRow{DataFrame, DataFrames.SubIndex{DataFrames.Index, UnitRange{Int64}, UnitRange{Int64}}})",
      "    @ RecipesPipeline ~/.julia/packages/RecipesPipeline/Bxu2O/src/series.jl:8",
      "  [3] _series_data_vector(x::DataFrameRow{DataFrame, DataFrames.SubIndex{DataFrames.Index, UnitRange{Int64}, UnitRange{Int64}}}, plotattributes::Dict{Symbol, Any})",
      "    @ RecipesPipeline ~/.julia/packages/RecipesPipeline/Bxu2O/src/series.jl:27",
      "  [4] macro expansion",
      "    @ ~/.julia/packages/RecipesPipeline/Bxu2O/src/series.jl:144 [inlined]",
      "  [5] apply_recipe(plotattributes::AbstractDict{Symbol, Any}, #unused#::Type{RecipesPipeline.SliceIt}, x::Any, y::Any, z::Any)",
      "    @ RecipesPipeline ~/.julia/packages/RecipesBase/qpxEX/src/RecipesBase.jl:289",
      "  [6] _process_userrecipes!(plt::Any, plotattributes::Any, args::Any)",
      "    @ RecipesPipeline ~/.julia/packages/RecipesPipeline/Bxu2O/src/user_recipe.jl:36",
      "  [7] recipe_pipeline!(plt::Any, plotattributes::Any, args::Any)",
      "    @ RecipesPipeline ~/.julia/packages/RecipesPipeline/Bxu2O/src/RecipesPipeline.jl:70",
      "  [8] _plot!(plt::Plots.Plot, plotattributes::Any, args::Any)",
      "    @ Plots ~/.julia/packages/Plots/Xv2qA/src/plot.jl:208",
      "  [9] plot(::Any, ::Vararg{Any}; kw::Base.Pairs{Symbol, V, Tuple{Vararg{Symbol, N}}, NamedTuple{names, T}} where {V, N, names, T<:Tuple{Vararg{Any, N}}})",
      "    @ Plots ~/.julia/packages/Plots/Xv2qA/src/plot.jl:91",
      " [10] plot(::Any, ::Any)",
      "    @ Plots ~/.julia/packages/Plots/Xv2qA/src/plot.jl:85",
      " [11] top-level scope",
      "    @ In[107]:2",
      " [12] eval",
      "    @ ./boot.jl:373 [inlined]",
      " [13] include_string(mapexpr::typeof(REPL.softscope), mod::Module, code::String, filename::String)",
      "    @ Base ./loading.jl:1196"
     ]
    }
   ],
   "source": [
    "frame = df[1][:,2:97]\n",
    "plot(1:96,df[1][1,2:97])"
   ]
  },
  {
   "cell_type": "code",
   "execution_count": 80,
   "id": "7c30ab99",
   "metadata": {
    "scrolled": true
   },
   "outputs": [
    {
     "ename": "LoadError",
     "evalue": "MethodError: no method matching value(::Float64)\n\u001b[0mClosest candidates are:\n\u001b[0m  value(\u001b[91m::Period\u001b[39m) at /Applications/Julia-1.7.app/Contents/Resources/julia/share/julia/stdlib/v1.7/Dates/src/periods.jl:10\n\u001b[0m  value(\u001b[91m::Time\u001b[39m) at /Applications/Julia-1.7.app/Contents/Resources/julia/share/julia/stdlib/v1.7/Dates/src/accessors.jl:52\n\u001b[0m  value(\u001b[91m::TimeType\u001b[39m) at /Applications/Julia-1.7.app/Contents/Resources/julia/share/julia/stdlib/v1.7/Dates/src/accessors.jl:51",
     "output_type": "error",
     "traceback": [
      "MethodError: no method matching value(::Float64)\n\u001b[0mClosest candidates are:\n\u001b[0m  value(\u001b[91m::Period\u001b[39m) at /Applications/Julia-1.7.app/Contents/Resources/julia/share/julia/stdlib/v1.7/Dates/src/periods.jl:10\n\u001b[0m  value(\u001b[91m::Time\u001b[39m) at /Applications/Julia-1.7.app/Contents/Resources/julia/share/julia/stdlib/v1.7/Dates/src/accessors.jl:52\n\u001b[0m  value(\u001b[91m::TimeType\u001b[39m) at /Applications/Julia-1.7.app/Contents/Resources/julia/share/julia/stdlib/v1.7/Dates/src/accessors.jl:51",
      "",
      "Stacktrace:",
      "  [1] (::RecipesPipeline.var\"#56#57\")(dt::Float64)",
      "    @ RecipesPipeline ~/.julia/packages/RecipesPipeline/Bxu2O/src/recipes.jl:10",
      "  [2] iterate",
      "    @ ./generator.jl:47 [inlined]",
      "  [3] collect_to!(dest::Matrix{Int64}, itr::Base.Generator{Matrix{Any}, RecipesPipeline.var\"#56#57\"}, offs::Int64, st::Int64)",
      "    @ Base ./array.jl:782",
      "  [4] collect_to_with_first!(dest::Matrix{Int64}, v1::Int64, itr::Base.Generator{Matrix{Any}, RecipesPipeline.var\"#56#57\"}, st::Int64)",
      "    @ Base ./array.jl:760",
      "  [5] _collect(c::Matrix{Any}, itr::Base.Generator{Matrix{Any}, RecipesPipeline.var\"#56#57\"}, #unused#::Base.EltypeUnknown, isz::Base.HasShape{2})",
      "    @ Base ./array.jl:754",
      "  [6] collect_similar(cont::Matrix{Any}, itr::Base.Generator{Matrix{Any}, RecipesPipeline.var\"#56#57\"})",
      "    @ Base ./array.jl:653",
      "  [7] map(f::Function, A::Matrix{Any})",
      "    @ Base ./abstractarray.jl:2849",
      "  [8] _apply_type_recipe(plotattributes::Any, v::AbstractArray, letter::Any)",
      "    @ RecipesPipeline ~/.julia/packages/RecipesPipeline/Bxu2O/src/type_recipe.jl:44",
      "  [9] macro expansion",
      "    @ ~/.julia/packages/RecipesPipeline/Bxu2O/src/user_recipe.jl:124 [inlined]",
      " [10] apply_recipe(plotattributes::AbstractDict{Symbol, Any}, x::Any, y::Any, z::Any)",
      "    @ RecipesPipeline ~/.julia/packages/RecipesBase/qpxEX/src/RecipesBase.jl:289",
      " [11] _process_userrecipes!(plt::Any, plotattributes::Any, args::Any)",
      "    @ RecipesPipeline ~/.julia/packages/RecipesPipeline/Bxu2O/src/user_recipe.jl:36",
      " [12] recipe_pipeline!(plt::Any, plotattributes::Any, args::Any)",
      "    @ RecipesPipeline ~/.julia/packages/RecipesPipeline/Bxu2O/src/RecipesPipeline.jl:70",
      " [13] _plot!(plt::Plots.Plot, plotattributes::Any, args::Any)",
      "    @ Plots ~/.julia/packages/Plots/Xv2qA/src/plot.jl:208",
      " [14] plot(args::Any; kw::Base.Pairs{Symbol, V, Tuple{Vararg{Symbol, N}}, NamedTuple{names, T}} where {V, N, names, T<:Tuple{Vararg{Any, N}}})",
      "    @ Plots ~/.julia/packages/Plots/Xv2qA/src/plot.jl:91",
      " [15] plot(args::Any)",
      "    @ Plots ~/.julia/packages/Plots/Xv2qA/src/plot.jl:85",
      " [16] top-level scope",
      "    @ In[80]:1",
      " [17] eval",
      "    @ ./boot.jl:373 [inlined]",
      " [18] include_string(mapexpr::typeof(REPL.softscope), mod::Module, code::String, filename::String)",
      "    @ Base ./loading.jl:1196"
     ]
    }
   ],
   "source": [
    "plot(Matrix(df[1]))\n",
    "permutedims(df, 1)"
   ]
  },
  {
   "cell_type": "code",
   "execution_count": null,
   "id": "cdf1074f",
   "metadata": {},
   "outputs": [],
   "source": []
  }
 ],
 "metadata": {
  "direction": "ltr",
  "kernelspec": {
   "display_name": "Julia 1.7.0",
   "language": "julia",
   "name": "julia-1.7"
  },
  "language_info": {
   "file_extension": ".jl",
   "mimetype": "application/julia",
   "name": "julia",
   "version": "1.7.0"
  },
  "widgets": {
   "application/vnd.jupyter.widget-state+json": {
    "state": {},
    "version_major": 2,
    "version_minor": 0
   }
  }
 },
 "nbformat": 4,
 "nbformat_minor": 5
}
